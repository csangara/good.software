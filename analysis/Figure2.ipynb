{
 "cells": [
  {
   "cell_type": "markdown",
   "metadata": {},
   "source": [
    "# Good Software - analysis notebook 2\n",
    "## Reproducting all panels for Figure 2\n",
    "\n",
    "This notebook contains all Python code necessary to reproduce all panels from the Figure 2 of our paper.\n",
    "\n",
    "**Github**: https://github.com/smangul1/good.software\n",
    "\n",
    "**Manuscript**:"
   ]
  },
  {
   "cell_type": "markdown",
   "metadata": {},
   "source": [
    "### Importing Libraries"
   ]
  },
  {
   "cell_type": "code",
   "execution_count": 1,
   "metadata": {},
   "outputs": [],
   "source": [
    "from __future__ import division\n",
    "import pylab as pl\n",
    "import numpy as np\n",
    "import pandas as pd\n",
    "import matplotlib.pyplot as plt\n",
    "from scipy import stats\n",
    "import math\n",
    "import seaborn as sns  #be sure version >=0.9"
   ]
  },
  {
   "cell_type": "code",
   "execution_count": 2,
   "metadata": {},
   "outputs": [],
   "source": [
    "# function for generating significance stars\n",
    "def my_star(p_value):\n",
    "    if p_value <= 0.001:\n",
    "        return \"***\"\n",
    "    elif p_value <= 0.01:\n",
    "        return \"**\"\n",
    "    elif p_value <= 0.05:\n",
    "        return \"*\"\n",
    "    else:\n",
    "        return \"None\"\n",
    "    "
   ]
  },
  {
   "cell_type": "code",
   "execution_count": 3,
   "metadata": {},
   "outputs": [],
   "source": [
    "class my_colors: \n",
    "    red = (1.0,0.2,0.1)\n",
    "    orange = (1.0,0.6,0.2)\n",
    "    green = (0.3,0.9,0.3)\n",
    "    blue = (0.3,0.7,1.0)\n",
    "    \n",
    "def simpleaxis(ax):\n",
    "    ax.spines['top'].set_visible(False)\n",
    "    ax.spines['right'].set_visible(False)\n",
    "    ax.get_xaxis().tick_bottom()\n",
    "    ax.get_yaxis().tick_left()    \n",
    "\n",
    "# class my_params:\n",
    "#     fontsize = 14\n",
    "#     dot_size = 5"
   ]
  },
  {
   "cell_type": "markdown",
   "metadata": {},
   "source": [
    "### Importing and Parsing Data"
   ]
  },
  {
   "cell_type": "code",
   "execution_count": 4,
   "metadata": {},
   "outputs": [
    {
     "data": {
      "text/html": [
       "<div>\n",
       "<style scoped>\n",
       "    .dataframe tbody tr th:only-of-type {\n",
       "        vertical-align: middle;\n",
       "    }\n",
       "\n",
       "    .dataframe tbody tr th {\n",
       "        vertical-align: top;\n",
       "    }\n",
       "\n",
       "    .dataframe thead th {\n",
       "        text-align: right;\n",
       "    }\n",
       "</style>\n",
       "<table border=\"1\" class=\"dataframe\">\n",
       "  <thead>\n",
       "    <tr style=\"text-align: right;\">\n",
       "      <th></th>\n",
       "      <th>Unnamed: 0</th>\n",
       "      <th>Source</th>\n",
       "      <th>Normalized citations</th>\n",
       "      <th>Commands</th>\n",
       "      <th>Commands Listed</th>\n",
       "      <th>Time To Install</th>\n",
       "      <th>Difficulty Status</th>\n",
       "      <th>Example Provided</th>\n",
       "    </tr>\n",
       "  </thead>\n",
       "  <tbody>\n",
       "    <tr>\n",
       "      <th>0</th>\n",
       "      <td>1</td>\n",
       "      <td>Bioconda</td>\n",
       "      <td>1122.600000</td>\n",
       "      <td>1.0</td>\n",
       "      <td>1.0</td>\n",
       "      <td>5</td>\n",
       "      <td>2</td>\n",
       "      <td>Y</td>\n",
       "    </tr>\n",
       "    <tr>\n",
       "      <th>1</th>\n",
       "      <td>2</td>\n",
       "      <td>Bioconda</td>\n",
       "      <td>13.833333</td>\n",
       "      <td>1.0</td>\n",
       "      <td>1.0</td>\n",
       "      <td>5</td>\n",
       "      <td>2</td>\n",
       "      <td>Y</td>\n",
       "    </tr>\n",
       "    <tr>\n",
       "      <th>2</th>\n",
       "      <td>3</td>\n",
       "      <td>Bioconda</td>\n",
       "      <td>5.142857</td>\n",
       "      <td>1.0</td>\n",
       "      <td>1.0</td>\n",
       "      <td>5</td>\n",
       "      <td>2</td>\n",
       "      <td>Y</td>\n",
       "    </tr>\n",
       "    <tr>\n",
       "      <th>3</th>\n",
       "      <td>4</td>\n",
       "      <td>Bioconda</td>\n",
       "      <td>163.200000</td>\n",
       "      <td>1.0</td>\n",
       "      <td>1.0</td>\n",
       "      <td>5</td>\n",
       "      <td>2</td>\n",
       "      <td>Y</td>\n",
       "    </tr>\n",
       "    <tr>\n",
       "      <th>4</th>\n",
       "      <td>5</td>\n",
       "      <td>Bioconda</td>\n",
       "      <td>247.400000</td>\n",
       "      <td>1.0</td>\n",
       "      <td>1.0</td>\n",
       "      <td>15</td>\n",
       "      <td>2</td>\n",
       "      <td>Y</td>\n",
       "    </tr>\n",
       "  </tbody>\n",
       "</table>\n",
       "</div>"
      ],
      "text/plain": [
       "   Unnamed: 0   Source   Normalized citations  Commands  Commands Listed  \\\n",
       "0           1  Bioconda           1122.600000       1.0              1.0   \n",
       "1           2  Bioconda             13.833333       1.0              1.0   \n",
       "2           3  Bioconda              5.142857       1.0              1.0   \n",
       "3           4  Bioconda            163.200000       1.0              1.0   \n",
       "4           5  Bioconda            247.400000       1.0              1.0   \n",
       "\n",
       "   Time To Install  Difficulty Status Example Provided  \n",
       "0                5                  2                Y  \n",
       "1                5                  2                Y  \n",
       "2                5                  2                Y  \n",
       "3                5                  2                Y  \n",
       "4               15                  2                Y  "
      ]
     },
     "execution_count": 4,
     "metadata": {},
     "output_type": "execute_result"
    }
   ],
   "source": [
    "data = pd.read_csv('usability_cleaned_data.csv')\n",
    "data.head()"
   ]
  },
  {
   "cell_type": "markdown",
   "metadata": {},
   "source": [
    "### Clean Column Names for Filtering"
   ]
  },
  {
   "cell_type": "code",
   "execution_count": 5,
   "metadata": {},
   "outputs": [
    {
     "name": "stdout",
     "output_type": "stream",
     "text": [
      "Index(['Unnamed:_0', 'Source_', 'Normalized_citations', 'Commands',\n",
      "       'Commands_Listed', 'Time_To_Install', 'Difficulty_Status',\n",
      "       'Example_Provided'],\n",
      "      dtype='object')\n"
     ]
    }
   ],
   "source": [
    "data.columns = [c.replace(' ', '_') for c in data.columns]\n",
    "print(data.columns)"
   ]
  },
  {
   "cell_type": "code",
   "execution_count": 6,
   "metadata": {},
   "outputs": [
    {
     "name": "stdout",
     "output_type": "stream",
     "text": [
      "<class 'pandas.core.frame.DataFrame'>\n",
      "RangeIndex: 98 entries, 0 to 97\n",
      "Data columns (total 8 columns):\n",
      "Unnamed:_0              98 non-null int64\n",
      "Source_                 47 non-null object\n",
      "Normalized_citations    98 non-null float64\n",
      "Commands                82 non-null float64\n",
      "Commands_Listed         80 non-null float64\n",
      "Time_To_Install         98 non-null int64\n",
      "Difficulty_Status       98 non-null int64\n",
      "Example_Provided        98 non-null object\n",
      "dtypes: float64(3), int64(3), object(2)\n",
      "memory usage: 6.2+ KB\n"
     ]
    }
   ],
   "source": [
    "data.info()"
   ]
  },
  {
   "cell_type": "markdown",
   "metadata": {},
   "source": [
    "## Data Overview of Tools based on Installation Difficulty"
   ]
  },
  {
   "cell_type": "code",
   "execution_count": 7,
   "metadata": {},
   "outputs": [],
   "source": [
    "# Summary for Impossible Install\n",
    "dif_status = data[(data.Difficulty_Status==0)]\n",
    "length = len(dif_status.index)\n",
    "\n",
    "dif_5_15_time = dif_status[(dif_status.Time_To_Install >= 0) & (dif_status.Time_To_Install <= 15)]\n",
    "dif_30_60_time = dif_status[(dif_status.Time_To_Install >= 30) & (dif_status.Time_To_Install < 60)]\n",
    "dif_60_time = dif_status[(dif_status.Time_To_Install >= 60)]\n",
    "\n",
    "dif_ex_y = dif_status[(dif_status.Example_Provided == 'Y')]\n",
    "dif_ex_n = dif_status[(dif_status.Example_Provided == 'N')]\n",
    "\n",
    "dif_auto = dif_status[(dif_status.Commands == dif_status.Commands_Listed)]"
   ]
  },
  {
   "cell_type": "code",
   "execution_count": 8,
   "metadata": {},
   "outputs": [
    {
     "data": {
      "image/png": "[encoded data removed]",
      "text/plain": [
       "<Figure size 187.2x144 with 1 Axes>"
      ]
     },
     "metadata": {
      "needs_background": "light"
     },
     "output_type": "display_data"
    }
   ],
   "source": [
    "#pos 1 will be User Intervention Required\n",
    "#pos 2 will be Example Provided\n",
    "#pos 3 will be Time bins\n",
    "N = 3\n",
    "\n",
    "green = (len(dif_auto.index)/length, len(dif_ex_y.index)/length, len(dif_5_15_time.index)/length)\n",
    "\n",
    "yellow = (0, 0, len(dif_30_60_time.index)/length)\n",
    "\n",
    "red = ((length-len(dif_auto.index))/length,\n",
    "         len(dif_ex_n.index)/length,\n",
    "         len(dif_60_time.index)/length)\n",
    "\n",
    "\n",
    "\n",
    "ind = np.arange(N)    # the x locations for the groups\n",
    "width = 0.6       # the width of the bars: can also be len(x) sequence\n",
    "\n",
    "f, ax = plt.subplots(1, 1, figsize=(2.6,2))\n",
    "\n",
    "p1 = plt.bar(ind, green, width, color=my_colors.green)\n",
    "p2 = plt.bar(ind, yellow, width, color=my_colors.orange,\n",
    "             bottom=green)\n",
    "p3 = plt.bar(ind, red, width, color=my_colors.red,\n",
    "             bottom=np.array(yellow)+np.array(green))\n",
    "\n",
    "simpleaxis(ax)\n",
    "\n",
    "ax.set_ylabel('Proportion of tools', fontsize=11.5)\n",
    "ax.set_title('Impossible Tools')\n",
    "\n",
    "ax.set_xlim(-0.5,2.4)\n",
    "ax.set_xticks(ind)\n",
    "ax.set_xticklabels(['Automatic\\nInstall', 'Example\\nProvided', 'Install\\nTime'])\n",
    "                   \n",
    "ax.set_yticks(np.arange(0.0, 1.2, 0.2))\n",
    "ax.set_yticklabels(map(lambda x: '{:2.1f}'.format(x), np.arange(0.0, 1.1, 0.2)), fontsize=9)\n",
    "ax.set_ylim(0,1.05)\n",
    "\n",
    "plt.legend((p1[0], p2[0], p3[0]), ('Yes or 5-15 Minutes', '30-60 Minutes', 'No or > 60 mins'), \n",
    "            frameon=False, bbox_to_anchor=(1,1), fontsize=12)\n",
    "\n",
    "plt.savefig('Figure_2_panels/Impossibru_summary.pdf')"
   ]
  },
  {
   "cell_type": "code",
   "execution_count": 9,
   "metadata": {},
   "outputs": [],
   "source": [
    "# Summary for Impossible Install\n",
    "dif_status = data[(data.Difficulty_Status==1)]\n",
    "length = len(dif_status.index)\n",
    "\n",
    "dif_5_15_time = dif_status[(dif_status.Time_To_Install >= 0) & (dif_status.Time_To_Install <= 15)]\n",
    "dif_30_60_time = dif_status[(dif_status.Time_To_Install >= 30) & (dif_status.Time_To_Install < 60)]\n",
    "dif_60_time = dif_status[(dif_status.Time_To_Install >= 60)]\n",
    "\n",
    "dif_ex_y = dif_status[(dif_status.Example_Provided == 'Y')]\n",
    "dif_ex_n = dif_status[(dif_status.Example_Provided == 'N')]\n",
    "\n",
    "dif_auto = dif_status[(dif_status.Commands == dif_status.Commands_Listed)]"
   ]
  },
  {
   "cell_type": "code",
   "execution_count": 10,
   "metadata": {},
   "outputs": [
    {
     "data": {
      "image/png": "[encoded data removed]",
      "text/plain": [
       "<Figure size 187.2x144 with 1 Axes>"
      ]
     },
     "metadata": {
      "needs_background": "light"
     },
     "output_type": "display_data"
    }
   ],
   "source": [
    "#pos 1 will be User Intervention Required\n",
    "#pos 2 will be Example Provided\n",
    "#pos 3 will be Time bins\n",
    "N = 3\n",
    "\n",
    "green = (len(dif_auto.index)/length, len(dif_ex_y.index)/length, len(dif_5_15_time.index)/length)\n",
    "\n",
    "yellow = (0, 0, len(dif_30_60_time.index)/length)\n",
    "\n",
    "red = ((length-len(dif_auto.index))/length,\n",
    "         len(dif_ex_n.index)/length,\n",
    "         len(dif_60_time.index)/length)\n",
    "\n",
    "\n",
    "\n",
    "ind = np.arange(N)    # the x locations for the groups\n",
    "width = 0.6       # the width of the bars: can also be len(x) sequence\n",
    "\n",
    "f, ax = plt.subplots(1, 1, figsize=(2.6,2))\n",
    "\n",
    "p1 = plt.bar(ind, green, width, color=my_colors.green)\n",
    "p2 = plt.bar(ind, yellow, width, color=my_colors.orange,\n",
    "             bottom=green)\n",
    "p3 = plt.bar(ind, red, width, color=my_colors.red,\n",
    "             bottom=np.array(yellow)+np.array(green))\n",
    "\n",
    "simpleaxis(ax)\n",
    "\n",
    "ax.set_ylabel('Proportion of tools', fontsize=11.5)\n",
    "ax.set_title('Hard Tools')\n",
    "\n",
    "ax.set_xlim(-0.5,2.4)\n",
    "ax.set_xticks(ind)\n",
    "ax.set_xticklabels(['Automatic\\nInstall', 'Example\\nProvided', 'Install\\nTime'])\n",
    "                   \n",
    "ax.set_yticks(np.arange(0.0, 1.2, 0.2))\n",
    "ax.set_yticklabels(map(lambda x: '{:2.1f}'.format(x), np.arange(0.0, 1.1, 0.2)), fontsize=9)\n",
    "ax.set_ylim(0,1.05)\n",
    "\n",
    "plt.legend((p1[0], p2[0], p3[0]), ('Yes or 5-15 Minutes', '30-60 Minutes', 'No or > 60 mins'), \n",
    "            frameon=False, bbox_to_anchor=(1,1), fontsize=12)\n",
    "\n",
    "plt.savefig('Figure_2_panels/Hard_summary.pdf')"
   ]
  },
  {
   "cell_type": "code",
   "execution_count": 11,
   "metadata": {},
   "outputs": [],
   "source": [
    "# Summary for Impossible Install\n",
    "dif_status = data[(data.Difficulty_Status==2)]\n",
    "length = len(dif_status.index)\n",
    "\n",
    "dif_5_15_time = dif_status[(dif_status.Time_To_Install >= 0) & (dif_status.Time_To_Install <= 15)]\n",
    "dif_30_60_time = dif_status[(dif_status.Time_To_Install >= 30) & (dif_status.Time_To_Install < 60)]\n",
    "dif_60_time = dif_status[(dif_status.Time_To_Install >= 60)]\n",
    "\n",
    "dif_ex_y = dif_status[(dif_status.Example_Provided == 'Y')]\n",
    "dif_ex_n = dif_status[(dif_status.Example_Provided == 'N')]\n",
    "\n",
    "dif_auto = dif_status[(dif_status.Commands == dif_status.Commands_Listed)]"
   ]
  },
  {
   "cell_type": "code",
   "execution_count": 12,
   "metadata": {},
   "outputs": [
    {
     "data": {
      "image/png": "[encoded data removed]",
      "text/plain": [
       "<Figure size 187.2x144 with 1 Axes>"
      ]
     },
     "metadata": {
      "needs_background": "light"
     },
     "output_type": "display_data"
    }
   ],
   "source": [
    "#pos 1 will be User Intervention Required\n",
    "#pos 2 will be Example Provided\n",
    "#pos 3 will be Time bins\n",
    "N = 3\n",
    "\n",
    "green = (len(dif_auto.index)/length, len(dif_ex_y.index)/length, len(dif_5_15_time.index)/length)\n",
    "\n",
    "yellow = (0, 0, len(dif_30_60_time.index)/length)\n",
    "\n",
    "red = ((length-len(dif_auto.index))/length,\n",
    "         len(dif_ex_n.index)/length,\n",
    "         len(dif_60_time.index)/length)\n",
    "\n",
    "\n",
    "\n",
    "ind = np.arange(N)    # the x locations for the groups\n",
    "width = 0.6       # the width of the bars: can also be len(x) sequence\n",
    "\n",
    "f, ax = plt.subplots(1, 1, figsize=(2.6,2))\n",
    "\n",
    "p1 = plt.bar(ind, green, width, color=my_colors.green)\n",
    "p2 = plt.bar(ind, yellow, width, color=my_colors.orange,\n",
    "             bottom=green)\n",
    "p3 = plt.bar(ind, red, width, color=my_colors.red,\n",
    "             bottom=np.array(yellow)+np.array(green))\n",
    "\n",
    "simpleaxis(ax)\n",
    "\n",
    "ax.set_ylabel('Proportion of tools', fontsize=11.5)\n",
    "ax.set_title('Easy Tools')\n",
    "\n",
    "ax.set_xlim(-0.5,2.4)\n",
    "ax.set_xticks(ind)\n",
    "ax.set_xticklabels(['Automatic\\nInstall', 'Example\\nProvided', 'Install\\nTime'])\n",
    "                   \n",
    "ax.set_yticks(np.arange(0.0, 1.2, 0.2))\n",
    "ax.set_yticklabels(map(lambda x: '{:2.1f}'.format(x), np.arange(0.0, 1.1, 0.2)), fontsize=9)\n",
    "ax.set_ylim(0,1.05)\n",
    "\n",
    "plt.legend((p1[0], p2[0], p3[0]), ('Yes or 5-15 Minutes', '30-60 Minutes', 'No or > 60 mins'), \n",
    "            frameon=False, bbox_to_anchor=(1,1), fontsize=12)\n",
    "\n",
    "plt.savefig('Figure_2_panels/Easy_summary.pdf')"
   ]
  },
  {
   "cell_type": "markdown",
   "metadata": {},
   "source": [
    "\n",
    "## FIGURE A: Summary Pie Charts of the Data\n",
    "### FIGURE A.1: Complex, Easy, and Not Installed"
   ]
  },
  {
   "cell_type": "code",
   "execution_count": 13,
   "metadata": {},
   "outputs": [
    {
     "data": {
      "image/png": "[encoded data removed]",
      "text/plain": [
       "<Figure size 432x288 with 1 Axes>"
      ]
     },
     "metadata": {
      "needs_background": "light"
     },
     "output_type": "display_data"
    }
   ],
   "source": [
    "statuses = np.array(data[\"Difficulty_Status\"])\n",
    "\n",
    "\n",
    "f, ax = pl.subplots(1, 1)\n",
    "ax.hist(statuses, np.arange(-1.5,6,1), edgecolor=(0.2,0.2,0.2), lw=3, \n",
    "            color=(0.2,0.6,1.0))\n",
    "\n",
    "ax.set_ylabel('Count')\n",
    "ax.set_xticks([0, 1, 2])\n",
    "ax.set_xticklabels( ['Impossible', 'Hard', 'Easy'], rotation=-45 )\n",
    "\n",
    "pl.show()"
   ]
  },
  {
   "cell_type": "code",
   "execution_count": 14,
   "metadata": {},
   "outputs": [
    {
     "data": {
      "text/plain": [
       "Difficulty_Status\n",
       "0    27\n",
       "1    21\n",
       "2    50\n",
       "dtype: int64"
      ]
     },
     "execution_count": 14,
     "metadata": {},
     "output_type": "execute_result"
    }
   ],
   "source": [
    "#Lets get some data for a piechart regarding if Example is Provided\n",
    "dif_status = data.groupby(['Difficulty_Status',]).size()\n",
    "dif_status.head()"
   ]
  },
  {
   "cell_type": "code",
   "execution_count": 15,
   "metadata": {},
   "outputs": [
    {
     "data": {
      "image/png": "[encoded data removed]",
      "text/plain": [
       "<Figure size 432x288 with 1 Axes>"
      ]
     },
     "metadata": {},
     "output_type": "display_data"
    }
   ],
   "source": [
    "import matplotlib as mpl\n",
    "mpl.rcParams['font.size'] = 18\n",
    "labels = ['Not\\n Installed', 'Complex\\n Install', 'Easy\\n Install']\n",
    "sizes = [dif_status[0], dif_status[1], dif_status[2]]\n",
    "values = [my_colors.red, my_colors.orange, my_colors.green]\n",
    "fig1, ax1 = pl.subplots()\n",
    "\n",
    "ax1.set_title(\"Installation Difficulty\", fontsize=20)\n",
    "patches, texts, autotexts= ax1.pie(sizes, labels=labels, autopct='%1.1f%%',\n",
    "        shadow=True, startangle=90, colors = values)\n",
    "ax1.axis('equal')  # Equal aspect ratio ensures that pie is drawn as a circle.\n",
    "texts[0].set_fontsize(18)\n",
    "texts[1].set_fontsize(18)\n",
    "texts[2].set_fontsize(18)\n",
    "pl.savefig('Figure_2_panels/Difficulty_pie.pdf')"
   ]
  },
  {
   "cell_type": "markdown",
   "metadata": {},
   "source": [
    "### FIGURE A.2: Automatic Installation Test??"
   ]
  },
  {
   "cell_type": "code",
   "execution_count": 16,
   "metadata": {},
   "outputs": [
    {
     "data": {
      "text/html": [
       "<div>\n",
       "<style scoped>\n",
       "    .dataframe tbody tr th:only-of-type {\n",
       "        vertical-align: middle;\n",
       "    }\n",
       "\n",
       "    .dataframe tbody tr th {\n",
       "        vertical-align: top;\n",
       "    }\n",
       "\n",
       "    .dataframe thead th {\n",
       "        text-align: right;\n",
       "    }\n",
       "</style>\n",
       "<table border=\"1\" class=\"dataframe\">\n",
       "  <thead>\n",
       "    <tr style=\"text-align: right;\">\n",
       "      <th></th>\n",
       "      <th>Unnamed:_0</th>\n",
       "      <th>Source_</th>\n",
       "      <th>Normalized_citations</th>\n",
       "      <th>Commands</th>\n",
       "      <th>Commands_Listed</th>\n",
       "      <th>Time_To_Install</th>\n",
       "      <th>Difficulty_Status</th>\n",
       "      <th>Example_Provided</th>\n",
       "    </tr>\n",
       "  </thead>\n",
       "  <tbody>\n",
       "    <tr>\n",
       "      <th>0</th>\n",
       "      <td>1</td>\n",
       "      <td>Bioconda</td>\n",
       "      <td>1122.600000</td>\n",
       "      <td>1.0</td>\n",
       "      <td>1.0</td>\n",
       "      <td>5</td>\n",
       "      <td>2</td>\n",
       "      <td>Y</td>\n",
       "    </tr>\n",
       "    <tr>\n",
       "      <th>1</th>\n",
       "      <td>2</td>\n",
       "      <td>Bioconda</td>\n",
       "      <td>13.833333</td>\n",
       "      <td>1.0</td>\n",
       "      <td>1.0</td>\n",
       "      <td>5</td>\n",
       "      <td>2</td>\n",
       "      <td>Y</td>\n",
       "    </tr>\n",
       "    <tr>\n",
       "      <th>2</th>\n",
       "      <td>3</td>\n",
       "      <td>Bioconda</td>\n",
       "      <td>5.142857</td>\n",
       "      <td>1.0</td>\n",
       "      <td>1.0</td>\n",
       "      <td>5</td>\n",
       "      <td>2</td>\n",
       "      <td>Y</td>\n",
       "    </tr>\n",
       "    <tr>\n",
       "      <th>3</th>\n",
       "      <td>4</td>\n",
       "      <td>Bioconda</td>\n",
       "      <td>163.200000</td>\n",
       "      <td>1.0</td>\n",
       "      <td>1.0</td>\n",
       "      <td>5</td>\n",
       "      <td>2</td>\n",
       "      <td>Y</td>\n",
       "    </tr>\n",
       "    <tr>\n",
       "      <th>4</th>\n",
       "      <td>5</td>\n",
       "      <td>Bioconda</td>\n",
       "      <td>247.400000</td>\n",
       "      <td>1.0</td>\n",
       "      <td>1.0</td>\n",
       "      <td>15</td>\n",
       "      <td>2</td>\n",
       "      <td>Y</td>\n",
       "    </tr>\n",
       "  </tbody>\n",
       "</table>\n",
       "</div>"
      ],
      "text/plain": [
       "   Unnamed:_0   Source_  Normalized_citations  Commands  Commands_Listed  \\\n",
       "0           1  Bioconda           1122.600000       1.0              1.0   \n",
       "1           2  Bioconda             13.833333       1.0              1.0   \n",
       "2           3  Bioconda              5.142857       1.0              1.0   \n",
       "3           4  Bioconda            163.200000       1.0              1.0   \n",
       "4           5  Bioconda            247.400000       1.0              1.0   \n",
       "\n",
       "   Time_To_Install  Difficulty_Status Example_Provided  \n",
       "0                5                  2                Y  \n",
       "1                5                  2                Y  \n",
       "2                5                  2                Y  \n",
       "3                5                  2                Y  \n",
       "4               15                  2                Y  "
      ]
     },
     "execution_count": 16,
     "metadata": {},
     "output_type": "execute_result"
    }
   ],
   "source": [
    "#This means #commands == number listed and that installation was not impossible\n",
    "#My numbers are not quite matching up with the original Figure 2 images.\n",
    "pass_status = data[(data.Difficulty_Status!=0) & (data.Commands==data.Commands_Listed)]\n",
    "pass_status.head()"
   ]
  },
  {
   "cell_type": "code",
   "execution_count": 17,
   "metadata": {},
   "outputs": [
    {
     "data": {
      "text/html": [
       "<div>\n",
       "<style scoped>\n",
       "    .dataframe tbody tr th:only-of-type {\n",
       "        vertical-align: middle;\n",
       "    }\n",
       "\n",
       "    .dataframe tbody tr th {\n",
       "        vertical-align: top;\n",
       "    }\n",
       "\n",
       "    .dataframe thead th {\n",
       "        text-align: right;\n",
       "    }\n",
       "</style>\n",
       "<table border=\"1\" class=\"dataframe\">\n",
       "  <thead>\n",
       "    <tr style=\"text-align: right;\">\n",
       "      <th></th>\n",
       "      <th>Unnamed:_0</th>\n",
       "      <th>Source_</th>\n",
       "      <th>Normalized_citations</th>\n",
       "      <th>Commands</th>\n",
       "      <th>Commands_Listed</th>\n",
       "      <th>Time_To_Install</th>\n",
       "      <th>Difficulty_Status</th>\n",
       "      <th>Example_Provided</th>\n",
       "    </tr>\n",
       "  </thead>\n",
       "  <tbody>\n",
       "    <tr>\n",
       "      <th>8</th>\n",
       "      <td>9</td>\n",
       "      <td>NaN</td>\n",
       "      <td>6.833333</td>\n",
       "      <td>22.0</td>\n",
       "      <td>4.0</td>\n",
       "      <td>30</td>\n",
       "      <td>1</td>\n",
       "      <td>Y</td>\n",
       "    </tr>\n",
       "    <tr>\n",
       "      <th>10</th>\n",
       "      <td>11</td>\n",
       "      <td>NaN</td>\n",
       "      <td>1059.000000</td>\n",
       "      <td>10.0</td>\n",
       "      <td>7.0</td>\n",
       "      <td>60</td>\n",
       "      <td>1</td>\n",
       "      <td>Y</td>\n",
       "    </tr>\n",
       "    <tr>\n",
       "      <th>11</th>\n",
       "      <td>12</td>\n",
       "      <td>Bioconductor</td>\n",
       "      <td>159.000000</td>\n",
       "      <td>20.0</td>\n",
       "      <td>2.0</td>\n",
       "      <td>60</td>\n",
       "      <td>1</td>\n",
       "      <td>Y</td>\n",
       "    </tr>\n",
       "    <tr>\n",
       "      <th>12</th>\n",
       "      <td>13</td>\n",
       "      <td>pip</td>\n",
       "      <td>73.166667</td>\n",
       "      <td>12.0</td>\n",
       "      <td>10.0</td>\n",
       "      <td>60</td>\n",
       "      <td>1</td>\n",
       "      <td>Y</td>\n",
       "    </tr>\n",
       "    <tr>\n",
       "      <th>13</th>\n",
       "      <td>14</td>\n",
       "      <td>BitBucket</td>\n",
       "      <td>36.250000</td>\n",
       "      <td>30.0</td>\n",
       "      <td>10.0</td>\n",
       "      <td>120</td>\n",
       "      <td>1</td>\n",
       "      <td>Y</td>\n",
       "    </tr>\n",
       "  </tbody>\n",
       "</table>\n",
       "</div>"
      ],
      "text/plain": [
       "    Unnamed:_0       Source_  Normalized_citations  Commands  Commands_Listed  \\\n",
       "8            9           NaN              6.833333      22.0              4.0   \n",
       "10          11           NaN           1059.000000      10.0              7.0   \n",
       "11          12  Bioconductor            159.000000      20.0              2.0   \n",
       "12          13           pip             73.166667      12.0             10.0   \n",
       "13          14     BitBucket             36.250000      30.0             10.0   \n",
       "\n",
       "    Time_To_Install  Difficulty_Status Example_Provided  \n",
       "8                30                  1                Y  \n",
       "10               60                  1                Y  \n",
       "11               60                  1                Y  \n",
       "12               60                  1                Y  \n",
       "13              120                  1                Y  "
      ]
     },
     "execution_count": 17,
     "metadata": {},
     "output_type": "execute_result"
    }
   ],
   "source": [
    "fail_status = data[(data.Difficulty_Status==0) | (data.Commands!=data.Commands_Listed)]\n",
    "fail_status.head()"
   ]
  },
  {
   "cell_type": "code",
   "execution_count": 18,
   "metadata": {},
   "outputs": [
    {
     "data": {
      "image/png": "[encoded data removed]",
      "text/plain": [
       "<Figure size 432x288 with 1 Axes>"
      ]
     },
     "metadata": {},
     "output_type": "display_data"
    }
   ],
   "source": [
    "labels = ['Passed', 'Failed']\n",
    "sizes = [len(pass_status.index), len(fail_status.index)]\n",
    "values = [my_colors.green, my_colors.red]\n",
    "fig1, ax1 = pl.subplots()\n",
    "\n",
    "# ax1.set_fontsize(18)\n",
    "ax1.set_title(\"Automatic Installation Test\", fontsize=20)\n",
    "patches, texts, autotexts = ax1.pie(sizes, labels=labels, autopct='%1.1f%%',\n",
    "        shadow=True, startangle=90, colors = values)\n",
    "ax1.axis('equal')  # Equal aspect ratio ensures that pie is drawn as a circle.\n",
    "texts[0].set_fontsize(18)\n",
    "texts[1].set_fontsize(18)\n",
    "pl.savefig('Figure_2_panels/Auto_intallation_pie.pdf')"
   ]
  },
  {
   "cell_type": "markdown",
   "metadata": {},
   "source": [
    "### FIGURE A.3: Example Provided"
   ]
  },
  {
   "cell_type": "code",
   "execution_count": 19,
   "metadata": {},
   "outputs": [],
   "source": [
    "#Lets get clean some data for a piechart regarding if Example is Provided\n",
    "ex_prov_pie = data.groupby(['Example_Provided',]).size()"
   ]
  },
  {
   "cell_type": "code",
   "execution_count": 20,
   "metadata": {},
   "outputs": [
    {
     "data": {
      "image/png": "[encoded data removed]",
      "text/plain": [
       "<Figure size 432x288 with 1 Axes>"
      ]
     },
     "metadata": {},
     "output_type": "display_data"
    }
   ],
   "source": [
    "labels = ['No', 'Yes']\n",
    "sizes = [ex_prov_pie[0], ex_prov_pie[1]]\n",
    "values = [my_colors.red, my_colors.green]\n",
    "fig1, ax1 = pl.subplots()\n",
    "\n",
    "# ax1.set_fontsize(18)\n",
    "ax1.set_title(\"Tools with Example Provided\", fontsize=20)\n",
    "patches, texts, autotexts = ax1.pie(sizes, labels=labels, autopct='%1.1f%%',\n",
    "        shadow=True, startangle=90, colors = values)\n",
    "texts[0].set_fontsize(18)\n",
    "texts[1].set_fontsize(18)\n",
    "ax1.axis('equal')  # Equal aspect ratio ensures that pie is drawn as a circle.\n",
    "pl.savefig('Figure_2_panels/Example_provided_pie.pdf')"
   ]
  },
  {
   "cell_type": "markdown",
   "metadata": {},
   "source": [
    "## FIGURE B: Automatic Installation Test vs Installation Time"
   ]
  },
  {
   "cell_type": "code",
   "execution_count": 21,
   "metadata": {},
   "outputs": [
    {
     "name": "stdout",
     "output_type": "stream",
     "text": [
      "1.1064619887075837e-08\n"
     ]
    },
    {
     "data": {
      "image/png": "[encoded data removed]",
      "text/plain": [
       "<Figure size 432x288 with 1 Axes>"
      ]
     },
     "metadata": {
      "needs_background": "light"
     },
     "output_type": "display_data"
    },
    {
     "data": {
      "text/plain": [
       "<Figure size 648x648 with 0 Axes>"
      ]
     },
     "metadata": {},
     "output_type": "display_data"
    }
   ],
   "source": [
    "data[\"auto_test\"] = np.where((data.Difficulty_Status!=0) & (data.Commands==data.Commands_Listed),'Pass','Fail')\n",
    "\n",
    "sns.boxplot(x=\"auto_test\", y=\"Time_To_Install\", data=data, palette=[my_colors.green, my_colors.red])\n",
    "sns.stripplot(x=\"auto_test\", y=\"Time_To_Install\", data=data, palette=[\"black\"], jitter=0.05)\n",
    "\n",
    "x1, x2 = 0, 1\n",
    "y, h, col = data['Time_To_Install'].max() + 4, 2, 'k'\n",
    "plt.plot([x1, x1, x2, x2], [y, y+h, y+h, y], lw=1.5, c=col)\n",
    "\n",
    "p_value = stats.kruskal(data[(data.auto_test=='Fail')].Time_To_Install.tolist(),\n",
    "                         data[(data.auto_test=='Pass')].Time_To_Install.tolist())\n",
    "\n",
    "print(p_value[1])\n",
    "plt.text((x1+x2)*.5, y+h, my_star(p_value[1]), ha='center', va='bottom', color=col, fontsize=20)\n",
    "\n",
    "\n",
    "plt.ylim(ymin=0) \n",
    "plt.ylim(ymax=140) \n",
    "plt.xlabel(\"\\n Automatic Installation Test\", fontsize=16)\n",
    "plt.ylabel(\"Installation Time (Min)\", fontsize=16)\n",
    "plt.xticks([0,1], [\"Passed\", \"Failed\"], color='k', fontsize=14)\n",
    "plt.yticks(fontsize=14)\n",
    "sns.despine()\n",
    "plt.figure(figsize=(9, 9))\n",
    "plt.show()"
   ]
  },
  {
   "cell_type": "code",
   "execution_count": 22,
   "metadata": {},
   "outputs": [
    {
     "name": "stdout",
     "output_type": "stream",
     "text": [
      "KruskalResult(statistic=32.644603461692164, pvalue=1.1064619887075837e-08)\n"
     ]
    },
    {
     "data": {
      "text/plain": [
       "<Figure size 432x288 with 0 Axes>"
      ]
     },
     "metadata": {},
     "output_type": "display_data"
    },
    {
     "data": {
      "image/png": "[encoded data removed]",
      "text/plain": [
       "<Figure size 180x172.8 with 1 Axes>"
      ]
     },
     "metadata": {
      "needs_background": "light"
     },
     "output_type": "display_data"
    },
    {
     "data": {
      "text/plain": [
       "<Figure size 360x360 with 0 Axes>"
      ]
     },
     "metadata": {},
     "output_type": "display_data"
    }
   ],
   "source": [
    "plt.clf()\n",
    "\n",
    "f, ax = plt.subplots(1, 1, figsize=(2.5, 2.4))\n",
    "\n",
    "data[\"auto_test\"] = np.where((data.Difficulty_Status!=0) & (data.Commands==data.Commands_Listed),'Pass','Fail')\n",
    "\n",
    "x1, x2 = 0, 1\n",
    "y, h, col = data['Time_To_Install'].max() + 20, 7, 'k'\n",
    "ax.plot([x1, x1, x2, x2], [y, y+h, y+h, y], lw=1.5, c=col)\n",
    "\n",
    "p_value = stats.kruskal(data[(data.auto_test=='Fail')].Time_To_Install.tolist(),\n",
    "                         data[(data.auto_test=='Pass')].Time_To_Install.tolist())\n",
    "\n",
    "print (p_value)\n",
    "ax.text((x1+x2)*.5, y+h, my_star(p_value[1]), ha='center', va='bottom', color=col, fontsize=12)\n",
    "\n",
    "\n",
    "sns.catplot(x=\"auto_test\", y=\"Time_To_Install\", data=data, palette=[my_colors.green, my_colors.red], \n",
    "            kind=\"violin\", cut=0, inner=None, ax=ax)\n",
    "\n",
    "plt.clf() # I couldn't figure out any other way to make the extra canvas created by seaborn to disappear.\n",
    "\n",
    "simpleaxis(ax)\n",
    "\n",
    "ax.set_ylabel(\"Installation Time (Min)\", fontsize=11)\n",
    "ax.set_xticks([0,1])\n",
    "ax.set_xlabel('')\n",
    "ax.set_xticklabels([\"Automatic\", \"Not\\nAutomatic\"], color='k', fontsize=11)\n",
    "ax.set_ylim(0, 152)\n",
    "ax.set_yticks([0,50,100, 150])\n",
    "ax.set_yticklabels([0,50,100, 150], fontsize=9)\n",
    "#plt.yticks(fontsize=14)\n",
    "\n",
    "f.savefig('Figure_2_panels/installation_time_automatic.pdf')"
   ]
  },
  {
   "cell_type": "markdown",
   "metadata": {},
   "source": [
    "## FIGURE C: Statistical Significance of Citations based on Difficulty of Installation"
   ]
  },
  {
   "cell_type": "code",
   "execution_count": 23,
   "metadata": {},
   "outputs": [
    {
     "data": {
      "text/html": [
       "<div>\n",
       "<style scoped>\n",
       "    .dataframe tbody tr th:only-of-type {\n",
       "        vertical-align: middle;\n",
       "    }\n",
       "\n",
       "    .dataframe tbody tr th {\n",
       "        vertical-align: top;\n",
       "    }\n",
       "\n",
       "    .dataframe thead th {\n",
       "        text-align: right;\n",
       "    }\n",
       "</style>\n",
       "<table border=\"1\" class=\"dataframe\">\n",
       "  <thead>\n",
       "    <tr style=\"text-align: right;\">\n",
       "      <th></th>\n",
       "      <th>Unnamed:_0</th>\n",
       "      <th>Normalized_citations</th>\n",
       "      <th>Commands</th>\n",
       "      <th>Commands_Listed</th>\n",
       "      <th>Time_To_Install</th>\n",
       "    </tr>\n",
       "    <tr>\n",
       "      <th>Difficulty_Status</th>\n",
       "      <th></th>\n",
       "      <th></th>\n",
       "      <th></th>\n",
       "      <th></th>\n",
       "      <th></th>\n",
       "    </tr>\n",
       "  </thead>\n",
       "  <tbody>\n",
       "    <tr>\n",
       "      <th>0</th>\n",
       "      <td>65.592593</td>\n",
       "      <td>10.385391</td>\n",
       "      <td>18.866667</td>\n",
       "      <td>6.555556</td>\n",
       "      <td>82.222222</td>\n",
       "    </tr>\n",
       "    <tr>\n",
       "      <th>1</th>\n",
       "      <td>40.619048</td>\n",
       "      <td>89.462642</td>\n",
       "      <td>12.350000</td>\n",
       "      <td>4.470588</td>\n",
       "      <td>78.571429</td>\n",
       "    </tr>\n",
       "    <tr>\n",
       "      <th>2</th>\n",
       "      <td>46.060000</td>\n",
       "      <td>108.689726</td>\n",
       "      <td>2.829787</td>\n",
       "      <td>2.733333</td>\n",
       "      <td>7.800000</td>\n",
       "    </tr>\n",
       "  </tbody>\n",
       "</table>\n",
       "</div>"
      ],
      "text/plain": [
       "                   Unnamed:_0  Normalized_citations   Commands  \\\n",
       "Difficulty_Status                                                \n",
       "0                   65.592593             10.385391  18.866667   \n",
       "1                   40.619048             89.462642  12.350000   \n",
       "2                   46.060000            108.689726   2.829787   \n",
       "\n",
       "                   Commands_Listed  Time_To_Install  \n",
       "Difficulty_Status                                    \n",
       "0                         6.555556        82.222222  \n",
       "1                         4.470588        78.571429  \n",
       "2                         2.733333         7.800000  "
      ]
     },
     "execution_count": 23,
     "metadata": {},
     "output_type": "execute_result"
    }
   ],
   "source": [
    "#Lets get clean some data to get sums for the number of citations\n",
    "dif_status_mean = data.groupby(['Difficulty_Status',]).mean()\n",
    "dif_status_std = data.groupby(['Difficulty_Status',]).std()\n",
    "dif_status_size = data.groupby(['Difficulty_Status',]).size()\n",
    "dif_status_sum = data.groupby(['Difficulty_Status',]).sum()\n",
    "dif_status_mean.head()"
   ]
  },
  {
   "cell_type": "code",
   "execution_count": 24,
   "metadata": {},
   "outputs": [
    {
     "data": {
      "text/html": [
       "<div>\n",
       "<style scoped>\n",
       "    .dataframe tbody tr th:only-of-type {\n",
       "        vertical-align: middle;\n",
       "    }\n",
       "\n",
       "    .dataframe tbody tr th {\n",
       "        vertical-align: top;\n",
       "    }\n",
       "\n",
       "    .dataframe thead th {\n",
       "        text-align: right;\n",
       "    }\n",
       "</style>\n",
       "<table border=\"1\" class=\"dataframe\">\n",
       "  <thead>\n",
       "    <tr style=\"text-align: right;\">\n",
       "      <th></th>\n",
       "      <th>Unnamed:_0</th>\n",
       "      <th>Normalized_citations</th>\n",
       "      <th>Commands</th>\n",
       "      <th>Commands_Listed</th>\n",
       "      <th>Time_To_Install</th>\n",
       "    </tr>\n",
       "    <tr>\n",
       "      <th>Difficulty_Status</th>\n",
       "      <th></th>\n",
       "      <th></th>\n",
       "      <th></th>\n",
       "      <th></th>\n",
       "      <th></th>\n",
       "    </tr>\n",
       "  </thead>\n",
       "  <tbody>\n",
       "    <tr>\n",
       "      <th>0</th>\n",
       "      <td>21.175565</td>\n",
       "      <td>11.287159</td>\n",
       "      <td>47.485136</td>\n",
       "      <td>6.563914</td>\n",
       "      <td>50.617976</td>\n",
       "    </tr>\n",
       "    <tr>\n",
       "      <th>1</th>\n",
       "      <td>29.761512</td>\n",
       "      <td>229.439292</td>\n",
       "      <td>12.145066</td>\n",
       "      <td>3.356293</td>\n",
       "      <td>41.867137</td>\n",
       "    </tr>\n",
       "    <tr>\n",
       "      <th>2</th>\n",
       "      <td>29.122829</td>\n",
       "      <td>287.123460</td>\n",
       "      <td>2.784422</td>\n",
       "      <td>2.847647</td>\n",
       "      <td>4.535574</td>\n",
       "    </tr>\n",
       "  </tbody>\n",
       "</table>\n",
       "</div>"
      ],
      "text/plain": [
       "                   Unnamed:_0  Normalized_citations   Commands  \\\n",
       "Difficulty_Status                                                \n",
       "0                   21.175565             11.287159  47.485136   \n",
       "1                   29.761512            229.439292  12.145066   \n",
       "2                   29.122829            287.123460   2.784422   \n",
       "\n",
       "                   Commands_Listed  Time_To_Install  \n",
       "Difficulty_Status                                    \n",
       "0                         6.563914        50.617976  \n",
       "1                         3.356293        41.867137  \n",
       "2                         2.847647         4.535574  "
      ]
     },
     "execution_count": 24,
     "metadata": {},
     "output_type": "execute_result"
    }
   ],
   "source": [
    "dif_status_std.head()"
   ]
  },
  {
   "cell_type": "code",
   "execution_count": 25,
   "metadata": {},
   "outputs": [],
   "source": [
    "# Custom function to draw the diff bars\n",
    "def label_diff(i,j,text,X,Y):\n",
    "    x = (X[i]+X[j])/2\n",
    "    y = 1.1*max(Y[i], Y[j])\n",
    "    dx = abs(X[i]-X[j])\n",
    "\n",
    "    props = {'connectionstyle':'bar','arrowstyle':'-',\\\n",
    "                 'shrinkA':25,'shrinkB':25,'linewidth':1.5}\n",
    "    ax.annotate(text, xy=(X[i],y+7), zorder=10)\n",
    "    ax.annotate('', xy=(X[i],y), xytext=(X[j],y), arrowprops=props)"
   ]
  },
  {
   "cell_type": "code",
   "execution_count": 26,
   "metadata": {
    "scrolled": false
   },
   "outputs": [
    {
     "name": "stdout",
     "output_type": "stream",
     "text": [
      "0.013003908818903877\n",
      "0.3709977836511217\n",
      "0.12157400695752978\n"
     ]
    },
    {
     "data": {
      "image/png": "[encoded data removed]",
      "text/plain": [
       "<Figure size 432x288 with 1 Axes>"
      ]
     },
     "metadata": {
      "needs_background": "light"
     },
     "output_type": "display_data"
    },
    {
     "data": {
      "text/plain": [
       "<Figure size 648x648 with 0 Axes>"
      ]
     },
     "metadata": {},
     "output_type": "display_data"
    }
   ],
   "source": [
    "colors = [my_colors.red, my_colors.orange, my_colors.green]\n",
    "std     = [i for i in dif_status_std[\"Normalized_citations\"]]\n",
    "means   = [i for i in dif_status_mean[\"Normalized_citations\"]]\n",
    "ns = [i for i in dif_status_size]\n",
    "\n",
    "ind  = np.arange(3)    # the x locations for the groups\n",
    "width= 0.7\n",
    "labels = ('Not\\n Installed', 'Complex\\n Install', 'Easy\\n Install')\n",
    "\n",
    "fig, ax = plt.subplots()\n",
    "ax.p1 = plt.bar(ind, means, color=colors)\n",
    "\n",
    "x1, x2 = 0, 1\n",
    "y, h, col = 150, 4, 'k'\n",
    "plt.plot([x1, x1, x2, x2], [y, y+h, y+h, y], lw=1.5, c=col)\n",
    "\n",
    "# Impossible vs Hard (S)\n",
    "p_value = stats.kruskal(data[(data.Difficulty_Status == 0)].Normalized_citations.tolist(),\n",
    "                         data[(data.Difficulty_Status == 1)].Normalized_citations.tolist())\n",
    "print(p_value[1])\n",
    "\n",
    "plt.text((x1+x2)*.5, y+h, my_star(p_value[1]), ha='center', va='bottom', color=col, fontsize=20)\n",
    "\n",
    "# Hard vs Easy\n",
    "p_value = stats.kruskal(data[(data.Difficulty_Status==1)].Normalized_citations.tolist(),\n",
    "                         data[(data.Difficulty_Status==2)].Normalized_citations.tolist())\n",
    "# label_diff(1,2,'P-Value: %.3f' %(p_value[1]), ind, means)\n",
    "print(p_value[1])\n",
    "\n",
    "# Easy vs Impossible\n",
    "p_value = stats.kruskal(data[(data.Difficulty_Status==0)].Normalized_citations.tolist(),\n",
    "                         data[(data.Difficulty_Status==2)].Normalized_citations.tolist())\n",
    "# label_diff(0,2,'P-Value: %.3f' %(p_value[1]), ind, means)\n",
    "print(p_value[1])\n",
    "\n",
    "\n",
    "plt.errorbar(ind, means, yerr=[x/math.sqrt(n) for x,n in zip(means,ns)], fmt='o', color='black')\n",
    "plt.ylim(ymax=200) \n",
    "# plt.title(\"Number of Citations Per Year Based on Tool Installation Difficulty\\n\", fontsize=14)\n",
    "plt.ylabel(\"Number of Citations Per Year\", fontsize=16)\n",
    "plt.xlabel(\"\\n Installation Difficulty\", fontsize=16)\n",
    "plt.xticks(ind, labels, color='k', fontsize=14)\n",
    "plt.yticks(fontsize=14)\n",
    "sns.despine()\n",
    "plt.figure(figsize=(9, 9))\n",
    "plt.show()"
   ]
  },
  {
   "cell_type": "code",
   "execution_count": 27,
   "metadata": {},
   "outputs": [
    {
     "name": "stdout",
     "output_type": "stream",
     "text": [
      "0.035428310716473885\n"
     ]
    },
    {
     "data": {
      "image/png": "[encoded data removed]",
      "text/plain": [
       "<Figure size 180x187.2 with 1 Axes>"
      ]
     },
     "metadata": {
      "needs_background": "light"
     },
     "output_type": "display_data"
    }
   ],
   "source": [
    "f, ax = plt.subplots(1, 1, figsize=(2.5,2.6))\n",
    "\n",
    "\n",
    "data[\"install_category\"] = np.where((data.Difficulty_Status==0),'Unsuccessful','Success')\n",
    "sns.boxplot(x=\"install_category\", y=\"Normalized_citations\", data=data, showfliers=False,\n",
    "            palette=[my_colors.green, my_colors.red],  order=[\"Success\", \"Unsuccessful\"])\n",
    "\n",
    "sns.stripplot(x=\"install_category\", y=\"Normalized_citations\",  alpha=0.3,\n",
    "              palette=['black'], data=data,  jitter=0.05, order=[\"Success\", \"Unsuccessful\"])\n",
    "\n",
    "labels = ('Installed', 'Not\\nInstalled')\n",
    "x1, x2 = 1, 0\n",
    "y, h, col = 180, 5, 'k'\n",
    "\n",
    "ax.plot([x1, x1, x2, x2], [y, y+h, y+h, y], lw=1.5, c=col)\n",
    "\n",
    "# Impossible vs Hard (S)\n",
    "p_value = stats.kruskal(data[(data.install_category == \"Success\")].Normalized_citations.tolist(),\n",
    "                         data[(data.install_category == \"Unsuccessful\")].Normalized_citations.tolist())\n",
    "print(p_value[1])\n",
    "\n",
    "ind = np.arange(2)\n",
    "\n",
    "ax.text((x1+x2)*.5, y+h, my_star(p_value[1]), ha='center', va='bottom', color=col, fontsize=12)\n",
    "\n",
    "ax.set_ylim(ymax=195) \n",
    "ax.set_ylim(ymin=0) \n",
    "ax.set_ylabel(\"Citations per year\", fontsize=11)\n",
    "ax.set_xlabel('')\n",
    "ax.set_xticks(ind)\n",
    "ax.set_xticklabels(labels, fontsize=11)\n",
    "\n",
    "ax.set_yticks([0,50,100,150])\n",
    "ax.set_yticklabels([0,50,100,150], fontsize=9)\n",
    "\n",
    "simpleaxis(ax)\n",
    "\n",
    "#sns.despine()\n",
    "#plt.figure(figsize=(9, 9))\n",
    "\n",
    "plt.savefig('Figure_2_panels/Citations_per_year_box.pdf')"
   ]
  },
  {
   "cell_type": "code",
   "execution_count": 28,
   "metadata": {},
   "outputs": [
    {
     "name": "stdout",
     "output_type": "stream",
     "text": [
      "0.013003908818903877\n"
     ]
    },
    {
     "data": {
      "image/png": "[encoded data removed]",
      "text/plain": [
       "<Figure size 360x360 with 1 Axes>"
      ]
     },
     "metadata": {
      "needs_background": "light"
     },
     "output_type": "display_data"
    },
    {
     "data": {
      "text/plain": [
       "<Figure size 648x648 with 0 Axes>"
      ]
     },
     "metadata": {},
     "output_type": "display_data"
    }
   ],
   "source": [
    "sns.catplot(x=\"Difficulty_Status\", y=\"Normalized_citations\", data=data, cut=0, \n",
    "            kind=\"violin\", palette=[my_colors.red, my_colors.orange, my_colors.green], inner=None)\n",
    "\n",
    "\n",
    "x1, x2 = 0, 1\n",
    "y, h, col = 180, 2, 'k'\n",
    "plt.plot([x1, x1, x2, x2], [y, y+h, y+h, y], lw=1.5, c=col)\n",
    "\n",
    "# Impossible vs Hard (S)\n",
    "p_value = stats.kruskal(data[(data.Difficulty_Status == 0)].Normalized_citations.tolist(),\n",
    "                         data[(data.Difficulty_Status == 1)].Normalized_citations.tolist())\n",
    "print(p_value[1])\n",
    "\n",
    "plt.text((x1+x2)*.5, y+h, my_star(p_value[1]), ha='center', va='bottom', color=col, fontsize=20)\n",
    "\n",
    "# Impossible vs Easy (NS)\n",
    "# p_value = stats.ks_2samp(data[(data.Difficulty_Status == 0)].Normalized_citations.tolist(),\n",
    "#                          data[(data.Difficulty_Status == 2)].Normalized_citations.tolist())\n",
    "# print p_value[1]\n",
    "# plt.text((x1+x2)*.5, y+h, my_star(p_value[1]), ha='center', va='bottom', color=col)\n",
    "\n",
    "# Hard vs Easy (NS)\n",
    "# p_value = stats.ks_2samp(data[(data.Difficulty_Status == 1)].Normalized_citations.tolist(),\n",
    "#                          data[(data.Difficulty_Status == 2)].Normalized_citations.tolist())\n",
    "# print p_value[1]\n",
    "\n",
    "\n",
    "\n",
    "plt.ylim(ymax=190) \n",
    "plt.ylim(ymin=0) \n",
    "plt.ylabel(\"Number of Citations Per Year\", fontsize=16)\n",
    "plt.xlabel(\"\\n Installation Difficulty\", fontsize=16)\n",
    "plt.xticks(ind, labels, color='k', fontsize=14)\n",
    "plt.yticks(fontsize=14)\n",
    "sns.despine()\n",
    "plt.figure(figsize=(9, 9))\n",
    "plt.show()"
   ]
  },
  {
   "cell_type": "code",
   "execution_count": 29,
   "metadata": {},
   "outputs": [
    {
     "name": "stdout",
     "output_type": "stream",
     "text": [
      "0.01097753860728718\n",
      "8.286234518662968e-08\n"
     ]
    },
    {
     "data": {
      "image/png": "[encoded data removed]",
      "text/plain": [
       "<Figure size 187.2x187.2 with 1 Axes>"
      ]
     },
     "metadata": {
      "needs_background": "light"
     },
     "output_type": "display_data"
    }
   ],
   "source": [
    "import math\n",
    "f, ax = plt.subplots(1, 1, figsize=(2.6,2.6))\n",
    "\n",
    "data[\"Portion_Undocumented\"] = (data[\"Commands\"]-data[\"Commands_Listed\"])/(data[\"Commands\"] + data[\"Commands_Listed\"])\n",
    "sns.boxplot(x=\"Difficulty_Status\", y=\"Portion_Undocumented\", data=data,  ax = ax, width=0.7, showfliers=False,\n",
    "            palette=[my_colors.green, my_colors.orange, my_colors.red], order=[2,1,0])\n",
    "\n",
    "sns.stripplot(x=\"Difficulty_Status\", y=\"Portion_Undocumented\", data=data, palette=[\"black\"], order=[2,1,0], alpha=0.3)\n",
    "\n",
    "labels = ('Easy', 'Complex', 'Not\\n Installed')\n",
    "ind  = np.arange(3)\n",
    "\n",
    "x1, x2 = 0, 2\n",
    "y, h, col = data['Portion_Undocumented'].max() + 0.18, 0.05, 'k'\n",
    "\n",
    "ax.plot([x1, x1, x2, x2], [y, y+h, y+h, y], lw=1.5, c=col)\n",
    "list_0 = [i for i in data[(data.Difficulty_Status==0)].Portion_Undocumented.tolist() if str(i) != 'nan']\n",
    "    \n",
    "\n",
    "p_value = stats.kruskal([i for i in data[(data.Difficulty_Status==0)].Portion_Undocumented.tolist() if str(i) != 'nan'],\n",
    "                        [i for i in data[(data.Difficulty_Status==2)].Portion_Undocumented.tolist() if str(i) != 'nan'])\n",
    "print(p_value[1])\n",
    "ax.text((x1+x2)*.5, y+h, my_star(p_value[1]), ha='center', va='bottom', color=col, fontsize=12)\n",
    "\n",
    "\n",
    "x1, x2 = 0, 1\n",
    "y, h, col = data['Portion_Undocumented'].max() + 0.03, 0.05, 'k'\n",
    "ax.plot([x1, x1, x2, x2], [y, y+h, y+h, y], lw=1.5, c=col)\n",
    "\n",
    "p_value = stats.kruskal([i for i in data[(data.Difficulty_Status==1)].Portion_Undocumented.tolist() if str(i) != 'nan'],\n",
    "                        [i for i in data[(data.Difficulty_Status==2)].Portion_Undocumented.tolist() if str(i) != 'nan'])\n",
    "print(p_value[1])\n",
    "ax.text((x1+x2)*.5, y+h, my_star(p_value[1]), ha='center', va='bottom', color=col, fontsize=12)\n",
    "\n",
    "simpleaxis(ax)\n",
    "\n",
    "ax.set_ylim(ymin=0) \n",
    "ax.set_ylim(ymax=1.2) \n",
    "ax.set_ylabel(\"% Undocumented\\ncommands\", fontsize=11)\n",
    "ax.set_xticks([0,1,2])\n",
    "ax.set_xlim(-0.45,2.45)\n",
    "ax.set_xlabel('')\n",
    "ax.set_yticks([0.,0.25,0.5,0.75,1])\n",
    "ax.set_yticklabels(['0.00','0.25','0.50','0.75','1.00'], fontsize=9)\n",
    "ax.set_xticklabels(labels, color='k', fontsize=11)\n",
    "\n",
    "plt.savefig('Figure_2_panels/percent_undocumented_commands.pdf')"
   ]
  },
  {
   "cell_type": "markdown",
   "metadata": {},
   "source": [
    "## FIGURE E: Percent of Tools installed based on package manager."
   ]
  },
  {
   "cell_type": "code",
   "execution_count": 30,
   "metadata": {},
   "outputs": [
    {
     "data": {
      "text/html": [
       "<div>\n",
       "<style scoped>\n",
       "    .dataframe tbody tr th:only-of-type {\n",
       "        vertical-align: middle;\n",
       "    }\n",
       "\n",
       "    .dataframe tbody tr th {\n",
       "        vertical-align: top;\n",
       "    }\n",
       "\n",
       "    .dataframe thead th {\n",
       "        text-align: right;\n",
       "    }\n",
       "</style>\n",
       "<table border=\"1\" class=\"dataframe\">\n",
       "  <thead>\n",
       "    <tr style=\"text-align: right;\">\n",
       "      <th></th>\n",
       "      <th>Unnamed:_0</th>\n",
       "      <th>Normalized_citations</th>\n",
       "      <th>Commands</th>\n",
       "      <th>Commands_Listed</th>\n",
       "      <th>Time_To_Install</th>\n",
       "      <th>Difficulty_Status</th>\n",
       "      <th>Example_Provided</th>\n",
       "      <th>auto_test</th>\n",
       "      <th>install_category</th>\n",
       "      <th>Portion_Undocumented</th>\n",
       "    </tr>\n",
       "    <tr>\n",
       "      <th>Source_</th>\n",
       "      <th></th>\n",
       "      <th></th>\n",
       "      <th></th>\n",
       "      <th></th>\n",
       "      <th></th>\n",
       "      <th></th>\n",
       "      <th></th>\n",
       "      <th></th>\n",
       "      <th></th>\n",
       "      <th></th>\n",
       "    </tr>\n",
       "  </thead>\n",
       "  <tbody>\n",
       "    <tr>\n",
       "      <th>Bioconda</th>\n",
       "      <td>8</td>\n",
       "      <td>8</td>\n",
       "      <td>8</td>\n",
       "      <td>8</td>\n",
       "      <td>8</td>\n",
       "      <td>8</td>\n",
       "      <td>8</td>\n",
       "      <td>8</td>\n",
       "      <td>8</td>\n",
       "      <td>8</td>\n",
       "    </tr>\n",
       "    <tr>\n",
       "      <th>Bioconductor</th>\n",
       "      <td>5</td>\n",
       "      <td>5</td>\n",
       "      <td>5</td>\n",
       "      <td>5</td>\n",
       "      <td>5</td>\n",
       "      <td>5</td>\n",
       "      <td>5</td>\n",
       "      <td>5</td>\n",
       "      <td>5</td>\n",
       "      <td>5</td>\n",
       "    </tr>\n",
       "    <tr>\n",
       "      <th>BitBucket</th>\n",
       "      <td>3</td>\n",
       "      <td>3</td>\n",
       "      <td>3</td>\n",
       "      <td>3</td>\n",
       "      <td>3</td>\n",
       "      <td>3</td>\n",
       "      <td>3</td>\n",
       "      <td>3</td>\n",
       "      <td>3</td>\n",
       "      <td>3</td>\n",
       "    </tr>\n",
       "    <tr>\n",
       "      <th>Github</th>\n",
       "      <td>20</td>\n",
       "      <td>20</td>\n",
       "      <td>19</td>\n",
       "      <td>19</td>\n",
       "      <td>20</td>\n",
       "      <td>20</td>\n",
       "      <td>20</td>\n",
       "      <td>20</td>\n",
       "      <td>20</td>\n",
       "      <td>18</td>\n",
       "    </tr>\n",
       "    <tr>\n",
       "      <th>SourceForge</th>\n",
       "      <td>10</td>\n",
       "      <td>10</td>\n",
       "      <td>8</td>\n",
       "      <td>5</td>\n",
       "      <td>10</td>\n",
       "      <td>10</td>\n",
       "      <td>10</td>\n",
       "      <td>10</td>\n",
       "      <td>10</td>\n",
       "      <td>5</td>\n",
       "    </tr>\n",
       "    <tr>\n",
       "      <th>pip</th>\n",
       "      <td>1</td>\n",
       "      <td>1</td>\n",
       "      <td>1</td>\n",
       "      <td>1</td>\n",
       "      <td>1</td>\n",
       "      <td>1</td>\n",
       "      <td>1</td>\n",
       "      <td>1</td>\n",
       "      <td>1</td>\n",
       "      <td>1</td>\n",
       "    </tr>\n",
       "  </tbody>\n",
       "</table>\n",
       "</div>"
      ],
      "text/plain": [
       "              Unnamed:_0  Normalized_citations  Commands  Commands_Listed  \\\n",
       "Source_                                                                     \n",
       "Bioconda               8                     8         8                8   \n",
       "Bioconductor           5                     5         5                5   \n",
       "BitBucket              3                     3         3                3   \n",
       "Github                20                    20        19               19   \n",
       "SourceForge           10                    10         8                5   \n",
       "pip                    1                     1         1                1   \n",
       "\n",
       "              Time_To_Install  Difficulty_Status  Example_Provided  auto_test  \\\n",
       "Source_                                                                         \n",
       "Bioconda                    8                  8                 8          8   \n",
       "Bioconductor                5                  5                 5          5   \n",
       "BitBucket                   3                  3                 3          3   \n",
       "Github                     20                 20                20         20   \n",
       "SourceForge                10                 10                10         10   \n",
       "pip                         1                  1                 1          1   \n",
       "\n",
       "              install_category  Portion_Undocumented  \n",
       "Source_                                               \n",
       "Bioconda                     8                     8  \n",
       "Bioconductor                 5                     5  \n",
       "BitBucket                    3                     3  \n",
       "Github                      20                    18  \n",
       "SourceForge                 10                     5  \n",
       "pip                          1                     1  "
      ]
     },
     "execution_count": 30,
     "metadata": {},
     "output_type": "execute_result"
    }
   ],
   "source": [
    "data.groupby('Source_').count()"
   ]
  },
  {
   "cell_type": "code",
   "execution_count": 31,
   "metadata": {
    "scrolled": true
   },
   "outputs": [
    {
     "name": "stdout",
     "output_type": "stream",
     "text": [
      "100.0 67.85714285714286\n"
     ]
    },
    {
     "data": {
      "image/png": "[encoded data removed]",
      "text/plain": [
       "<Figure size 180x187.2 with 1 Axes>"
      ]
     },
     "metadata": {
      "needs_background": "light"
     },
     "output_type": "display_data"
    }
   ],
   "source": [
    "data_pkg = data[ (data['Source_'] == 'Bioconda') | (data['Source_'] == 'Bioconductor') | (data['Source_'] == 'pip') ]\n",
    "rate_pkg = (data_pkg.install_category == 'Success').sum()/data_pkg.shape[0]*100\n",
    "\n",
    "data_nopkg = data[ (data['Source_'] != 'Bioconda') & (data['Source_'] != 'Bioconductor') & (data['Source_'] != 'pip') ]\n",
    "rate_nopkg = (data_nopkg.install_category == 'Success').sum()/data_nopkg.shape[0]*100\n",
    "\n",
    "f, ax = plt.subplots(1, 1, figsize=(2.5,2.6))\n",
    "\n",
    "labels = ('Packaged', 'Not\\nPackaged')\n",
    "x1, x2 = 1, 0\n",
    "y, h, col = 180, 5, 'k'\n",
    "\n",
    "pl.bar([0,1], [rate_pkg, rate_nopkg], 0.6, edgecolor=(0.2,0.2,0.2), lw=1.5, color=my_colors.green)\n",
    "\n",
    "print(rate_pkg, rate_nopkg)\n",
    "pl.text(-0.15, 90, '100', fontsize=11, color=(0.1,0.1,0.1))\n",
    "pl.text(0.88, 58, '68', fontsize=11, color=(0.1,0.1,0.1))\n",
    "\n",
    "ax.set_ylim(0, 110)\n",
    "ax.set_yticklabels([0,50,100], fontsize=10)\n",
    "ax.set_ylabel(\"Percent of tools installed\", fontsize=12)\n",
    "ax.set_xlabel('')\n",
    "ax.set_xlim(-0.5,1.5)\n",
    "ax.set_xticks([0,1])\n",
    "ax.set_xticklabels(labels, fontsize=12)\n",
    "\n",
    "simpleaxis(ax)\n",
    "\n",
    "plt.savefig('Figure_2_panels/Citations_per_year_box.pdf')"
   ]
  },
  {
   "cell_type": "markdown",
   "metadata": {},
   "source": [
    "## Supplementary Figures: Effect of Bioconda Package Manger on Installation Time"
   ]
  },
  {
   "cell_type": "code",
   "execution_count": 33,
   "metadata": {},
   "outputs": [],
   "source": [
    "\n",
    "conditions = [\n",
    "    (data['Source_'] == 'Bioconda'),\n",
    "     (data['Source_'].isnull())]\n",
    "choices = ['Bioconda', 'N/A']\n",
    "data['custom_source'] = np.select(conditions, choices, default='Other')\n"
   ]
  },
  {
   "cell_type": "code",
   "execution_count": 37,
   "metadata": {},
   "outputs": [
    {
     "name": "stdout",
     "output_type": "stream",
     "text": [
      "KruskalResult(statistic=9.201027953410616, pvalue=0.0024187926102591157)\n",
      "KruskalResult(statistic=7.081765986346138, pvalue=0.007787222823984111)\n"
     ]
    },
    {
     "data": {
      "image/png": "[encoded data removed]",
      "text/plain": [
       "<Figure size 360x360 with 1 Axes>"
      ]
     },
     "metadata": {
      "needs_background": "light"
     },
     "output_type": "display_data"
    },
    {
     "data": {
      "text/plain": [
       "<Figure size 648x648 with 0 Axes>"
      ]
     },
     "metadata": {},
     "output_type": "display_data"
    }
   ],
   "source": [
    "\n",
    "sns.catplot(x=\"custom_source\", y=\"Time_To_Install\", kind=\"box\", data=data, palette=[\"#1ABC9C\",\"#5D6D7E\", \"#AF601A\"])\n",
    "# sns.swarmplot(x=\"custom_source\", y=\"Time_To_Install\", data=data, palette=[\"#7D3C98\",\"#717D7E\", \"#2874A6\"])\n",
    "sns.stripplot(x=\"custom_source\", y=\"Time_To_Install\", data=data, palette=[\"black\"])\n",
    "\n",
    "x1, x2 = 0, 1\n",
    "y, h, col = data['Time_To_Install'].max() + 2, 4, 'k'\n",
    "plt.plot([x1, x1, x2, x2], [y, y+h, y+h, y], lw=1.5, c=col)\n",
    "\n",
    "p_value = stats.kruskal(data[(data.custom_source=='Bioconda')].Normalized_citations.tolist(),\n",
    "                         data[(data.custom_source=='N/A')].Normalized_citations.tolist())\n",
    "print(p_value)\n",
    "plt.text((x1+x2)*.5, y+h, my_star(p_value[1]), ha='center', va='bottom', color=col, fontsize=20)\n",
    "\n",
    "x1, x2 = 0, 2\n",
    "y, h, col = data['Time_To_Install'].max() + 5, 15, 'k'\n",
    "plt.plot([x1, x1, x2, x2], [y, y+h, y+h, y], lw=1.5, c=col)\n",
    "\n",
    "p_value = stats.kruskal(data[(data.custom_source=='Bioconda')].Normalized_citations.tolist(),\n",
    "                         data[(data.custom_source=='Other')].Normalized_citations.tolist())\n",
    "\n",
    "print(p_value)\n",
    "plt.text((x1+x2)*.5, y+h, my_star(p_value[1]), ha='center', va='bottom', color=col, fontsize=20)\n",
    "\n",
    "plt.ylim(ymax=150) \n",
    "plt.xlabel(\"\\n Package Manager\", fontsize=16)\n",
    "plt.ylabel(\"Installation Time (Min)\", fontsize=16)\n",
    "plt.xticks(fontsize=14)\n",
    "plt.yticks(fontsize=14)\n",
    "plt.figure(figsize=(9, 9))\n",
    "plt.show()"
   ]
  },
  {
   "cell_type": "code",
   "execution_count": 36,
   "metadata": {},
   "outputs": [
    {
     "name": "stdout",
     "output_type": "stream",
     "text": [
      "KruskalResult(statistic=9.201027953410616, pvalue=0.0024187926102591157)\n",
      "KruskalResult(statistic=7.081765986346138, pvalue=0.007787222823984111)\n"
     ]
    },
    {
     "data": {
      "image/png": "[encoded data removed]",
      "text/plain": [
       "<Figure size 194.4x172.8 with 1 Axes>"
      ]
     },
     "metadata": {
      "needs_background": "light"
     },
     "output_type": "display_data"
    },
    {
     "data": {
      "text/plain": [
       "<Figure size 360x360 with 0 Axes>"
      ]
     },
     "metadata": {},
     "output_type": "display_data"
    }
   ],
   "source": [
    "\n",
    "f,ax = plt.subplots(1, 1, figsize=(2.7, 2.4))\n",
    "\n",
    "sns.catplot(x=\"custom_source\", y=\"Time_To_Install\", kind=\"violin\", width=1.5,\n",
    "            data=data, palette=[\"#00FFFF\",\"#5D6D7E\", \"#AF601A\"],fliersize=0, cut=0, inner=None, ax=ax)\n",
    "\n",
    "plt.clf()   # I couldn't figure out any other way to make the extra canvas created by seaborn to disappear.\n",
    "\n",
    "x1, x2 = 0, 1\n",
    "y, h, col = data['Time_To_Install'].max() + 4, 6, 'k'\n",
    "ax.plot([x1, x1, x2, x2], [y, y+h, y+h, y], lw=1.5, c=col)\n",
    "\n",
    "p_value = stats.kruskal(data[(data.custom_source=='Bioconda')].Normalized_citations.tolist(),\n",
    "                         data[(data.custom_source=='N/A')].Normalized_citations.tolist())\n",
    "\n",
    "print (p_value)\n",
    "ax.text((x1+x2)*.5, y+h, my_star(p_value[1]), ha='center', va='bottom', color=col, fontsize=12)\n",
    "\n",
    "x1, x2 = 0, 2\n",
    "y, h, col = data['Time_To_Install'].max() + 20, 8, 'k'\n",
    "ax.plot([x1, x1, x2, x2], [y, y+h, y+h, y], lw=1.5, c=col)\n",
    "\n",
    "p_value = stats.kruskal(data[(data.custom_source=='Bioconda')].Normalized_citations.tolist(),\n",
    "                         data[(data.custom_source=='Other')].Normalized_citations.tolist())\n",
    "\n",
    "print (p_value)\n",
    "ax.text((x1+x2)*.5, y+h, my_star(p_value[1]), ha='center', va='bottom', color=col, fontsize=12)\n",
    "\n",
    "simpleaxis(ax)\n",
    "\n",
    "ax.set_ylim(ymin=0) \n",
    "ax.set_ylim(ymax=160) \n",
    "ax.set_ylabel(\"Installation time (Min)\", fontsize=11)\n",
    "ax.set_xticks([0,1,2])\n",
    "ax.set_xlabel('')\n",
    "ax.set_yticks([0,50,100,150])\n",
    "ax.set_yticklabels([0,50,100,150], fontsize=9)\n",
    "ax.set_xticklabels([\"Conda\", \"N/A\", \"Other\"], color='k', fontsize=11)\n",
    "f.savefig('Figure_2_panels/packaging.pdf')"
   ]
  },
  {
   "cell_type": "code",
   "execution_count": null,
   "metadata": {},
   "outputs": [],
   "source": []
  },
  {
   "cell_type": "code",
   "execution_count": null,
   "metadata": {},
   "outputs": [],
   "source": []
  },
  {
   "cell_type": "code",
   "execution_count": null,
   "metadata": {},
   "outputs": [],
   "source": []
  },
  {
   "cell_type": "code",
   "execution_count": null,
   "metadata": {},
   "outputs": [],
   "source": []
  }
 ],
 "metadata": {
  "kernelspec": {
   "display_name": "Python 3",
   "language": "python",
   "name": "python3"
  },
  "language_info": {
   "codemirror_mode": {
    "name": "ipython",
    "version": 3
   },
   "file_extension": ".py",
   "mimetype": "text/x-python",
   "name": "python",
   "nbconvert_exporter": "python",
   "pygments_lexer": "ipython3",
   "version": "3.7.0"
  }
 },
 "nbformat": 4,
 "nbformat_minor": 2
}
