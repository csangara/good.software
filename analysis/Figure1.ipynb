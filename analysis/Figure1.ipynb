{
 "cells": [
  {
   "cell_type": "markdown",
   "metadata": {},
   "source": [
    "# Good Software - analysis notebook\n",
    "## Reproducing all panels from Figure 1\n",
    "\n",
    "<br />\n",
    "This notebook contains all Python code necessary to reproduce all panels from the Figure 1 of [our paper](./), starting from the raw dataset. If you are interested in reproducing our results, you can use Binder to get started immediately (no requirements). For more information, visit [our wiki page](./).\n",
    "\n",
    "**Github:** https://github.com/smangul1/good.software\n",
    "\n",
    "**Manuscript:** https://www.biorxiv.org/content/early/2018/10/25/452532\n",
    "\n",
    "**Twitter thread:** https://twitter.com/serghei_mangul/status/1055561147431043072"
   ]
  },
  {
   "cell_type": "markdown",
   "metadata": {},
   "source": [
    "### Importing libraries"
   ]
  },
  {
   "cell_type": "code",
   "execution_count": 3,
   "metadata": {},
   "outputs": [],
   "source": [
    "import pylab as pl\n",
    "import numpy as np\n",
    "import pandas as pd"
   ]
  },
  {
   "cell_type": "markdown",
   "metadata": {},
   "source": [
    "### Some definitions"
   ]
  },
  {
   "cell_type": "code",
   "execution_count": 4,
   "metadata": {},
   "outputs": [],
   "source": [
    "# Legend for link statuses\n",
    "legendStatus = { -1 : 'Time out', 1 : 'Accessible', 3 : 'Redirected', 4 : 'Broken' }\n",
    "\n",
    "# Colors for each status\n",
    "colors = { -1 : (1.0,0.6,0.2), 1 : (0.2,0.7,0.2), 3 : (0.2,0.4,1.0), 4 : (1.0,0.,0.) }\n",
    "\n",
    "# Scheme 2:\n",
    "colors2 = { 'bg_unreach' : (1.0,0.8,0.6), \n",
    "            'fg_unreach' : (0.8,0.,0.), \n",
    "            'bg_accessb' : (0.7,1.0,0.7), \n",
    "            'fg_accessb' : (0.0,0.0,0.8)\n",
    "         }\n",
    "\n",
    "# Will only consider these years\n",
    "initialYear = 2005"
   ]
  },
  {
   "cell_type": "markdown",
   "metadata": {},
   "source": [
    "### Util functions"
   ]
  },
  {
   "cell_type": "code",
   "execution_count": 5,
   "metadata": {},
   "outputs": [],
   "source": [
    "def simpleaxis(ax):\n",
    "    ax.spines['top'].set_visible(False)\n",
    "    ax.spines['right'].set_visible(False)\n",
    "    ax.get_xaxis().tick_bottom()\n",
    "    ax.get_yaxis().tick_left()"
   ]
  },
  {
   "cell_type": "markdown",
   "metadata": {},
   "source": [
    "# Importing and parsing data"
   ]
  },
  {
   "cell_type": "code",
   "execution_count": 6,
   "metadata": {},
   "outputs": [
    {
     "data": {
      "text/html": [
       "<div>\n",
       "<style scoped>\n",
       "    .dataframe tbody tr th:only-of-type {\n",
       "        vertical-align: middle;\n",
       "    }\n",
       "\n",
       "    .dataframe tbody tr th {\n",
       "        vertical-align: top;\n",
       "    }\n",
       "\n",
       "    .dataframe thead th {\n",
       "        text-align: right;\n",
       "    }\n",
       "</style>\n",
       "<table border=\"1\" class=\"dataframe\">\n",
       "  <thead>\n",
       "    <tr style=\"text-align: right;\">\n",
       "      <th></th>\n",
       "      <th>type</th>\n",
       "      <th>journal</th>\n",
       "      <th>id</th>\n",
       "      <th>year</th>\n",
       "      <th>link</th>\n",
       "      <th>code</th>\n",
       "      <th>flag.uniqueness</th>\n",
       "    </tr>\n",
       "  </thead>\n",
       "  <tbody>\n",
       "    <tr>\n",
       "      <th>0</th>\n",
       "      <td>abstract</td>\n",
       "      <td>Nucleic_Acids_Res</td>\n",
       "      <td>23155066.0</td>\n",
       "      <td>2013</td>\n",
       "      <td>http://www.netlab.uky.edu/p/bioinfo/DiffSplice</td>\n",
       "      <td>200</td>\n",
       "      <td>0</td>\n",
       "    </tr>\n",
       "    <tr>\n",
       "      <th>1</th>\n",
       "      <td>abstract</td>\n",
       "      <td>Bioinformatics</td>\n",
       "      <td>27273673.0</td>\n",
       "      <td>2017</td>\n",
       "      <td>http://www.cs.helsinki.fi/u/lmsalmel/LoRMA/</td>\n",
       "      <td>302</td>\n",
       "      <td>0</td>\n",
       "    </tr>\n",
       "    <tr>\n",
       "      <th>2</th>\n",
       "      <td>abstract</td>\n",
       "      <td>BMC_Bioinformatics</td>\n",
       "      <td>20492656.0</td>\n",
       "      <td>2010</td>\n",
       "      <td>http://www.cse.univdhaka.edu/~ashis/ppred/inde...</td>\n",
       "      <td>301</td>\n",
       "      <td>0</td>\n",
       "    </tr>\n",
       "    <tr>\n",
       "      <th>3</th>\n",
       "      <td>abstract</td>\n",
       "      <td>PLoS_Comput_Biol</td>\n",
       "      <td>28212402.0</td>\n",
       "      <td>2017</td>\n",
       "      <td>https://dongjunchung.github.io/GGPA/</td>\n",
       "      <td>301</td>\n",
       "      <td>0</td>\n",
       "    </tr>\n",
       "    <tr>\n",
       "      <th>4</th>\n",
       "      <td>abstract</td>\n",
       "      <td>Bioinformatics</td>\n",
       "      <td>28130230.0</td>\n",
       "      <td>2017</td>\n",
       "      <td>https://github.com/bfosso/MetaShot</td>\n",
       "      <td>301</td>\n",
       "      <td>0</td>\n",
       "    </tr>\n",
       "  </tbody>\n",
       "</table>\n",
       "</div>"
      ],
      "text/plain": [
       "       type             journal          id  year  \\\n",
       "0  abstract   Nucleic_Acids_Res  23155066.0  2013   \n",
       "1  abstract      Bioinformatics  27273673.0  2017   \n",
       "2  abstract  BMC_Bioinformatics  20492656.0  2010   \n",
       "3  abstract    PLoS_Comput_Biol  28212402.0  2017   \n",
       "4  abstract      Bioinformatics  28130230.0  2017   \n",
       "\n",
       "                                                link  code  flag.uniqueness  \n",
       "0     http://www.netlab.uky.edu/p/bioinfo/DiffSplice   200                0  \n",
       "1        http://www.cs.helsinki.fi/u/lmsalmel/LoRMA/   302                0  \n",
       "2  http://www.cse.univdhaka.edu/~ashis/ppred/inde...   301                0  \n",
       "3               https://dongjunchung.github.io/GGPA/   301                0  \n",
       "4                 https://github.com/bfosso/MetaShot   301                0  "
      ]
     },
     "execution_count": 6,
     "metadata": {},
     "output_type": "execute_result"
    }
   ],
   "source": [
    "links = pd.read_csv('links.bulk.csv')\n",
    "links.head()"
   ]
  },
  {
   "cell_type": "code",
   "execution_count": 7,
   "metadata": {},
   "outputs": [
    {
     "name": "stdout",
     "output_type": "stream",
     "text": [
      "<class 'pandas.core.frame.DataFrame'>\n",
      "RangeIndex: 48392 entries, 0 to 48391\n",
      "Data columns (total 7 columns):\n",
      "type               48392 non-null object\n",
      "journal            48392 non-null object\n",
      "id                 48093 non-null float64\n",
      "year               48392 non-null int64\n",
      "link               48392 non-null object\n",
      "code               48392 non-null int64\n",
      "flag.uniqueness    48392 non-null int64\n",
      "dtypes: float64(1), int64(3), object(3)\n",
      "memory usage: 2.6+ MB\n"
     ]
    }
   ],
   "source": [
    "links.info()"
   ]
  },
  {
   "cell_type": "markdown",
   "metadata": {},
   "source": [
    "Parsing from code into human-readable status:\n",
    "\n",
    "* -1 : time out\n",
    "* 0..299 : good\n",
    "* 300..399 : redirected\n",
    "* \\>= 400 : not found\n",
    "\n",
    "To make it easier, let's map these codes to -1 for time out, 1 for accessible, 3 for redirected, and 4 for not found."
   ]
  },
  {
   "cell_type": "code",
   "execution_count": 8,
   "metadata": {},
   "outputs": [],
   "source": [
    "links = links[ links.year >= initialYear ]\n",
    "links['status'] = ( links['code'] // 100 )\n",
    "links.loc[ links['status'] > 4, 'status' ] = 4\n",
    "links.loc[ (links['status'] >= 0) & (links['status'] < 3), 'status' ] = 1"
   ]
  },
  {
   "cell_type": "markdown",
   "metadata": {},
   "source": [
    "Let's look at the histogram of statuses"
   ]
  },
  {
   "cell_type": "code",
   "execution_count": 9,
   "metadata": {},
   "outputs": [
    {
     "data": {
      "image/png": "[encoded data removed]",
      "text/plain": [
       "<Figure size 432x288 with 1 Axes>"
      ]
     },
     "metadata": {},
     "output_type": "display_data"
    }
   ],
   "source": [
    "statuses = np.array( links.status )\n",
    "\n",
    "\n",
    "f, ax = pl.subplots(1, 1)\n",
    "ax.hist( statuses, np.arange(-1.5,6,1), edgecolor=(0.2,0.2,0.2), lw=3, \n",
    "            color=(0.2,0.6,1.0) )\n",
    "\n",
    "\n",
    "ax.set_ylabel('Count')\n",
    "ax.set_xticks([-1, 1, 3, 4])\n",
    "ax.set_xticklabels( ['Time out', 'Accessible', 'Redirected', 'Not found'], rotation=-45 )\n",
    "\n",
    "pl.show()"
   ]
  },
  {
   "cell_type": "code",
   "execution_count": 10,
   "metadata": {},
   "outputs": [
    {
     "name": "stdout",
     "output_type": "stream",
     "text": [
      "(array([ 7487, 14394, 21355,  4039]), array([-1.2, -0.8,  1.8,  3.8,  4.8]))\n",
      "0.15837123215230037\n",
      "0.30447382337387624\n",
      "0.451718667371761\n",
      "0.0854362771020624\n"
     ]
    }
   ],
   "source": [
    "count, bin_values = np.histogram(statuses, bins = [-1.2,-0.8,1.8,3.8,4.8])\n",
    "\n",
    "print(count, bin_values)\n",
    "total = float(count.sum())\n",
    "\n",
    "for j in range(4):\n",
    "    print(count[j]/total)"
   ]
  },
  {
   "cell_type": "markdown",
   "metadata": {},
   "source": [
    "### Filtering out repeated links"
   ]
  },
  {
   "cell_type": "markdown",
   "metadata": {},
   "source": [
    "To avoid using repeated links, let's create another dataframe."
   ]
  },
  {
   "cell_type": "code",
   "execution_count": 11,
   "metadata": {},
   "outputs": [
    {
     "name": "stdout",
     "output_type": "stream",
     "text": [
      "(36702, 8)\n"
     ]
    },
    {
     "data": {
      "text/html": [
       "<div>\n",
       "<style scoped>\n",
       "    .dataframe tbody tr th:only-of-type {\n",
       "        vertical-align: middle;\n",
       "    }\n",
       "\n",
       "    .dataframe tbody tr th {\n",
       "        vertical-align: top;\n",
       "    }\n",
       "\n",
       "    .dataframe thead th {\n",
       "        text-align: right;\n",
       "    }\n",
       "</style>\n",
       "<table border=\"1\" class=\"dataframe\">\n",
       "  <thead>\n",
       "    <tr style=\"text-align: right;\">\n",
       "      <th></th>\n",
       "      <th>type</th>\n",
       "      <th>journal</th>\n",
       "      <th>id</th>\n",
       "      <th>year</th>\n",
       "      <th>link</th>\n",
       "      <th>code</th>\n",
       "      <th>status</th>\n",
       "    </tr>\n",
       "  </thead>\n",
       "  <tbody>\n",
       "    <tr>\n",
       "      <th>0</th>\n",
       "      <td>abstract</td>\n",
       "      <td>Nucleic_Acids_Res</td>\n",
       "      <td>23155066.0</td>\n",
       "      <td>2013</td>\n",
       "      <td>http://www.netlab.uky.edu/p/bioinfo/DiffSplice</td>\n",
       "      <td>200</td>\n",
       "      <td>1</td>\n",
       "    </tr>\n",
       "    <tr>\n",
       "      <th>1</th>\n",
       "      <td>abstract</td>\n",
       "      <td>Bioinformatics</td>\n",
       "      <td>27273673.0</td>\n",
       "      <td>2017</td>\n",
       "      <td>http://www.cs.helsinki.fi/u/lmsalmel/LoRMA/</td>\n",
       "      <td>302</td>\n",
       "      <td>3</td>\n",
       "    </tr>\n",
       "    <tr>\n",
       "      <th>2</th>\n",
       "      <td>abstract</td>\n",
       "      <td>BMC_Bioinformatics</td>\n",
       "      <td>20492656.0</td>\n",
       "      <td>2010</td>\n",
       "      <td>http://www.cse.univdhaka.edu/~ashis/ppred/inde...</td>\n",
       "      <td>301</td>\n",
       "      <td>3</td>\n",
       "    </tr>\n",
       "    <tr>\n",
       "      <th>3</th>\n",
       "      <td>abstract</td>\n",
       "      <td>PLoS_Comput_Biol</td>\n",
       "      <td>28212402.0</td>\n",
       "      <td>2017</td>\n",
       "      <td>https://dongjunchung.github.io/GGPA/</td>\n",
       "      <td>301</td>\n",
       "      <td>3</td>\n",
       "    </tr>\n",
       "    <tr>\n",
       "      <th>4</th>\n",
       "      <td>abstract</td>\n",
       "      <td>Bioinformatics</td>\n",
       "      <td>28130230.0</td>\n",
       "      <td>2017</td>\n",
       "      <td>https://github.com/bfosso/MetaShot</td>\n",
       "      <td>301</td>\n",
       "      <td>3</td>\n",
       "    </tr>\n",
       "  </tbody>\n",
       "</table>\n",
       "</div>"
      ],
      "text/plain": [
       "       type             journal          id  year  \\\n",
       "0  abstract   Nucleic_Acids_Res  23155066.0  2013   \n",
       "1  abstract      Bioinformatics  27273673.0  2017   \n",
       "2  abstract  BMC_Bioinformatics  20492656.0  2010   \n",
       "3  abstract    PLoS_Comput_Biol  28212402.0  2017   \n",
       "4  abstract      Bioinformatics  28130230.0  2017   \n",
       "\n",
       "                                                link  code  status  \n",
       "0     http://www.netlab.uky.edu/p/bioinfo/DiffSplice   200       1  \n",
       "1        http://www.cs.helsinki.fi/u/lmsalmel/LoRMA/   302       3  \n",
       "2  http://www.cse.univdhaka.edu/~ashis/ppred/inde...   301       3  \n",
       "3               https://dongjunchung.github.io/GGPA/   301       3  \n",
       "4                 https://github.com/bfosso/MetaShot   301       3  "
      ]
     },
     "execution_count": 11,
     "metadata": {},
     "output_type": "execute_result"
    }
   ],
   "source": [
    "uniqueLinks = links[ links['flag.uniqueness'] == 0 ]\n",
    "print(uniqueLinks.shape)\n",
    "uniqueLinks = uniqueLinks.drop(columns=['flag.uniqueness'])\n",
    "uniqueLinks.head()"
   ]
  },
  {
   "cell_type": "code",
   "execution_count": 12,
   "metadata": {},
   "outputs": [
    {
     "data": {
      "text/html": [
       "<div>\n",
       "<style scoped>\n",
       "    .dataframe tbody tr th:only-of-type {\n",
       "        vertical-align: middle;\n",
       "    }\n",
       "\n",
       "    .dataframe tbody tr th {\n",
       "        vertical-align: top;\n",
       "    }\n",
       "\n",
       "    .dataframe thead th {\n",
       "        text-align: right;\n",
       "    }\n",
       "</style>\n",
       "<table border=\"1\" class=\"dataframe\">\n",
       "  <thead>\n",
       "    <tr style=\"text-align: right;\">\n",
       "      <th></th>\n",
       "      <th>type</th>\n",
       "      <th>journal</th>\n",
       "      <th>id</th>\n",
       "      <th>year</th>\n",
       "      <th>link</th>\n",
       "      <th>code</th>\n",
       "      <th>status</th>\n",
       "    </tr>\n",
       "  </thead>\n",
       "  <tbody>\n",
       "    <tr>\n",
       "      <th>1516</th>\n",
       "      <td>abstract</td>\n",
       "      <td>Nucleic_Acids_Res</td>\n",
       "      <td>15608157.0</td>\n",
       "      <td>2005</td>\n",
       "      <td>http://www.human-siRNA-database.net</td>\n",
       "      <td>301</td>\n",
       "      <td>3</td>\n",
       "    </tr>\n",
       "    <tr>\n",
       "      <th>25875</th>\n",
       "      <td>body</td>\n",
       "      <td>Nucleic_Acids_Res</td>\n",
       "      <td>15608157.0</td>\n",
       "      <td>2005</td>\n",
       "      <td>www.human-siRNA-database.net</td>\n",
       "      <td>-1</td>\n",
       "      <td>-1</td>\n",
       "    </tr>\n",
       "    <tr>\n",
       "      <th>1771</th>\n",
       "      <td>abstract</td>\n",
       "      <td>Nucleic_Acids_Res</td>\n",
       "      <td>15608160.0</td>\n",
       "      <td>2005</td>\n",
       "      <td>http://rfam.wustl.edu/</td>\n",
       "      <td>-1</td>\n",
       "      <td>-1</td>\n",
       "    </tr>\n",
       "    <tr>\n",
       "      <th>3406</th>\n",
       "      <td>abstract</td>\n",
       "      <td>Nucleic_Acids_Res</td>\n",
       "      <td>15608160.0</td>\n",
       "      <td>2005</td>\n",
       "      <td>http://www.sanger.ac.uk/Software/Rfam/</td>\n",
       "      <td>301</td>\n",
       "      <td>3</td>\n",
       "    </tr>\n",
       "    <tr>\n",
       "      <th>11997</th>\n",
       "      <td>body</td>\n",
       "      <td>Nucleic_Acids_Res</td>\n",
       "      <td>15608160.0</td>\n",
       "      <td>2005</td>\n",
       "      <td>http://infernal.wustl.edu/</td>\n",
       "      <td>-1</td>\n",
       "      <td>-1</td>\n",
       "    </tr>\n",
       "    <tr>\n",
       "      <th>2859</th>\n",
       "      <td>abstract</td>\n",
       "      <td>Nucleic_Acids_Res</td>\n",
       "      <td>15608162.0</td>\n",
       "      <td>2005</td>\n",
       "      <td>http://siRNA.cgb.ki.se</td>\n",
       "      <td>301</td>\n",
       "      <td>3</td>\n",
       "    </tr>\n",
       "    <tr>\n",
       "      <th>18563</th>\n",
       "      <td>body</td>\n",
       "      <td>Nucleic_Acids_Res</td>\n",
       "      <td>15608162.0</td>\n",
       "      <td>2005</td>\n",
       "      <td>http://aosearch.cgb.ki.se</td>\n",
       "      <td>-1</td>\n",
       "      <td>-1</td>\n",
       "    </tr>\n",
       "    <tr>\n",
       "      <th>3097</th>\n",
       "      <td>abstract</td>\n",
       "      <td>Nucleic_Acids_Res</td>\n",
       "      <td>15608164.0</td>\n",
       "      <td>2005</td>\n",
       "      <td>http://alpha.protres.ru/trnadbase</td>\n",
       "      <td>-1</td>\n",
       "      <td>-1</td>\n",
       "    </tr>\n",
       "    <tr>\n",
       "      <th>4575</th>\n",
       "      <td>abstract</td>\n",
       "      <td>Nucleic_Acids_Res</td>\n",
       "      <td>15608164.0</td>\n",
       "      <td>2005</td>\n",
       "      <td>http://www.tRNA.uni-bayreuth.de</td>\n",
       "      <td>200</td>\n",
       "      <td>1</td>\n",
       "    </tr>\n",
       "    <tr>\n",
       "      <th>7689</th>\n",
       "      <td>abstract</td>\n",
       "      <td>Nucleic_Acids_Res</td>\n",
       "      <td>15608166.0</td>\n",
       "      <td>2005</td>\n",
       "      <td>http://www.cs.ualberta.ca/~bioinfo/PA/GOSUB</td>\n",
       "      <td>301</td>\n",
       "      <td>3</td>\n",
       "    </tr>\n",
       "    <tr>\n",
       "      <th>9325</th>\n",
       "      <td>body</td>\n",
       "      <td>Nucleic_Acids_Res</td>\n",
       "      <td>15608166.0</td>\n",
       "      <td>2005</td>\n",
       "      <td>http://www.cs.ualberta.ca/~bioinfo/PA/</td>\n",
       "      <td>301</td>\n",
       "      <td>3</td>\n",
       "    </tr>\n",
       "    <tr>\n",
       "      <th>16974</th>\n",
       "      <td>body</td>\n",
       "      <td>Nucleic_Acids_Res</td>\n",
       "      <td>15608166.0</td>\n",
       "      <td>2005</td>\n",
       "      <td>http://redpoll.pharmacy.ualberta.ca/CCDB</td>\n",
       "      <td>301</td>\n",
       "      <td>3</td>\n",
       "    </tr>\n",
       "    <tr>\n",
       "      <th>4324</th>\n",
       "      <td>abstract</td>\n",
       "      <td>Nucleic_Acids_Res</td>\n",
       "      <td>15608172.0</td>\n",
       "      <td>2005</td>\n",
       "      <td>http://motif.stanford.edu/eblocks/</td>\n",
       "      <td>404</td>\n",
       "      <td>4</td>\n",
       "    </tr>\n",
       "    <tr>\n",
       "      <th>5294</th>\n",
       "      <td>abstract</td>\n",
       "      <td>Nucleic_Acids_Res</td>\n",
       "      <td>15608172.0</td>\n",
       "      <td>2005</td>\n",
       "      <td>http://otl.stanford.edu/</td>\n",
       "      <td>200</td>\n",
       "      <td>1</td>\n",
       "    </tr>\n",
       "    <tr>\n",
       "      <th>734</th>\n",
       "      <td>abstract</td>\n",
       "      <td>Nucleic_Acids_Res</td>\n",
       "      <td>15608174.0</td>\n",
       "      <td>2005</td>\n",
       "      <td>http://ekhidna.biocenter.helsinki.fi:9801/sqgr...</td>\n",
       "      <td>-1</td>\n",
       "      <td>-1</td>\n",
       "    </tr>\n",
       "  </tbody>\n",
       "</table>\n",
       "</div>"
      ],
      "text/plain": [
       "           type            journal          id  year  \\\n",
       "1516   abstract  Nucleic_Acids_Res  15608157.0  2005   \n",
       "25875      body  Nucleic_Acids_Res  15608157.0  2005   \n",
       "1771   abstract  Nucleic_Acids_Res  15608160.0  2005   \n",
       "3406   abstract  Nucleic_Acids_Res  15608160.0  2005   \n",
       "11997      body  Nucleic_Acids_Res  15608160.0  2005   \n",
       "2859   abstract  Nucleic_Acids_Res  15608162.0  2005   \n",
       "18563      body  Nucleic_Acids_Res  15608162.0  2005   \n",
       "3097   abstract  Nucleic_Acids_Res  15608164.0  2005   \n",
       "4575   abstract  Nucleic_Acids_Res  15608164.0  2005   \n",
       "7689   abstract  Nucleic_Acids_Res  15608166.0  2005   \n",
       "9325       body  Nucleic_Acids_Res  15608166.0  2005   \n",
       "16974      body  Nucleic_Acids_Res  15608166.0  2005   \n",
       "4324   abstract  Nucleic_Acids_Res  15608172.0  2005   \n",
       "5294   abstract  Nucleic_Acids_Res  15608172.0  2005   \n",
       "734    abstract  Nucleic_Acids_Res  15608174.0  2005   \n",
       "\n",
       "                                                    link  code  status  \n",
       "1516                 http://www.human-siRNA-database.net   301       3  \n",
       "25875                       www.human-siRNA-database.net    -1      -1  \n",
       "1771                              http://rfam.wustl.edu/    -1      -1  \n",
       "3406              http://www.sanger.ac.uk/Software/Rfam/   301       3  \n",
       "11997                         http://infernal.wustl.edu/    -1      -1  \n",
       "2859                              http://siRNA.cgb.ki.se   301       3  \n",
       "18563                          http://aosearch.cgb.ki.se    -1      -1  \n",
       "3097                   http://alpha.protres.ru/trnadbase    -1      -1  \n",
       "4575                     http://www.tRNA.uni-bayreuth.de   200       1  \n",
       "7689         http://www.cs.ualberta.ca/~bioinfo/PA/GOSUB   301       3  \n",
       "9325              http://www.cs.ualberta.ca/~bioinfo/PA/   301       3  \n",
       "16974           http://redpoll.pharmacy.ualberta.ca/CCDB   301       3  \n",
       "4324                  http://motif.stanford.edu/eblocks/   404       4  \n",
       "5294                            http://otl.stanford.edu/   200       1  \n",
       "734    http://ekhidna.biocenter.helsinki.fi:9801/sqgr...    -1      -1  "
      ]
     },
     "execution_count": 12,
     "metadata": {},
     "output_type": "execute_result"
    }
   ],
   "source": [
    "repeated_data = pd.concat(g for _, g in uniqueLinks.groupby(\"id\") if len(g) > 1)\n",
    "repeated_data.head(15)"
   ]
  },
  {
   "cell_type": "code",
   "execution_count": 13,
   "metadata": {},
   "outputs": [
    {
     "name": "stdout",
     "output_type": "stream",
     "text": [
      "<class 'pandas.core.frame.DataFrame'>\n",
      "Int64Index: 36702 entries, 0 to 48391\n",
      "Data columns (total 7 columns):\n",
      "type       36702 non-null object\n",
      "journal    36702 non-null object\n",
      "id         36536 non-null float64\n",
      "year       36702 non-null int64\n",
      "link       36702 non-null object\n",
      "code       36702 non-null int64\n",
      "status     36702 non-null int64\n",
      "dtypes: float64(1), int64(3), object(3)\n",
      "memory usage: 2.2+ MB\n"
     ]
    }
   ],
   "source": [
    "uniqueLinks.info()"
   ]
  },
  {
   "cell_type": "code",
   "execution_count": 14,
   "metadata": {},
   "outputs": [
    {
     "data": {
      "text/html": [
       "<div>\n",
       "<style scoped>\n",
       "    .dataframe tbody tr th:only-of-type {\n",
       "        vertical-align: middle;\n",
       "    }\n",
       "\n",
       "    .dataframe tbody tr th {\n",
       "        vertical-align: top;\n",
       "    }\n",
       "\n",
       "    .dataframe thead th {\n",
       "        text-align: right;\n",
       "    }\n",
       "</style>\n",
       "<table border=\"1\" class=\"dataframe\">\n",
       "  <thead>\n",
       "    <tr style=\"text-align: right;\">\n",
       "      <th></th>\n",
       "      <th>id</th>\n",
       "      <th>year</th>\n",
       "      <th>code</th>\n",
       "      <th>status</th>\n",
       "    </tr>\n",
       "  </thead>\n",
       "  <tbody>\n",
       "    <tr>\n",
       "      <th>count</th>\n",
       "      <td>3.653600e+04</td>\n",
       "      <td>36702.000000</td>\n",
       "      <td>36702.000000</td>\n",
       "      <td>36702.000000</td>\n",
       "    </tr>\n",
       "    <tr>\n",
       "      <th>mean</th>\n",
       "      <td>2.282358e+07</td>\n",
       "      <td>2012.014332</td>\n",
       "      <td>232.363413</td>\n",
       "      <td>1.849981</td>\n",
       "    </tr>\n",
       "    <tr>\n",
       "      <th>std</th>\n",
       "      <td>3.722272e+06</td>\n",
       "      <td>3.483438</td>\n",
       "      <td>120.649623</td>\n",
       "      <td>1.603584</td>\n",
       "    </tr>\n",
       "    <tr>\n",
       "      <th>min</th>\n",
       "      <td>1.560816e+07</td>\n",
       "      <td>2005.000000</td>\n",
       "      <td>-1.000000</td>\n",
       "      <td>-1.000000</td>\n",
       "    </tr>\n",
       "    <tr>\n",
       "      <th>25%</th>\n",
       "      <td>1.978383e+07</td>\n",
       "      <td>2009.000000</td>\n",
       "      <td>200.000000</td>\n",
       "      <td>1.000000</td>\n",
       "    </tr>\n",
       "    <tr>\n",
       "      <th>50%</th>\n",
       "      <td>2.318078e+07</td>\n",
       "      <td>2012.000000</td>\n",
       "      <td>301.000000</td>\n",
       "      <td>3.000000</td>\n",
       "    </tr>\n",
       "    <tr>\n",
       "      <th>75%</th>\n",
       "      <td>2.595065e+07</td>\n",
       "      <td>2015.000000</td>\n",
       "      <td>301.000000</td>\n",
       "      <td>3.000000</td>\n",
       "    </tr>\n",
       "    <tr>\n",
       "      <th>max</th>\n",
       "      <td>2.916934e+07</td>\n",
       "      <td>2017.000000</td>\n",
       "      <td>999.000000</td>\n",
       "      <td>4.000000</td>\n",
       "    </tr>\n",
       "  </tbody>\n",
       "</table>\n",
       "</div>"
      ],
      "text/plain": [
       "                 id          year          code        status\n",
       "count  3.653600e+04  36702.000000  36702.000000  36702.000000\n",
       "mean   2.282358e+07   2012.014332    232.363413      1.849981\n",
       "std    3.722272e+06      3.483438    120.649623      1.603584\n",
       "min    1.560816e+07   2005.000000     -1.000000     -1.000000\n",
       "25%    1.978383e+07   2009.000000    200.000000      1.000000\n",
       "50%    2.318078e+07   2012.000000    301.000000      3.000000\n",
       "75%    2.595065e+07   2015.000000    301.000000      3.000000\n",
       "max    2.916934e+07   2017.000000    999.000000      4.000000"
      ]
     },
     "execution_count": 14,
     "metadata": {},
     "output_type": "execute_result"
    }
   ],
   "source": [
    "uniqueLinks.describe()"
   ]
  },
  {
   "cell_type": "code",
   "execution_count": 15,
   "metadata": {},
   "outputs": [
    {
     "name": "stdout",
     "output_type": "stream",
     "text": [
      "Percent of repeated links: 100.0%\n"
     ]
    }
   ],
   "source": [
    "print( 'Percent of repeated links: %.1f%%' % ( (1 - len(uniqueLinks)/len(links))*100. ) )"
   ]
  },
  {
   "cell_type": "code",
   "execution_count": 16,
   "metadata": {},
   "outputs": [
    {
     "data": {
      "image/png": "[encoded data removed]",
      "text/plain": [
       "<Figure size 432x288 with 1 Axes>"
      ]
     },
     "metadata": {},
     "output_type": "display_data"
    }
   ],
   "source": [
    "statuses = np.array( uniqueLinks.status )\n",
    "\n",
    "f, ax = pl.subplots(1, 1)\n",
    "ax.hist( statuses, np.arange(-1.5,6,1), edgecolor=(0.2,0.2,0.2), lw=3, \n",
    "            color=(0.2,0.6,1.0) )\n",
    "\n",
    "\n",
    "ax.set_ylabel('Count')\n",
    "ax.set_xticks([-1, 1, 3, 4])\n",
    "ax.set_xticklabels( ['Time out', 'Accessible', 'Redirected', 'Not found'], rotation=-45 )\n",
    "\n",
    "pl.show()"
   ]
  },
  {
   "cell_type": "code",
   "execution_count": 17,
   "metadata": {},
   "outputs": [
    {
     "data": {
      "text/plain": [
       "(19209,)"
      ]
     },
     "execution_count": 17,
     "metadata": {},
     "output_type": "execute_result"
    }
   ],
   "source": [
    "np.unique(uniqueLinks.id).shape"
   ]
  },
  {
   "cell_type": "markdown",
   "metadata": {},
   "source": [
    "## Fixing http -> https redirection\n",
    "\n",
    "Due to increased security awareness in the past few years, a number of links marked as redirections are in fact just changing the http protocol to https. We will not consider them as redirection, if the rest of the URL is the same."
   ]
  },
  {
   "cell_type": "code",
   "execution_count": 18,
   "metadata": {},
   "outputs": [
    {
     "data": {
      "text/html": [
       "<div>\n",
       "<style scoped>\n",
       "    .dataframe tbody tr th:only-of-type {\n",
       "        vertical-align: middle;\n",
       "    }\n",
       "\n",
       "    .dataframe tbody tr th {\n",
       "        vertical-align: top;\n",
       "    }\n",
       "\n",
       "    .dataframe thead th {\n",
       "        text-align: right;\n",
       "    }\n",
       "</style>\n",
       "<table border=\"1\" class=\"dataframe\">\n",
       "  <thead>\n",
       "    <tr style=\"text-align: right;\">\n",
       "      <th></th>\n",
       "      <th>pubmed_id</th>\n",
       "      <th>url</th>\n",
       "      <th>status</th>\n",
       "      <th>https_redirect</th>\n",
       "    </tr>\n",
       "  </thead>\n",
       "  <tbody>\n",
       "    <tr>\n",
       "      <th>0</th>\n",
       "      <td>27273673</td>\n",
       "      <td>http://www.cs.helsinki.fi/u/lmsalmel/LoRMA/</td>\n",
       "      <td>302</td>\n",
       "      <td>True</td>\n",
       "    </tr>\n",
       "    <tr>\n",
       "      <th>1</th>\n",
       "      <td>20492656</td>\n",
       "      <td>http://www.cse.univdhaka.edu/~ashis/ppred/inde...</td>\n",
       "      <td>301</td>\n",
       "      <td>-1</td>\n",
       "    </tr>\n",
       "    <tr>\n",
       "      <th>2</th>\n",
       "      <td>28212402</td>\n",
       "      <td>https://dongjunchung.github.io/GGPA/</td>\n",
       "      <td>301</td>\n",
       "      <td>True</td>\n",
       "    </tr>\n",
       "    <tr>\n",
       "      <th>3</th>\n",
       "      <td>28130230</td>\n",
       "      <td>https://github.com/bfosso/MetaShot</td>\n",
       "      <td>301</td>\n",
       "      <td>True</td>\n",
       "    </tr>\n",
       "    <tr>\n",
       "      <th>4</th>\n",
       "      <td>20935049</td>\n",
       "      <td>http://github.com</td>\n",
       "      <td>301</td>\n",
       "      <td>False</td>\n",
       "    </tr>\n",
       "    <tr>\n",
       "      <th>5</th>\n",
       "      <td>21765097</td>\n",
       "      <td>http://nwrce.org/pgat</td>\n",
       "      <td>301</td>\n",
       "      <td>False</td>\n",
       "    </tr>\n",
       "    <tr>\n",
       "      <th>6</th>\n",
       "      <td>17939871</td>\n",
       "      <td>http://kdbio.inesc-id.pt/~svinga/ep/</td>\n",
       "      <td>301</td>\n",
       "      <td>False</td>\n",
       "    </tr>\n",
       "    <tr>\n",
       "      <th>7</th>\n",
       "      <td>28453681</td>\n",
       "      <td>http://opig.stats.ox.ac.uk/webapps/sphinx</td>\n",
       "      <td>301</td>\n",
       "      <td>False</td>\n",
       "    </tr>\n",
       "    <tr>\n",
       "      <th>8</th>\n",
       "      <td>21546392</td>\n",
       "      <td>http://www.microbio.me/boulderale</td>\n",
       "      <td>301</td>\n",
       "      <td>-1</td>\n",
       "    </tr>\n",
       "    <tr>\n",
       "      <th>9</th>\n",
       "      <td>22034521</td>\n",
       "      <td>http://www.cmbi.ru.nl/pdb_redo</td>\n",
       "      <td>302</td>\n",
       "      <td>False</td>\n",
       "    </tr>\n",
       "  </tbody>\n",
       "</table>\n",
       "</div>"
      ],
      "text/plain": [
       "   pubmed_id                                                url  status  \\\n",
       "0   27273673        http://www.cs.helsinki.fi/u/lmsalmel/LoRMA/     302   \n",
       "1   20492656  http://www.cse.univdhaka.edu/~ashis/ppred/inde...     301   \n",
       "2   28212402               https://dongjunchung.github.io/GGPA/     301   \n",
       "3   28130230                 https://github.com/bfosso/MetaShot     301   \n",
       "4   20935049                                  http://github.com     301   \n",
       "5   21765097                              http://nwrce.org/pgat     301   \n",
       "6   17939871               http://kdbio.inesc-id.pt/~svinga/ep/     301   \n",
       "7   28453681          http://opig.stats.ox.ac.uk/webapps/sphinx     301   \n",
       "8   21546392                  http://www.microbio.me/boulderale     301   \n",
       "9   22034521                     http://www.cmbi.ru.nl/pdb_redo     302   \n",
       "\n",
       "  https_redirect  \n",
       "0           True  \n",
       "1             -1  \n",
       "2           True  \n",
       "3           True  \n",
       "4          False  \n",
       "5          False  \n",
       "6          False  \n",
       "7          False  \n",
       "8             -1  \n",
       "9          False  "
      ]
     },
     "execution_count": 18,
     "metadata": {},
     "output_type": "execute_result"
    }
   ],
   "source": [
    "redirection_checking = pd.read_csv('http2https.redirected.csv', \n",
    "                                    header=None, names=['pubmed_id', 'url', 'status', 'https_redirect']\n",
    "                                  )\n",
    "redirection_checking.head(10)"
   ]
  },
  {
   "cell_type": "code",
   "execution_count": 19,
   "metadata": {},
   "outputs": [],
   "source": [
    "for index, row in redirection_checking.iterrows():\n",
    "    if row['https_redirect'] == 'True' and uniqueLinks[ uniqueLinks.link == row['url']].shape[0] > 0:\n",
    "        idx = np.where(uniqueLinks.link == row['url'])[0][0]\n",
    "        uniqueLinks.iloc[idx,6] = 1"
   ]
  },
  {
   "cell_type": "code",
   "execution_count": 20,
   "metadata": {},
   "outputs": [
    {
     "data": {
      "text/html": [
       "<div>\n",
       "<style scoped>\n",
       "    .dataframe tbody tr th:only-of-type {\n",
       "        vertical-align: middle;\n",
       "    }\n",
       "\n",
       "    .dataframe tbody tr th {\n",
       "        vertical-align: top;\n",
       "    }\n",
       "\n",
       "    .dataframe thead th {\n",
       "        text-align: right;\n",
       "    }\n",
       "</style>\n",
       "<table border=\"1\" class=\"dataframe\">\n",
       "  <thead>\n",
       "    <tr style=\"text-align: right;\">\n",
       "      <th></th>\n",
       "      <th>type</th>\n",
       "      <th>journal</th>\n",
       "      <th>id</th>\n",
       "      <th>year</th>\n",
       "      <th>link</th>\n",
       "      <th>code</th>\n",
       "      <th>status</th>\n",
       "    </tr>\n",
       "  </thead>\n",
       "  <tbody>\n",
       "    <tr>\n",
       "      <th>0</th>\n",
       "      <td>abstract</td>\n",
       "      <td>Nucleic_Acids_Res</td>\n",
       "      <td>23155066.0</td>\n",
       "      <td>2013</td>\n",
       "      <td>http://www.netlab.uky.edu/p/bioinfo/DiffSplice</td>\n",
       "      <td>200</td>\n",
       "      <td>1</td>\n",
       "    </tr>\n",
       "    <tr>\n",
       "      <th>1</th>\n",
       "      <td>abstract</td>\n",
       "      <td>Bioinformatics</td>\n",
       "      <td>27273673.0</td>\n",
       "      <td>2017</td>\n",
       "      <td>http://www.cs.helsinki.fi/u/lmsalmel/LoRMA/</td>\n",
       "      <td>302</td>\n",
       "      <td>1</td>\n",
       "    </tr>\n",
       "    <tr>\n",
       "      <th>2</th>\n",
       "      <td>abstract</td>\n",
       "      <td>BMC_Bioinformatics</td>\n",
       "      <td>20492656.0</td>\n",
       "      <td>2010</td>\n",
       "      <td>http://www.cse.univdhaka.edu/~ashis/ppred/inde...</td>\n",
       "      <td>301</td>\n",
       "      <td>3</td>\n",
       "    </tr>\n",
       "    <tr>\n",
       "      <th>3</th>\n",
       "      <td>abstract</td>\n",
       "      <td>PLoS_Comput_Biol</td>\n",
       "      <td>28212402.0</td>\n",
       "      <td>2017</td>\n",
       "      <td>https://dongjunchung.github.io/GGPA/</td>\n",
       "      <td>301</td>\n",
       "      <td>1</td>\n",
       "    </tr>\n",
       "    <tr>\n",
       "      <th>4</th>\n",
       "      <td>abstract</td>\n",
       "      <td>Bioinformatics</td>\n",
       "      <td>28130230.0</td>\n",
       "      <td>2017</td>\n",
       "      <td>https://github.com/bfosso/MetaShot</td>\n",
       "      <td>301</td>\n",
       "      <td>1</td>\n",
       "    </tr>\n",
       "  </tbody>\n",
       "</table>\n",
       "</div>"
      ],
      "text/plain": [
       "       type             journal          id  year  \\\n",
       "0  abstract   Nucleic_Acids_Res  23155066.0  2013   \n",
       "1  abstract      Bioinformatics  27273673.0  2017   \n",
       "2  abstract  BMC_Bioinformatics  20492656.0  2010   \n",
       "3  abstract    PLoS_Comput_Biol  28212402.0  2017   \n",
       "4  abstract      Bioinformatics  28130230.0  2017   \n",
       "\n",
       "                                                link  code  status  \n",
       "0     http://www.netlab.uky.edu/p/bioinfo/DiffSplice   200       1  \n",
       "1        http://www.cs.helsinki.fi/u/lmsalmel/LoRMA/   302       1  \n",
       "2  http://www.cse.univdhaka.edu/~ashis/ppred/inde...   301       3  \n",
       "3               https://dongjunchung.github.io/GGPA/   301       1  \n",
       "4                 https://github.com/bfosso/MetaShot   301       1  "
      ]
     },
     "execution_count": 20,
     "metadata": {},
     "output_type": "execute_result"
    }
   ],
   "source": [
    "uniqueLinks.head()"
   ]
  },
  {
   "cell_type": "code",
   "execution_count": 21,
   "metadata": {},
   "outputs": [
    {
     "name": "stdout",
     "output_type": "stream",
     "text": [
      "(array([ 6036, 10926, 16336,  3404]), array([-1.2, -0.8,  1.8,  3.8,  4.8]))\n",
      "0.16445970246853034\n",
      "0.2976949485041687\n",
      "0.44509835976241074\n",
      "0.0927469892648902\n"
     ]
    }
   ],
   "source": [
    "statuses = uniqueLinks.status\n",
    "count, bin_values = np.histogram(statuses, bins = [-1.2,-0.8,1.8,3.8,4.8])\n",
    "\n",
    "print(count, bin_values)\n",
    "total = float(count.sum())\n",
    "\n",
    "for j in range(4):\n",
    "    print(count[j]/total)"
   ]
  },
  {
   "cell_type": "code",
   "execution_count": 22,
   "metadata": {},
   "outputs": [
    {
     "data": {
      "text/plain": [
       "0.25720669173342053"
      ]
     },
     "execution_count": 22,
     "metadata": {},
     "output_type": "execute_result"
    }
   ],
   "source": [
    "(count[0]+count[-1])/total"
   ]
  },
  {
   "cell_type": "markdown",
   "metadata": {},
   "source": [
    "## Constructing a dataframe with only abstracts"
   ]
  },
  {
   "cell_type": "code",
   "execution_count": 23,
   "metadata": {},
   "outputs": [
    {
     "name": "stdout",
     "output_type": "stream",
     "text": [
      "<class 'pandas.core.frame.DataFrame'>\n",
      "Int64Index: 7183 entries, 0 to 7877\n",
      "Data columns (total 7 columns):\n",
      "type       7183 non-null object\n",
      "journal    7183 non-null object\n",
      "id         7182 non-null float64\n",
      "year       7183 non-null int64\n",
      "link       7183 non-null object\n",
      "code       7183 non-null int64\n",
      "status     7183 non-null int64\n",
      "dtypes: float64(1), int64(3), object(3)\n",
      "memory usage: 448.9+ KB\n"
     ]
    }
   ],
   "source": [
    "uniqueLinks_abs = uniqueLinks[ uniqueLinks.type == 'abstract' ]\n",
    "uniqueLinks_abs.info()"
   ]
  },
  {
   "cell_type": "markdown",
   "metadata": {},
   "source": [
    "## Number of entries per journal"
   ]
  },
  {
   "cell_type": "code",
   "execution_count": 24,
   "metadata": {},
   "outputs": [
    {
     "data": {
      "image/png": "[encoded data removed]",
      "text/plain": [
       "<Figure size 432x288 with 1 Axes>"
      ]
     },
     "metadata": {},
     "output_type": "display_data"
    },
    {
     "name": "stdout",
     "output_type": "stream",
     "text": [
      "Journal name \t\t Count\n",
      "Nat_Biotechnol\t\t 180\n",
      "Genome_Med\t\t 352\n",
      "Nat_Methods\t\t 403\n",
      "Genome_Biol\t\t 904\n",
      "BMC_Syst_Biol\t\t 912\n",
      "Bioinformatics\t\t 3131\n",
      "PLoS_Comput_Bio\t\t 3226\n",
      "BMC_Bioinformat\t\t 6840\n",
      "BMC_Genomics\t\t 7651\n",
      "Nucleic_Acids_R\t\t 13103\n"
     ]
    }
   ],
   "source": [
    "journals = np.array( uniqueLinks.journal )\n",
    "journalTitles = np.unique(journals)\n",
    "\n",
    "jhash = {}\n",
    "for jid,journal in enumerate(journalTitles):\n",
    "    jhash[journal] = jid\n",
    "listxs = np.arange(0,11,1)\n",
    "\n",
    "journals_num = [ jhash[journal] for journal in journals ]\n",
    "\n",
    "counts, bins = np.histogram( journals_num, bins=listxs )\n",
    "\n",
    "newIDX = np.argsort(counts)\n",
    "\n",
    "f, ax = pl.subplots(1, 1)\n",
    "ax.barh( bins[0:-1], counts[newIDX], 0.8, edgecolor=(0.2,0.2,0.2), lw=2, \n",
    "            color=(0.2,0.6,1.0) )\n",
    "\n",
    "ax.spines['bottom'].set_visible(False)\n",
    "ax.spines['right'].set_visible(False)\n",
    "ax.get_xaxis().tick_top()\n",
    "ax.get_yaxis().tick_left()\n",
    "\n",
    "ax.text( 5000, 11.3, 'Entries count', fontsize=12 )\n",
    "\n",
    "ax.set_yticks( listxs )\n",
    "ax.set_yticklabels( journalTitles[newIDX], rotation=0, fontsize=12 )\n",
    "\n",
    "pl.show()\n",
    "\n",
    "print('Journal name \\t\\t Count')\n",
    "for jid,journal in enumerate(journalTitles[newIDX]):\n",
    "    print('%s\\t\\t %d' %(journal[:15],counts[newIDX][jid]) )"
   ]
  },
  {
   "cell_type": "markdown",
   "metadata": {},
   "source": [
    "## Number of entries per abstract"
   ]
  },
  {
   "cell_type": "code",
   "execution_count": 25,
   "metadata": {},
   "outputs": [
    {
     "data": {
      "image/png": "[encoded data removed]",
      "text/plain": [
       "<Figure size 432x288 with 1 Axes>"
      ]
     },
     "metadata": {},
     "output_type": "display_data"
    },
    {
     "name": "stdout",
     "output_type": "stream",
     "text": [
      "Journal name \t\t Count\n",
      "Nat_Biotechnol\t\t 1\n",
      "Genome_Med\t\t 18\n",
      "Nat_Methods\t\t 20\n",
      "Genome_Biol\t\t 60\n",
      "BMC_Syst_Biol\t\t 104\n",
      "PLoS_Comput_Bio\t\t 259\n",
      "BMC_Genomics\t\t 386\n",
      "BMC_Bioinformat\t\t 1161\n",
      "Bioinformatics\t\t 1866\n",
      "Nucleic_Acids_R\t\t 3308\n"
     ]
    }
   ],
   "source": [
    "journals = np.array( uniqueLinks_abs.journal )\n",
    "journalTitles = np.unique(journals)\n",
    "\n",
    "jhash = {}\n",
    "for jid,journal in enumerate(journalTitles):\n",
    "    jhash[journal] = jid\n",
    "listxs = np.arange(0,11,1)\n",
    "\n",
    "journals_num = [ jhash[journal] for journal in journals ]\n",
    "\n",
    "counts, bins = np.histogram( journals_num, bins=listxs )\n",
    "\n",
    "newIDX = np.argsort(counts)\n",
    "\n",
    "f, ax = pl.subplots(1, 1)\n",
    "ax.barh( bins[0:-1], counts[newIDX], 0.8, edgecolor=(0.2,0.2,0.2), lw=2, \n",
    "            color=(0.2,0.6,1.0) )\n",
    "\n",
    "ax.spines['bottom'].set_visible(False)\n",
    "ax.spines['right'].set_visible(False)\n",
    "ax.get_xaxis().tick_top()\n",
    "ax.get_yaxis().tick_left()\n",
    "\n",
    "ax.text( 1200, 11.3, 'Entries count', fontsize=12 )\n",
    "\n",
    "ax.set_yticks( listxs )\n",
    "ax.set_yticklabels( journalTitles[newIDX], rotation=0, fontsize=12 )\n",
    "\n",
    "pl.show()\n",
    "\n",
    "print('Journal name \\t\\t Count')\n",
    "for jid,journal in enumerate(journalTitles[newIDX]):\n",
    "    print('%s\\t\\t %d' %(journal[:15],counts[newIDX][jid]) )"
   ]
  },
  {
   "cell_type": "markdown",
   "metadata": {},
   "source": [
    "## Number of of links per year"
   ]
  },
  {
   "cell_type": "code",
   "execution_count": 26,
   "metadata": {},
   "outputs": [],
   "source": [
    "uLinks_year = uniqueLinks.groupby(['year', 'status']).agg('count')"
   ]
  },
  {
   "cell_type": "code",
   "execution_count": 27,
   "metadata": {},
   "outputs": [
    {
     "data": {
      "text/html": [
       "<div>\n",
       "<style scoped>\n",
       "    .dataframe tbody tr th:only-of-type {\n",
       "        vertical-align: middle;\n",
       "    }\n",
       "\n",
       "    .dataframe tbody tr th {\n",
       "        vertical-align: top;\n",
       "    }\n",
       "\n",
       "    .dataframe thead th {\n",
       "        text-align: right;\n",
       "    }\n",
       "</style>\n",
       "<table border=\"1\" class=\"dataframe\">\n",
       "  <thead>\n",
       "    <tr style=\"text-align: right;\">\n",
       "      <th></th>\n",
       "      <th></th>\n",
       "      <th>type</th>\n",
       "      <th>journal</th>\n",
       "      <th>id</th>\n",
       "      <th>link</th>\n",
       "      <th>code</th>\n",
       "    </tr>\n",
       "    <tr>\n",
       "      <th>year</th>\n",
       "      <th>status</th>\n",
       "      <th></th>\n",
       "      <th></th>\n",
       "      <th></th>\n",
       "      <th></th>\n",
       "      <th></th>\n",
       "    </tr>\n",
       "  </thead>\n",
       "  <tbody>\n",
       "    <tr>\n",
       "      <th rowspan=\"4\" valign=\"top\">2005</th>\n",
       "      <th>-1</th>\n",
       "      <td>462</td>\n",
       "      <td>462</td>\n",
       "      <td>461</td>\n",
       "      <td>462</td>\n",
       "      <td>462</td>\n",
       "    </tr>\n",
       "    <tr>\n",
       "      <th>1</th>\n",
       "      <td>319</td>\n",
       "      <td>319</td>\n",
       "      <td>318</td>\n",
       "      <td>319</td>\n",
       "      <td>319</td>\n",
       "    </tr>\n",
       "    <tr>\n",
       "      <th>3</th>\n",
       "      <td>549</td>\n",
       "      <td>549</td>\n",
       "      <td>535</td>\n",
       "      <td>549</td>\n",
       "      <td>549</td>\n",
       "    </tr>\n",
       "    <tr>\n",
       "      <th>4</th>\n",
       "      <td>235</td>\n",
       "      <td>235</td>\n",
       "      <td>233</td>\n",
       "      <td>235</td>\n",
       "      <td>235</td>\n",
       "    </tr>\n",
       "    <tr>\n",
       "      <th rowspan=\"4\" valign=\"top\">2006</th>\n",
       "      <th>-1</th>\n",
       "      <td>442</td>\n",
       "      <td>442</td>\n",
       "      <td>435</td>\n",
       "      <td>442</td>\n",
       "      <td>442</td>\n",
       "    </tr>\n",
       "    <tr>\n",
       "      <th>1</th>\n",
       "      <td>333</td>\n",
       "      <td>333</td>\n",
       "      <td>333</td>\n",
       "      <td>333</td>\n",
       "      <td>333</td>\n",
       "    </tr>\n",
       "    <tr>\n",
       "      <th>3</th>\n",
       "      <td>591</td>\n",
       "      <td>591</td>\n",
       "      <td>585</td>\n",
       "      <td>591</td>\n",
       "      <td>591</td>\n",
       "    </tr>\n",
       "    <tr>\n",
       "      <th>4</th>\n",
       "      <td>216</td>\n",
       "      <td>216</td>\n",
       "      <td>212</td>\n",
       "      <td>216</td>\n",
       "      <td>216</td>\n",
       "    </tr>\n",
       "    <tr>\n",
       "      <th rowspan=\"4\" valign=\"top\">2007</th>\n",
       "      <th>-1</th>\n",
       "      <td>468</td>\n",
       "      <td>468</td>\n",
       "      <td>466</td>\n",
       "      <td>468</td>\n",
       "      <td>468</td>\n",
       "    </tr>\n",
       "    <tr>\n",
       "      <th>1</th>\n",
       "      <td>340</td>\n",
       "      <td>340</td>\n",
       "      <td>335</td>\n",
       "      <td>340</td>\n",
       "      <td>340</td>\n",
       "    </tr>\n",
       "    <tr>\n",
       "      <th>3</th>\n",
       "      <td>603</td>\n",
       "      <td>603</td>\n",
       "      <td>588</td>\n",
       "      <td>603</td>\n",
       "      <td>603</td>\n",
       "    </tr>\n",
       "    <tr>\n",
       "      <th>4</th>\n",
       "      <td>230</td>\n",
       "      <td>230</td>\n",
       "      <td>230</td>\n",
       "      <td>230</td>\n",
       "      <td>230</td>\n",
       "    </tr>\n",
       "  </tbody>\n",
       "</table>\n",
       "</div>"
      ],
      "text/plain": [
       "             type  journal   id  link  code\n",
       "year status                                \n",
       "2005 -1       462      462  461   462   462\n",
       "      1       319      319  318   319   319\n",
       "      3       549      549  535   549   549\n",
       "      4       235      235  233   235   235\n",
       "2006 -1       442      442  435   442   442\n",
       "      1       333      333  333   333   333\n",
       "      3       591      591  585   591   591\n",
       "      4       216      216  212   216   216\n",
       "2007 -1       468      468  466   468   468\n",
       "      1       340      340  335   340   340\n",
       "      3       603      603  588   603   603\n",
       "      4       230      230  230   230   230"
      ]
     },
     "execution_count": 27,
     "metadata": {},
     "output_type": "execute_result"
    }
   ],
   "source": [
    "uLinks_year.head(12)"
   ]
  },
  {
   "cell_type": "markdown",
   "metadata": {},
   "source": [
    "Grouping by status and retrieving the percent for each status per year."
   ]
  },
  {
   "cell_type": "code",
   "execution_count": 28,
   "metadata": {},
   "outputs": [],
   "source": [
    "tseries = {}\n",
    "for j,status in enumerate([-1, 1, 3, 4]):\n",
    "    tseries[status] = np.array( uLinks_year.iloc[j::4].link )"
   ]
  },
  {
   "cell_type": "markdown",
   "metadata": {},
   "source": [
    "Plotting"
   ]
  },
  {
   "cell_type": "code",
   "execution_count": 29,
   "metadata": {},
   "outputs": [
    {
     "data": {
      "image/png": "[encoded data removed]",
      "text/plain": [
       "<Figure size 288x158.4 with 1 Axes>"
      ]
     },
     "metadata": {},
     "output_type": "display_data"
    }
   ],
   "source": [
    "barsize=0.75\n",
    "\n",
    "f, ax = pl.subplots(1, 1, figsize=(4,2.2) )\n",
    "\n",
    "b = np.zeros( tseries[status].shape[0] )\n",
    "years = np.arange(2005,2018,1)\n",
    "\n",
    "for zlabel,status in enumerate([4,-1,1,3]):\n",
    "    ax.bar( years, tseries[status] + b, barsize, label=legendStatus[status], \n",
    "               color=colors[status], zorder=-1-zlabel )\n",
    "    b += tseries[status]\n",
    "\n",
    "simpleaxis(ax)\n",
    "\n",
    "ax.set_ylabel(\"Number of links\")\n",
    "ax.set_yticks( np.arange(0,4001,1000) )\n",
    "ax.set_yticklabels( np.array( np.arange(0,4001,1000), dtype=int ), fontsize=8 )\n",
    "\n",
    "ax.set_xlabel(\"Year\")\n",
    "ax.set_xticks( np.arange( 2005,2020,3 ) )\n",
    "ax.set_xticklabels( np.arange( 2005,2020,3 ), fontsize=8 )\n",
    "\n",
    "pl.legend(bbox_to_anchor=(1,1.4), frameon=False, ncol=4, \n",
    "          handletextpad=0.2, columnspacing=0.8, handlelength=1)\n",
    "\n",
    "pl.tight_layout()\n",
    "pl.savefig('Figure_1_panels/NumLinks per year - all.pdf')"
   ]
  },
  {
   "cell_type": "markdown",
   "metadata": {},
   "source": [
    "## Percent of links per year"
   ]
  },
  {
   "cell_type": "markdown",
   "metadata": {},
   "source": [
    "Normalizing the number of links for each year."
   ]
  },
  {
   "cell_type": "code",
   "execution_count": 30,
   "metadata": {},
   "outputs": [],
   "source": [
    "tseries_norm = np.zeros( tseries[-1].shape )\n",
    "for status in [-1, 1, 3, 4]:\n",
    "    tseries_norm += tseries[status]"
   ]
  },
  {
   "cell_type": "code",
   "execution_count": 31,
   "metadata": {},
   "outputs": [
    {
     "data": {
      "image/png": "[encoded data removed]",
      "text/plain": [
       "<Figure size 288x158.4 with 1 Axes>"
      ]
     },
     "metadata": {},
     "output_type": "display_data"
    }
   ],
   "source": [
    "barsize=0.75\n",
    "\n",
    "f, ax = pl.subplots(1, 1, figsize=(4,2.2) )\n",
    "\n",
    "b = np.zeros( tseries[status].shape[0] )\n",
    "years = np.arange(2005,2018,1)\n",
    "\n",
    "for zlabel,status in enumerate([4,-1,1,3]):\n",
    "    ax.bar( years, ( tseries[status]/tseries_norm + b )*100., \n",
    "               barsize, label=legendStatus[status], \n",
    "               color=colors[status], zorder=-1-zlabel )\n",
    "    b += tseries[status]/tseries_norm\n",
    "\n",
    "simpleaxis(ax)\n",
    "\n",
    "ax.set_ylabel(\"Percent of links (%)\")\n",
    "ax.set_yticks( np.arange(0,101,25) )\n",
    "ax.set_yticklabels( np.array( np.arange(0,101,25), dtype=int ), fontsize=8 )\n",
    "\n",
    "ax.set_xlabel(\"Year\")\n",
    "ax.set_xticks( np.arange( 2005,2020,3 ) )\n",
    "ax.set_xticklabels( np.arange( 2005,2020,3 ), fontsize=8 )\n",
    "\n",
    "pl.legend(bbox_to_anchor=(1,1.4), frameon=False, ncol=4, \n",
    "          handletextpad=0.2, columnspacing=0.8, handlelength=1)\n",
    "\n",
    "pl.tight_layout()\n",
    "pl.savefig('Figure_1_panels/Percent per year - all.pdf')"
   ]
  },
  {
   "cell_type": "markdown",
   "metadata": {},
   "source": [
    "## Number of links as function of time"
   ]
  },
  {
   "cell_type": "markdown",
   "metadata": {},
   "source": [
    "Counting total number per year"
   ]
  },
  {
   "cell_type": "markdown",
   "metadata": {},
   "source": [
    "Plotting:"
   ]
  },
  {
   "cell_type": "code",
   "execution_count": 32,
   "metadata": {},
   "outputs": [
    {
     "data": {
      "image/png": "[encoded data removed]",
      "text/plain": [
       "<Figure size 244.8x144 with 1 Axes>"
      ]
     },
     "metadata": {},
     "output_type": "display_data"
    }
   ],
   "source": [
    "f, ax = pl.subplots( 1, 1, figsize=(3.4, 2.) )\n",
    "\n",
    "pl.plot( years, tseries[1] + tseries[3], 'o-', \n",
    "            markersize=7, label='Accessible + Redirected', color=colors2['fg_accessb'],\n",
    "            markeredgecolor=colors2['fg_accessb'], markerfacecolor=colors2['bg_accessb'] )\n",
    "pl.plot( years, tseries[-1] + tseries[4], 's-', \n",
    "            markersize=6, label='Broken + Time out', color=colors2['fg_unreach'],\n",
    "            markeredgecolor=colors2['fg_unreach'], markerfacecolor=colors2['bg_unreach'] )\n",
    "\n",
    "simpleaxis(ax)\n",
    "\n",
    "pl.ylabel('Number of links')\n",
    "pl.ylim(0,4050)\n",
    "\n",
    "pl.xlabel('Time (years)')\n",
    "pl.xlim(2004.5,2017.5)\n",
    "\n",
    "pl.legend(bbox_to_anchor=(0.9,1.5), frameon=False, handlelength=1.3)\n",
    "\n",
    "pl.tight_layout()\n",
    "pl.savefig('Figure_1_panels/Total per year - all.pdf')"
   ]
  },
  {
   "cell_type": "markdown",
   "metadata": {},
   "source": [
    "Ratio between accessible links in 2017 in reference to that in 2005"
   ]
  },
  {
   "cell_type": "code",
   "execution_count": 33,
   "metadata": {},
   "outputs": [
    {
     "name": "stdout",
     "output_type": "stream",
     "text": [
      "Ratio: 3.00\n",
      "Average growth ratio: 0.0%\n"
     ]
    }
   ],
   "source": [
    "numAccessible = tseries[1] + tseries[3]\n",
    "\n",
    "ratio = numAccessible[-1] / numAccessible[0]\n",
    "print('Ratio: %.2f' % ratio)\n",
    "\n",
    "avgGrowthRatio = (numAccessible[-1] - numAccessible[0]) / (2017-2005) / numAccessible[0]\n",
    "print( 'Average growth ratio: %.1f%%' % (avgGrowthRatio*100) )"
   ]
  },
  {
   "cell_type": "markdown",
   "metadata": {},
   "source": [
    "Ratio between unreachable links in 2017 in reference to that in 2005"
   ]
  },
  {
   "cell_type": "code",
   "execution_count": 34,
   "metadata": {},
   "outputs": [
    {
     "name": "stdout",
     "output_type": "stream",
     "text": [
      "Ratio: 0.00\n",
      "Average growth ratio: -100.0%\n"
     ]
    }
   ],
   "source": [
    "numUnreachable = tseries[-1] + tseries[4]\n",
    "\n",
    "ratio = numUnreachable[-1] / numUnreachable[0]\n",
    "print('Ratio: %.2f' % ratio)\n",
    "\n",
    "\n",
    "avgGrowthRatio = (numUnreachable[-1] - numUnreachable[0]) / (2017-2005) / numUnreachable[0]\n",
    "print( 'Average growth ratio: %.1f%%' % (avgGrowthRatio*100) )"
   ]
  },
  {
   "cell_type": "markdown",
   "metadata": {},
   "source": [
    "# Parsing Github and SourceForge"
   ]
  },
  {
   "cell_type": "code",
   "execution_count": 35,
   "metadata": {},
   "outputs": [],
   "source": [
    "def count_status(statuses):\n",
    "    count, bin_values = np.histogram(statuses, bins = [-1.2,-0.8,1.8,3.8,4.8])\n",
    "\n",
    "    print(count, bin_values)\n",
    "    total = float(count.sum())\n",
    "\n",
    "    for j in range(4):\n",
    "        print(count[j]/total)"
   ]
  },
  {
   "cell_type": "code",
   "execution_count": 36,
   "metadata": {},
   "outputs": [
    {
     "name": "stdout",
     "output_type": "stream",
     "text": [
      "(array([  3,  98, 252,   0]), array([-1.2, -0.8,  1.8,  3.8,  4.8]))\n",
      "0.0084985835694051\n",
      "0.2776203966005666\n",
      "0.7138810198300283\n",
      "0.0\n",
      "(array([  1, 107, 105,   1]), array([-1.2, -0.8,  1.8,  3.8,  4.8]))\n",
      "0.004672897196261682\n",
      "0.5\n",
      "0.49065420560747663\n",
      "0.004672897196261682\n",
      "(array([1166, 2466, 2400,  584]), array([-1.2, -0.8,  1.8,  3.8,  4.8]))\n",
      "0.17623941958887546\n",
      "0.37273276904474\n",
      "0.36275695284159615\n",
      "0.08827085852478839\n"
     ]
    }
   ],
   "source": [
    "find_github = lambda x: 'github.com' in x.link\n",
    "find_sourceforge = lambda x: 'sourceforge.net' in x.link\n",
    "find_others = lambda x: ('github.com' not in x.link) and ('sourceforge.net' not in x.link)\n",
    "\n",
    "uniqLabs_github = uniqueLinks_abs[ uniqueLinks_abs.apply(find_github, axis=1) ]\n",
    "uniqLabs_sourceforge = uniqueLinks_abs[ uniqueLinks_abs.apply(find_sourceforge, axis=1) ]\n",
    "uniqLabs_others = uniqueLinks_abs[ uniqueLinks_abs.apply(find_others, axis=1) ]\n",
    "\n",
    "count_status(uniqLabs_github.status)\n",
    "count_status(uniqLabs_sourceforge.status)\n",
    "count_status(uniqLabs_others.status)"
   ]
  },
  {
   "cell_type": "code",
   "execution_count": 37,
   "metadata": {},
   "outputs": [
    {
     "data": {
      "image/png": "[encoded data removed]",
      "text/plain": [
       "<Figure size 108x100.8 with 1 Axes>"
      ]
     },
     "metadata": {},
     "output_type": "display_data"
    }
   ],
   "source": [
    "f, ax = pl.subplots( 1, 1, figsize=(1.5, 1.4) )\n",
    "\n",
    "# let's make sure the order is maintained:\n",
    "data_broken = np.array([0.08827085852478839, 0.004672897196261682,0])\n",
    "data_timeout = np.array([0.17623941958887546, 0.004672897196261682, 0.0084985835694051])\n",
    "data_accessible = np.array([0.4068923821039903, 0.7009345794392523, 0.9036827195467422])\n",
    "data_redirected = np.array([0.32859733978234584, 0.2897196261682243, 0.08781869688385269])\n",
    "\n",
    "colors = { -1 : (1.0,0.6,0.2), 1 : (0.2,0.7,0.2), 3 : (0.2,0.4,1.0), 4 : (1.0,0.,0.) }\n",
    "\n",
    "pl.bar( [0,1,2], data_broken+data_timeout+data_accessible+data_redirected, 0.7, color=colors[3], lw=1.3, capsize=8 )\n",
    "pl.bar( [0,1,2], data_broken+data_timeout+data_accessible, 0.7, color=colors[1], lw=1.3, capsize=8 )\n",
    "pl.bar( [0,1,2], data_broken+data_timeout, 0.7, color=colors[-1], lw=1.3, capsize=8 )\n",
    "pl.bar( [0,1,2], data_broken, 0.7, color=colors[4], lw=1.3, capsize=8 )\n",
    "\n",
    "ax.set_ylim(0,1)\n",
    "ax.set_ylabel('Percent of Links')\n",
    "\n",
    "ax.set_xlabel('')\n",
    "ax.set_xlim(-0.5,2.5)\n",
    "ax.set_xticks([0,1,2])\n",
    "ax.set_xticklabels( ['Others','Source\\nForge','GitHub'], \n",
    "                       rotation=-25, fontsize=9)\n",
    "\n",
    "simpleaxis(ax)\n",
    "\n",
    "pl.savefig('Figure_1_panels/Percent - github sourceforge.pdf')"
   ]
  },
  {
   "cell_type": "code",
   "execution_count": 38,
   "metadata": {},
   "outputs": [
    {
     "data": {
      "image/png": "[encoded data removed]",
      "text/plain": [
       "<Figure size 144x115.2 with 1 Axes>"
      ]
     },
     "metadata": {},
     "output_type": "display_data"
    }
   ],
   "source": [
    "f, ax = pl.subplots(1, 1, figsize=(2.,1.6))\n",
    "\n",
    "data_broken = np.array([0.08827085852478839, 0.004672897196261682,0])*100\n",
    "data_timeout = np.array([0.17623941958887546, 0.004672897196261682, 0.0084985835694051])*100\n",
    "\n",
    "data_unreachable = data_broken + data_timeout\n",
    "\n",
    "ax.barh( [0,1,2], data_unreachable, 0.6, edgecolor=(1.0,0.0,0.0), lw=0.1, color=(1.0,0.0,0.0) )\n",
    "\n",
    "ax.spines['top'].set_visible(False)\n",
    "ax.spines['right'].set_visible(False)\n",
    "ax.get_xaxis().tick_bottom()\n",
    "ax.get_yaxis().tick_left()\n",
    "\n",
    "ax.text( -0.05, -1.5, 'Unreachable links (%)', fontsize=12 )\n",
    "\n",
    "ax.set_xticks( [0, 10, 20, 30] )\n",
    "ax.set_yticks( [0, 1, 2] )\n",
    "ax.set_yticklabels( ['Others', 'Source\\nForge', 'GitHub'], rotation=0, fontsize=11 )\n",
    "\n",
    "pl.savefig('Figure_1_panels/Percent - github sourceforge_I.pdf')"
   ]
  },
  {
   "cell_type": "code",
   "execution_count": 39,
   "metadata": {},
   "outputs": [
    {
     "data": {
      "image/png": "[encoded data removed]",
      "text/plain": [
       "<Figure size 172.8x144 with 1 Axes>"
      ]
     },
     "metadata": {},
     "output_type": "display_data"
    }
   ],
   "source": [
    "uniqLabs_github = uniqueLinks_abs[ uniqueLinks_abs.apply(find_github, axis=1) ]\n",
    "\n",
    "tseries_norm = uniqueLinks_abs.groupby(['year']).agg('count').type\n",
    "tseries_GH = uniqLabs_github.groupby(['year']).agg('count').type[:-1]/tseries_norm[5:-1]*100\n",
    "years_gh = range(2010,2017)\n",
    "tseries_SF = uniqLabs_sourceforge.groupby(['year']).agg('count').type/tseries_norm[:-1]*100\n",
    "years_sf = range(2005,2017)\n",
    "\n",
    "f, ax = pl.subplots( 1, 1, figsize=(2.4, 2.) )\n",
    "\n",
    "gh_color=(0.0,0.0,0.5)\n",
    "gh_incolor=(0.3,0.8,1.0)\n",
    "pl.plot( years_gh, tseries_GH, 's-', zorder=2,\n",
    "            markersize=5, label='GitHub', color=gh_color,\n",
    "            markeredgecolor=gh_color, markerfacecolor=gh_incolor )\n",
    "\n",
    "sf_color=(0.8,0.0,0.0)\n",
    "sf_incolor=(1.0,0.8,0.8)\n",
    "pl.plot( years_sf, tseries_SF, 'o-', zorder=1,\n",
    "            markersize=5, label='SourceForge', color=sf_color,\n",
    "            markeredgecolor=sf_color, markerfacecolor=sf_incolor )\n",
    "\n",
    "simpleaxis(ax)\n",
    "\n",
    "pl.ylabel('Percent of links')\n",
    "pl.ylim(0,22)\n",
    "ax.set_xticks([2005, 2010, 2015])\n",
    "\n",
    "pl.xlabel('Year')\n",
    "pl.xlim(2004.5,2016.5)\n",
    "\n",
    "pl.legend(bbox_to_anchor=(0.85,1.), frameon=False, handlelength=1.3, fontsize=10)\n",
    "\n",
    "pl.tight_layout()\n",
    "pl.savefig('Figure_1_panels/Total per year - github.pdf')"
   ]
  },
  {
   "cell_type": "markdown",
   "metadata": {},
   "source": [
    "## Number of links per year - abstract only"
   ]
  },
  {
   "cell_type": "code",
   "execution_count": 40,
   "metadata": {},
   "outputs": [],
   "source": [
    "uLinks_ya = uniqueLinks_abs.groupby(['year', 'status']).agg('count')\n",
    "\n",
    "tseries_abs = {}\n",
    "for j,status in enumerate([-1, 1, 3, 4]):\n",
    "    tseries_abs[status] = np.array( uLinks_ya.iloc[j::4].link )"
   ]
  },
  {
   "cell_type": "code",
   "execution_count": 41,
   "metadata": {},
   "outputs": [
    {
     "data": {
      "image/png": "[encoded data removed]",
      "text/plain": [
       "<Figure size 288x158.4 with 1 Axes>"
      ]
     },
     "metadata": {},
     "output_type": "display_data"
    }
   ],
   "source": [
    "barsize=0.75\n",
    "\n",
    "f, ax = pl.subplots(1, 1, figsize=(4,2.2) )\n",
    "\n",
    "b = np.zeros( tseries_abs[status].shape[0] )\n",
    "years = np.arange(2005,2018,1)\n",
    "\n",
    "for zlabel,status in enumerate([4,-1,1,3]):\n",
    "    ax.bar( years, tseries_abs[status] + b, barsize, label=legendStatus[status], \n",
    "               color=colors[status], zorder=-1-zlabel )\n",
    "    b += tseries_abs[status]\n",
    "\n",
    "simpleaxis(ax)\n",
    "\n",
    "ax.set_ylabel(\"Number of links\")\n",
    "#ax.set_yticks( np.arange(0,2001,500) )\n",
    "#ax.set_yticklabels( np.array( np.arange(0,2001,500), dtype=int ), fontsize=8 )\n",
    "\n",
    "ax.set_xlabel(\"Year\")\n",
    "ax.set_xticks( np.arange( 2005,2020,3 ) )\n",
    "ax.set_xticklabels( np.arange( 2005,2020,3 ), fontsize=8 )\n",
    "\n",
    "pl.legend(bbox_to_anchor=(1,1.4), frameon=False, ncol=4, \n",
    "          handletextpad=0.2, columnspacing=0.8, handlelength=1)\n",
    "\n",
    "pl.tight_layout()\n",
    "pl.savefig('Figure_1_panels/NumLinks per year - Abstract.pdf')"
   ]
  },
  {
   "cell_type": "code",
   "execution_count": 42,
   "metadata": {},
   "outputs": [],
   "source": [
    "tseries_norm = np.zeros( tseries_abs[-1].shape )\n",
    "for status in [-1, 1, 3, 4]:\n",
    "    tseries_norm += tseries_abs[status]"
   ]
  },
  {
   "cell_type": "code",
   "execution_count": 43,
   "metadata": {},
   "outputs": [
    {
     "data": {
      "image/png": "[encoded data removed]",
      "text/plain": [
       "<Figure size 288x158.4 with 1 Axes>"
      ]
     },
     "metadata": {},
     "output_type": "display_data"
    }
   ],
   "source": [
    "barsize=0.75\n",
    "\n",
    "f, ax = pl.subplots(1, 1, figsize=(4,2.2) )\n",
    "\n",
    "b = np.zeros( tseries_abs[status].shape[0] )\n",
    "years = np.arange(2005,2018,1)\n",
    "\n",
    "for zlabel,status in enumerate([4,-1,1,3]):\n",
    "    ax.bar( years, 100*(tseries_abs[status] + b)/tseries_norm, barsize, \n",
    "               label=legendStatus[status], \n",
    "               color=colors[status], zorder=-1-zlabel )\n",
    "    b += tseries_abs[status]\n",
    "\n",
    "simpleaxis(ax)\n",
    "\n",
    "ax.set_ylabel(\"Percent of links (%)\")\n",
    "ax.set_yticks( np.arange(0,101,25) )\n",
    "ax.set_yticklabels( np.array( np.arange(0,101,25), dtype=int ), fontsize=8 )\n",
    "\n",
    "ax.set_xlabel(\"Year\")\n",
    "ax.set_xticks( np.arange( 2005,2020,3 ) )\n",
    "ax.set_xticklabels( np.arange( 2005,2020,3 ), fontsize=8 )\n",
    "\n",
    "pl.legend(bbox_to_anchor=(1,1.4), frameon=False, ncol=4, \n",
    "          handletextpad=0.2, columnspacing=0.8, handlelength=1)\n",
    "\n",
    "pl.tight_layout()\n",
    "pl.savefig('Figure_1_panels/Percent per year - Abstract.pdf')"
   ]
  },
  {
   "cell_type": "markdown",
   "metadata": {},
   "source": [
    "## Status vs IF of current journal "
   ]
  },
  {
   "cell_type": "markdown",
   "metadata": {},
   "source": [
    "List of journals considered in this study:"
   ]
  },
  {
   "cell_type": "code",
   "execution_count": 44,
   "metadata": {},
   "outputs": [
    {
     "name": "stdout",
     "output_type": "stream",
     "text": [
      "['Nucleic_Acids_Res' 'Bioinformatics' 'BMC_Bioinformatics'\n",
      " 'PLoS_Comput_Biol' 'BMC_Genomics' 'BMC_Syst_Biol' 'Nat_Biotechnol'\n",
      " 'Genome_Biol' 'Nat_Methods' 'Genome_Med']\n"
     ]
    }
   ],
   "source": [
    "journals = uniqueLinks.journal.unique()\n",
    "print( journals )"
   ]
  },
  {
   "cell_type": "markdown",
   "metadata": {},
   "source": [
    "Impact factors were retrieved from this address: http://admin-apps.webofknowledge.com/JCR/JCR?RQ=HOME"
   ]
  },
  {
   "cell_type": "code",
   "execution_count": 45,
   "metadata": {},
   "outputs": [
    {
     "data": {
      "text/html": [
       "<div>\n",
       "<style scoped>\n",
       "    .dataframe tbody tr th:only-of-type {\n",
       "        vertical-align: middle;\n",
       "    }\n",
       "\n",
       "    .dataframe tbody tr th {\n",
       "        vertical-align: top;\n",
       "    }\n",
       "\n",
       "    .dataframe thead th {\n",
       "        text-align: right;\n",
       "    }\n",
       "</style>\n",
       "<table border=\"1\" class=\"dataframe\">\n",
       "  <thead>\n",
       "    <tr style=\"text-align: right;\">\n",
       "      <th></th>\n",
       "      <th>year</th>\n",
       "      <th>BMC_Genomics</th>\n",
       "      <th>Nucleic_Acids_Res</th>\n",
       "      <th>Bioinformatics</th>\n",
       "      <th>BMC_Bioinformatics</th>\n",
       "      <th>PLoS_Comput_Biol</th>\n",
       "      <th>Genome_Biol</th>\n",
       "      <th>BMC_Syst_Biol</th>\n",
       "      <th>Nat_Biotechnol</th>\n",
       "      <th>Nat_Methods</th>\n",
       "      <th>Genome_Med</th>\n",
       "    </tr>\n",
       "  </thead>\n",
       "  <tbody>\n",
       "    <tr>\n",
       "      <th>0</th>\n",
       "      <td>2016</td>\n",
       "      <td>3.729</td>\n",
       "      <td>10.162</td>\n",
       "      <td>7.307</td>\n",
       "      <td>2.448</td>\n",
       "      <td>4.542</td>\n",
       "      <td>11.908</td>\n",
       "      <td>2.303</td>\n",
       "      <td>41.667</td>\n",
       "      <td>25.062</td>\n",
       "      <td>7.071</td>\n",
       "    </tr>\n",
       "    <tr>\n",
       "      <th>1</th>\n",
       "      <td>2015</td>\n",
       "      <td>3.867</td>\n",
       "      <td>9.202</td>\n",
       "      <td>5.766</td>\n",
       "      <td>2.435</td>\n",
       "      <td>4.587</td>\n",
       "      <td>11.313</td>\n",
       "      <td>2.208</td>\n",
       "      <td>43.113</td>\n",
       "      <td>25.328</td>\n",
       "      <td>5.846</td>\n",
       "    </tr>\n",
       "    <tr>\n",
       "      <th>2</th>\n",
       "      <td>2014</td>\n",
       "      <td>3.986</td>\n",
       "      <td>9.112</td>\n",
       "      <td>4.981</td>\n",
       "      <td>2.576</td>\n",
       "      <td>4.620</td>\n",
       "      <td>10.810</td>\n",
       "      <td>2.435</td>\n",
       "      <td>41.514</td>\n",
       "      <td>32.072</td>\n",
       "      <td>5.809</td>\n",
       "    </tr>\n",
       "    <tr>\n",
       "      <th>3</th>\n",
       "      <td>2013</td>\n",
       "      <td>4.041</td>\n",
       "      <td>8.808</td>\n",
       "      <td>4.621</td>\n",
       "      <td>2.672</td>\n",
       "      <td>4.829</td>\n",
       "      <td>10.465</td>\n",
       "      <td>2.853</td>\n",
       "      <td>39.080</td>\n",
       "      <td>25.953</td>\n",
       "      <td>4.942</td>\n",
       "    </tr>\n",
       "    <tr>\n",
       "      <th>4</th>\n",
       "      <td>2012</td>\n",
       "      <td>4.397</td>\n",
       "      <td>8.278</td>\n",
       "      <td>5.323</td>\n",
       "      <td>3.024</td>\n",
       "      <td>4.867</td>\n",
       "      <td>10.288</td>\n",
       "      <td>2.982</td>\n",
       "      <td>32.438</td>\n",
       "      <td>23.565</td>\n",
       "      <td>3.906</td>\n",
       "    </tr>\n",
       "    <tr>\n",
       "      <th>5</th>\n",
       "      <td>2011</td>\n",
       "      <td>4.073</td>\n",
       "      <td>8.026</td>\n",
       "      <td>5.468</td>\n",
       "      <td>2.751</td>\n",
       "      <td>5.215</td>\n",
       "      <td>9.036</td>\n",
       "      <td>3.148</td>\n",
       "      <td>23.268</td>\n",
       "      <td>19.276</td>\n",
       "      <td>0.000</td>\n",
       "    </tr>\n",
       "    <tr>\n",
       "      <th>6</th>\n",
       "      <td>2010</td>\n",
       "      <td>4.206</td>\n",
       "      <td>7.836</td>\n",
       "      <td>4.877</td>\n",
       "      <td>3.029</td>\n",
       "      <td>5.515</td>\n",
       "      <td>6.885</td>\n",
       "      <td>3.565</td>\n",
       "      <td>31.090</td>\n",
       "      <td>20.721</td>\n",
       "      <td>0.000</td>\n",
       "    </tr>\n",
       "    <tr>\n",
       "      <th>7</th>\n",
       "      <td>2009</td>\n",
       "      <td>3.759</td>\n",
       "      <td>7.479</td>\n",
       "      <td>4.926</td>\n",
       "      <td>3.428</td>\n",
       "      <td>5.759</td>\n",
       "      <td>6.626</td>\n",
       "      <td>4.064</td>\n",
       "      <td>29.495</td>\n",
       "      <td>16.874</td>\n",
       "      <td>0.000</td>\n",
       "    </tr>\n",
       "    <tr>\n",
       "      <th>8</th>\n",
       "      <td>2008</td>\n",
       "      <td>3.926</td>\n",
       "      <td>6.878</td>\n",
       "      <td>4.328</td>\n",
       "      <td>3.781</td>\n",
       "      <td>5.895</td>\n",
       "      <td>6.153</td>\n",
       "      <td>3.706</td>\n",
       "      <td>22.297</td>\n",
       "      <td>13.651</td>\n",
       "      <td>0.000</td>\n",
       "    </tr>\n",
       "    <tr>\n",
       "      <th>9</th>\n",
       "      <td>2007</td>\n",
       "      <td>4.180</td>\n",
       "      <td>6.954</td>\n",
       "      <td>5.039</td>\n",
       "      <td>3.493</td>\n",
       "      <td>6.236</td>\n",
       "      <td>6.589</td>\n",
       "      <td>0.000</td>\n",
       "      <td>22.848</td>\n",
       "      <td>15.478</td>\n",
       "      <td>0.000</td>\n",
       "    </tr>\n",
       "    <tr>\n",
       "      <th>10</th>\n",
       "      <td>2006</td>\n",
       "      <td>4.029</td>\n",
       "      <td>6.317</td>\n",
       "      <td>4.894</td>\n",
       "      <td>3.617</td>\n",
       "      <td>4.914</td>\n",
       "      <td>7.172</td>\n",
       "      <td>0.000</td>\n",
       "      <td>22.672</td>\n",
       "      <td>14.959</td>\n",
       "      <td>0.000</td>\n",
       "    </tr>\n",
       "    <tr>\n",
       "      <th>11</th>\n",
       "      <td>2005</td>\n",
       "      <td>4.092</td>\n",
       "      <td>7.552</td>\n",
       "      <td>6.019</td>\n",
       "      <td>4.958</td>\n",
       "      <td>0.000</td>\n",
       "      <td>9.712</td>\n",
       "      <td>0.000</td>\n",
       "      <td>22.738</td>\n",
       "      <td>6.741</td>\n",
       "      <td>0.000</td>\n",
       "    </tr>\n",
       "    <tr>\n",
       "      <th>12</th>\n",
       "      <td>2004</td>\n",
       "      <td>3.250</td>\n",
       "      <td>7.260</td>\n",
       "      <td>5.742</td>\n",
       "      <td>5.423</td>\n",
       "      <td>0.000</td>\n",
       "      <td>0.000</td>\n",
       "      <td>0.000</td>\n",
       "      <td>22.355</td>\n",
       "      <td>0.000</td>\n",
       "      <td>0.000</td>\n",
       "    </tr>\n",
       "    <tr>\n",
       "      <th>13</th>\n",
       "      <td>2003</td>\n",
       "      <td>0.000</td>\n",
       "      <td>6.575</td>\n",
       "      <td>6.701</td>\n",
       "      <td>0.000</td>\n",
       "      <td>0.000</td>\n",
       "      <td>0.000</td>\n",
       "      <td>0.000</td>\n",
       "      <td>17.721</td>\n",
       "      <td>0.000</td>\n",
       "      <td>0.000</td>\n",
       "    </tr>\n",
       "  </tbody>\n",
       "</table>\n",
       "</div>"
      ],
      "text/plain": [
       "    year  BMC_Genomics  Nucleic_Acids_Res  Bioinformatics  BMC_Bioinformatics  \\\n",
       "0   2016         3.729             10.162           7.307               2.448   \n",
       "1   2015         3.867              9.202           5.766               2.435   \n",
       "2   2014         3.986              9.112           4.981               2.576   \n",
       "3   2013         4.041              8.808           4.621               2.672   \n",
       "4   2012         4.397              8.278           5.323               3.024   \n",
       "5   2011         4.073              8.026           5.468               2.751   \n",
       "6   2010         4.206              7.836           4.877               3.029   \n",
       "7   2009         3.759              7.479           4.926               3.428   \n",
       "8   2008         3.926              6.878           4.328               3.781   \n",
       "9   2007         4.180              6.954           5.039               3.493   \n",
       "10  2006         4.029              6.317           4.894               3.617   \n",
       "11  2005         4.092              7.552           6.019               4.958   \n",
       "12  2004         3.250              7.260           5.742               5.423   \n",
       "13  2003         0.000              6.575           6.701               0.000   \n",
       "\n",
       "    PLoS_Comput_Biol  Genome_Biol  BMC_Syst_Biol  Nat_Biotechnol  Nat_Methods  \\\n",
       "0              4.542       11.908          2.303          41.667       25.062   \n",
       "1              4.587       11.313          2.208          43.113       25.328   \n",
       "2              4.620       10.810          2.435          41.514       32.072   \n",
       "3              4.829       10.465          2.853          39.080       25.953   \n",
       "4              4.867       10.288          2.982          32.438       23.565   \n",
       "5              5.215        9.036          3.148          23.268       19.276   \n",
       "6              5.515        6.885          3.565          31.090       20.721   \n",
       "7              5.759        6.626          4.064          29.495       16.874   \n",
       "8              5.895        6.153          3.706          22.297       13.651   \n",
       "9              6.236        6.589          0.000          22.848       15.478   \n",
       "10             4.914        7.172          0.000          22.672       14.959   \n",
       "11             0.000        9.712          0.000          22.738        6.741   \n",
       "12             0.000        0.000          0.000          22.355        0.000   \n",
       "13             0.000        0.000          0.000          17.721        0.000   \n",
       "\n",
       "    Genome_Med  \n",
       "0        7.071  \n",
       "1        5.846  \n",
       "2        5.809  \n",
       "3        4.942  \n",
       "4        3.906  \n",
       "5        0.000  \n",
       "6        0.000  \n",
       "7        0.000  \n",
       "8        0.000  \n",
       "9        0.000  \n",
       "10       0.000  \n",
       "11       0.000  \n",
       "12       0.000  \n",
       "13       0.000  "
      ]
     },
     "execution_count": 45,
     "metadata": {},
     "output_type": "execute_result"
    }
   ],
   "source": [
    "IFdata = pd.read_csv('impact_factors_timeseries.csv')\n",
    "IFdata = IFdata.fillna(0)\n",
    "IFdata"
   ]
  },
  {
   "cell_type": "code",
   "execution_count": 46,
   "metadata": {},
   "outputs": [],
   "source": [
    "count = {}\n",
    "Z = np.zeros( (10) )\n",
    "for status in [1,3,-1,4]:\n",
    "    count[status] = np.zeros( (10) )\n",
    "\n",
    "def journalID(journalName): \n",
    "    if journalName in journals:\n",
    "        return np.argwhere(journals == journalName)[0][0]\n",
    "    else: return -1\n",
    "\n",
    "for index, row in uniqueLinks.iterrows():\n",
    "    jid = journalID(row.journal)\n",
    "    if jid != -1:\n",
    "        count[row['status']][ jid ] += 1\n",
    "        Z[ jid ] += 1\n",
    "    \n",
    "\n",
    "# Normalizing\n",
    "for status in [1,3,-1,4]:\n",
    "    count[status] /= Z"
   ]
  },
  {
   "cell_type": "code",
   "execution_count": 47,
   "metadata": {},
   "outputs": [],
   "source": [
    "IFs = np.array( IFdata.iloc[0] )[1:]\n",
    "newIDX = np.argsort( IFs )\n",
    "IFs = IFs[newIDX]"
   ]
  },
  {
   "cell_type": "code",
   "execution_count": 49,
   "metadata": {},
   "outputs": [
    {
     "data": {
      "image/png": "[encoded data removed]",
      "text/plain": [
       "<Figure size 259.2x144 with 1 Axes>"
      ]
     },
     "metadata": {},
     "output_type": "display_data"
    }
   ],
   "source": [
    "barsize=0.7\n",
    "\n",
    "f, ax = pl.subplots(1, 1, figsize=(3.6,2.0) )\n",
    "\n",
    "IFs_x = np.arange(10)\n",
    "\n",
    "ax.bar( IFs_x, count[4][newIDX], barsize, label='Broken', \n",
    "           color=colors[4], zorder=-1 )\n",
    "b = np.copy( count[4][newIDX] )\n",
    "\n",
    "ax.bar( IFs_x, b+count[-1][newIDX], barsize, label='Time out', \n",
    "           color=colors[-1], zorder=-2 )\n",
    "b += count[-1][newIDX]\n",
    "\n",
    "ax.bar( IFs_x, b+count[1][newIDX], barsize, label='Good', \n",
    "           color=colors[1], zorder=-3 )\n",
    "b += count[1][newIDX]\n",
    "\n",
    "ax.bar( IFs_x, b+count[3][newIDX], barsize, label='Redirect',\n",
    "           color=colors[3], zorder=-4 )\n",
    "\n",
    "simpleaxis(ax)\n",
    "\n",
    "ax.set_ylabel(\"Percent  (%)\")\n",
    "ax.set_yticks( np.arange(0,1.1,0.25) )\n",
    "ax.set_yticklabels( np.array( np.arange(0,1.1,0.25)*100, dtype=int ), fontsize=8 )\n",
    "\n",
    "ax.set_xlabel(\"Current Impact Factor\")\n",
    "ax.set_xticks( IFs_x )\n",
    "ax.set_xticklabels( ['2.3','2.5','3.7','4.5','7.1','7.3','10','12','25','41'], \n",
    "                       fontsize=8,  )\n",
    "\n",
    "pl.tight_layout()\n",
    "pl.savefig('Figure_1_panels/Percent per IF.pdf')"
   ]
  },
  {
   "cell_type": "markdown",
   "metadata": {},
   "source": [
    "## Status vs IF - abstracts only"
   ]
  },
  {
   "cell_type": "markdown",
   "metadata": {},
   "source": [
    "List of journals considered in this study:"
   ]
  },
  {
   "cell_type": "code",
   "execution_count": 50,
   "metadata": {},
   "outputs": [
    {
     "name": "stdout",
     "output_type": "stream",
     "text": [
      "['Nucleic_Acids_Res' 'Bioinformatics' 'BMC_Bioinformatics'\n",
      " 'PLoS_Comput_Biol' 'BMC_Genomics' 'BMC_Syst_Biol' 'Nat_Biotechnol'\n",
      " 'Genome_Biol' 'Nat_Methods' 'Genome_Med']\n"
     ]
    }
   ],
   "source": [
    "journals = uniqueLinks_abs.journal.unique()\n",
    "print( journals )"
   ]
  },
  {
   "cell_type": "markdown",
   "metadata": {},
   "source": [
    "Impact factors were retrieved from this address: http://admin-apps.webofknowledge.com/JCR/JCR?RQ=HOME"
   ]
  },
  {
   "cell_type": "code",
   "execution_count": 51,
   "metadata": {},
   "outputs": [],
   "source": [
    "count = {}\n",
    "Z = np.zeros( (10) )\n",
    "for status in [1,3,-1,4]:\n",
    "    count[status] = np.zeros( (10) )\n",
    "\n",
    "def journalID(journalName): \n",
    "    if journalName in journals:\n",
    "        return np.argwhere(journals == journalName)[0][0]\n",
    "    else: return -1\n",
    "\n",
    "for index, row in uniqueLinks_abs.iterrows():\n",
    "    jid = journalID(row.journal)\n",
    "    if jid != -1:\n",
    "        count[row['status']][ jid ] += 1\n",
    "        Z[ jid ] += 1\n",
    "    \n",
    "\n",
    "# Normalizing\n",
    "for status in [1,3,-1,4]:\n",
    "    count[status] /= Z"
   ]
  },
  {
   "cell_type": "code",
   "execution_count": 52,
   "metadata": {},
   "outputs": [],
   "source": [
    "IFs = np.array( IFdata.iloc[0] )[1:]\n",
    "newIDX = np.argsort( IFs )\n",
    "IFs = IFs[newIDX]"
   ]
  },
  {
   "cell_type": "code",
   "execution_count": 53,
   "metadata": {},
   "outputs": [
    {
     "data": {
      "image/png": "[encoded data removed]",
      "text/plain": [
       "<Figure size 252x158.4 with 1 Axes>"
      ]
     },
     "metadata": {},
     "output_type": "display_data"
    }
   ],
   "source": [
    "barsize=0.7\n",
    "\n",
    "f, ax = pl.subplots(1, 1, figsize=(3.5,2.2) )\n",
    "\n",
    "IFs_x = np.arange(10)\n",
    "\n",
    "ax.bar( IFs_x, count[4][newIDX], barsize, label='Broken', \n",
    "           color=colors[4], zorder=-1 )\n",
    "b = np.copy( count[4][newIDX] )\n",
    "\n",
    "ax.bar( IFs_x, b+count[-1][newIDX], barsize, label='Time out', \n",
    "           color=colors[-1], zorder=-2 )\n",
    "b += count[-1][newIDX]\n",
    "\n",
    "ax.bar( IFs_x, b+count[1][newIDX], barsize, label='Good', \n",
    "           color=colors[1], zorder=-3 )\n",
    "b += count[1][newIDX]\n",
    "\n",
    "ax.bar( IFs_x, b+count[3][newIDX], barsize, label='Redirect',\n",
    "           color=colors[3], zorder=-4 )\n",
    "\n",
    "simpleaxis(ax)\n",
    "\n",
    "ax.set_ylabel(\"Percent  (%)\")\n",
    "ax.set_yticks( np.arange(0,1.1,0.25) )\n",
    "ax.set_yticklabels( np.array( np.arange(0,1.1,0.25)*100, dtype=int ), fontsize=8 )\n",
    "\n",
    "ax.set_xlabel(\"Current Impact Factor\")\n",
    "ax.set_xticks( IFs_x )\n",
    "ax.set_xticklabels( ['2.3','2.5','3.7','4.5','7.1','7.3','10','12','25','41'], \n",
    "                       fontsize=8,  )\n",
    "\n",
    "pl.tight_layout()\n",
    "pl.savefig('Figure_1_panels/Percent per IF - abstracts.pdf')"
   ]
  },
  {
   "cell_type": "markdown",
   "metadata": {},
   "source": [
    "## Status vs IF at the time of publication"
   ]
  },
  {
   "cell_type": "code",
   "execution_count": 54,
   "metadata": {},
   "outputs": [],
   "source": [
    "IFpub = {}\n",
    "for status in  [1,3,-1,4]:\n",
    "    IFpub[status] = []\n",
    "\n",
    "for index, row in uniqueLinks.iterrows():\n",
    "    year = row.year\n",
    "    if ( year >= 2003 ) and ( year <= 2017 ) :\n",
    "        \n",
    "        # there's no IF for 2017 yet\n",
    "        if year == 2017: year = 2016\n",
    "            \n",
    "        yearIDX = -(year - 2003) + 13\n",
    "        IF_at_time = IFdata[row.journal].iloc[ yearIDX ]\n",
    "        IFpub[row.status].append( IF_at_time )"
   ]
  },
  {
   "cell_type": "code",
   "execution_count": 55,
   "metadata": {},
   "outputs": [
    {
     "data": {
      "image/png": "[encoded data removed]",
      "text/plain": [
       "<Figure size 201.6x144 with 1 Axes>"
      ]
     },
     "metadata": {},
     "output_type": "display_data"
    }
   ],
   "source": [
    "f, ax = pl.subplots( 1, 1, figsize=(2.8, 2.0) )\n",
    "\n",
    "# let's make sure the order is maintained:\n",
    "data = [IFpub[4], IFpub[-1], IFpub[1], IFpub[3]]\n",
    "\n",
    "parts = ax.violinplot( data, [0,1,2,3], showmeans=False, showmedians=False, \n",
    "                              showextrema=False, widths=0.7, points=200 )\n",
    "\n",
    "colors=[(1.0,0.2,0.1),(1.0,0.6,0.2),(0.3,0.9,0.3),(0.3,0.7,1.0)]\n",
    "\n",
    "j = 0\n",
    "for pc in parts['bodies']:\n",
    "    pc.set_facecolor(colors[j])\n",
    "    pc.set_edgecolor( (0.2,0.2,0.2) )\n",
    "    pc.set_edgecolors( (0.2,0.2,0.2) )\n",
    "    pc.set_alpha(1)\n",
    "    j += 1\n",
    "    \n",
    "\n",
    "def buttpos(x): return [x-0.05,x+0.05]\n",
    "for j in range(4):\n",
    "    pl.plot(buttpos(j), [np.mean(data[j])]*2, color=\"k\", \n",
    "                linewidth=6, solid_capstyle=\"butt\", zorder=4)\n",
    "\n",
    "for j in range(4):\n",
    "    ax.text( j-0.4, -2, 'n='+str(len(data[j])), fontsize=7 )\n",
    "\n",
    "ax.set_ylim(-3,14)\n",
    "ax.set_ylabel('Impact factor')\n",
    "\n",
    "ax.set_xlabel('')\n",
    "ax.set_xticks([0,1,2,3])\n",
    "ax.set_xticklabels( ['Broken','Timeout','Accessible','Redirected'], \n",
    "                       rotation=-25, fontsize=8 )\n",
    "\n",
    "simpleaxis(ax)\n",
    "\n",
    "pl.savefig('Figure_1_panels/IF vs status.pdf')"
   ]
  },
  {
   "cell_type": "code",
   "execution_count": 56,
   "metadata": {},
   "outputs": [
    {
     "name": "stdout",
     "output_type": "stream",
     "text": [
      "(9.877125130203718, 1.659019515265056e-06)\n"
     ]
    }
   ],
   "source": [
    "from scipy import stats\n",
    "f_value, p_value = stats.f_oneway(data[0], data[1], data[3], data[2])\n",
    "print(f_value, p_value)"
   ]
  },
  {
   "cell_type": "markdown",
   "metadata": {},
   "source": [
    "## Evolution of IF of each category over the years"
   ]
  },
  {
   "cell_type": "code",
   "execution_count": 57,
   "metadata": {},
   "outputs": [],
   "source": [
    "IFpub = {}\n",
    "Z = {}\n",
    "for status in  [1,3,-1,4]:\n",
    "    IFpub[status] = np.zeros(12)\n",
    "    Z[status] = np.zeros(12)\n",
    "\n",
    "for index, row in uniqueLinks.iterrows():\n",
    "    year = row.year\n",
    "    if ( year >= 2003 ) and ( year <= 2017 ) :\n",
    "        \n",
    "        # there's no IF for 2017 yet\n",
    "        if year == 2017: year = 2016\n",
    "            \n",
    "        yearIDX = year - 2005\n",
    "        IF_at_time = IFdata[row.journal].iloc[ yearIDX ]\n",
    "        IFpub[row.status][yearIDX] += IF_at_time\n",
    "        Z[row.status][yearIDX] += 1"
   ]
  },
  {
   "cell_type": "code",
   "execution_count": 58,
   "metadata": {},
   "outputs": [
    {
     "data": {
      "image/png": "[encoded data removed]",
      "text/plain": [
       "<Figure size 432x288 with 1 Axes>"
      ]
     },
     "metadata": {},
     "output_type": "display_data"
    }
   ],
   "source": [
    "colors = { -1 : (1.0,0.6,0.2), 1 : (0.2,0.7,0.2), 3 : (0.2,0.4,1.0), 4 : (1.0,0.,0.) }\n",
    "for s in [4,-1,1,3]:\n",
    "    pl.plot( IFpub[s]/Z[s], color=colors[s] )"
   ]
  },
  {
   "cell_type": "markdown",
   "metadata": {},
   "source": [
    "## Retrieving altmetric data"
   ]
  },
  {
   "cell_type": "code",
   "execution_count": 59,
   "metadata": {},
   "outputs": [],
   "source": [
    "def parseAltmetricData(filename):\n",
    "\n",
    "    parsedData = {}\n",
    "\n",
    "    inputfile = open( filename, 'r' )\n",
    "\n",
    "    # skipping first row\n",
    "    inputfile.readline()\n",
    "\n",
    "    for line in inputfile:\n",
    "\n",
    "        lineSplit = line.split('\\n')[0].split('[')\n",
    "\n",
    "        ls_comma  = lineSplit[0].split(',')\n",
    "        pmid      = int( ls_comma[0] )\n",
    "        parsedData[pmid] = {}\n",
    "\n",
    "        score     = float( ls_comma[1] )\n",
    "        parsedData[pmid]['score'] = score\n",
    "\n",
    "        numReaders = int( ls_comma[2] )\n",
    "        parsedData[pmid]['numReaders'] = numReaders\n",
    "\n",
    "        cited     = int( ls_comma[3] )\n",
    "        parsedData[pmid]['cited'] = cited\n",
    "\n",
    "        scopus = lineSplit[1][:-1]\n",
    "        parsedData[pmid]['scopus'] = scopus\n",
    "\n",
    "    return parsedData\n",
    "\n",
    "dictAltmetric = parseAltmetricData('./links.bulk.altmetric.csv')"
   ]
  },
  {
   "cell_type": "code",
   "execution_count": 60,
   "metadata": {},
   "outputs": [
    {
     "name": "stdout",
     "output_type": "stream",
     "text": [
      "Number of Altmetric records: 13889 \n"
     ]
    }
   ],
   "source": [
    "print( 'Number of Altmetric records: %d ' % (len(dictAltmetric.keys())) )"
   ]
  },
  {
   "cell_type": "code",
   "execution_count": 61,
   "metadata": {},
   "outputs": [],
   "source": [
    "import matplotlib as mpl\n",
    "mpl.rcParams['hatch.linewidth'] = 3  # previous pdf hatch linewidth\n",
    "from statsmodels.stats.multicomp import MultiComparison"
   ]
  },
  {
   "cell_type": "markdown",
   "metadata": {},
   "source": [
    "## Altmetric score"
   ]
  },
  {
   "cell_type": "code",
   "execution_count": 62,
   "metadata": {},
   "outputs": [],
   "source": [
    "scores = {}\n",
    "for status in  [1,3,-1,4]:\n",
    "    scores[status] = []\n",
    "\n",
    "for index, row in uniqueLinks.iterrows():\n",
    "    if row.id in dictAltmetric.keys():\n",
    "        numYears = (year - 2003)\n",
    "        scores[ row.status ].append( dictAltmetric[row.id]['score'] )"
   ]
  },
  {
   "cell_type": "code",
   "execution_count": 63,
   "metadata": {},
   "outputs": [
    {
     "data": {
      "image/png": "[encoded data removed]",
      "text/plain": [
       "<Figure size 252x108 with 1 Axes>"
      ]
     },
     "metadata": {},
     "output_type": "display_data"
    }
   ],
   "source": [
    "f, ax = pl.subplots( 1, 1, figsize=(3.5, 1.5) )\n",
    "\n",
    "# let's make sure the order is maintained:\n",
    "data = [scores[4], scores[-1], scores[1], scores[3]]\n",
    "\n",
    "parts = ax.violinplot( data, [0,1,2,3], showmeans=False, showmedians=False, \n",
    "                              showextrema=False, widths=0.7, points=500 )\n",
    "\n",
    "colors=[(1.0,0.2,0.1),(1.0,0.6,0.2),(0.3,0.9,0.3),(0.3,0.7,1.0)]\n",
    "\n",
    "j = 0\n",
    "for pc in parts['bodies']:\n",
    "    pc.set_facecolor(colors[j])\n",
    "    pc.set_edgecolor( (0.2,0.2,0.2) )\n",
    "    pc.set_edgecolors( (0.2,0.2,0.2) )\n",
    "    pc.set_alpha(1)\n",
    "    j += 1\n",
    "    \n",
    "\n",
    "def buttpos(x): return [x-0.05,x+0.05]\n",
    "for j in range(4):\n",
    "    pl.plot(buttpos(j), [np.mean(data[j])]*2, color=\"k\", \n",
    "                linewidth=6, solid_capstyle=\"butt\", zorder=4)\n",
    "\n",
    "for j in range(4):\n",
    "    ax.text( j-0.3, -2.5, 'n='+str(len(data[j])), fontsize=7 )\n",
    "\n",
    "ax.set_ylim(-4,30)\n",
    "ax.set_ylabel('Altmetric score')\n",
    "\n",
    "ax.set_xlabel('')\n",
    "ax.set_xticks([0,1,2,3])\n",
    "ax.set_xticklabels( ['Broken','Timeout','Accessible','Redirected'], \n",
    "                       rotation=-25, fontsize=8)\n",
    "\n",
    "simpleaxis(ax)\n",
    "\n",
    "pl.savefig('Figure_1_panels/Altmetric Score vs status.pdf')"
   ]
  },
  {
   "cell_type": "code",
   "execution_count": 64,
   "metadata": {},
   "outputs": [
    {
     "data": {
      "image/png": "[encoded data removed]",
      "text/plain": [
       "<Figure size 129.6x100.8 with 1 Axes>"
      ]
     },
     "metadata": {},
     "output_type": "display_data"
    }
   ],
   "source": [
    "f, ax = pl.subplots( 1, 1, figsize=(1.8, 1.4) )\n",
    "\n",
    "# let's make sure the order is maintained:\n",
    "data = [ np.mean(scores[4]), np.mean(scores[-1]), np.mean(scores[1] + scores[3]) ]\n",
    "vardata = [ np.std(scores[4])/np.sqrt(len(scores[4])), \n",
    "           np.std(scores[-1])/np.sqrt(len(scores[-1])), \n",
    "           np.std(scores[1] + scores[3])/np.sqrt(len(scores[1] + scores[3])) ]\n",
    "\n",
    "colors=[(1.0,0.2,0.1),(1.0,0.6,0.2),(0.5,1.0,0.5)]\n",
    "pl.bar( [0,1,2], data, 0.7, yerr=vardata, color=colors, \n",
    "           edgecolor=[(0.2,0.2,0.2)]*3, lw=1.3, capsize=8 )\n",
    "\n",
    "pl.bar( [2], data[2:], 0.7, yerr=vardata[2:], color=colors[2:], hatch=\"//\",\n",
    "           edgecolor=[(0.1,0.4,1.0)]*3, lw=1.5, capsize=8 )\n",
    "pl.bar( [2], data[2:], 0.7, yerr=vardata[2:], color='none',\n",
    "           edgecolor=[(0.0,0.0,0.0)]*3, lw=1.5, capsize=8 )\n",
    "\n",
    "ax.set_ylabel('Altmetric score')\n",
    "ax.set_ylim(0,18)\n",
    "ax.set_yticks([0,5,10,15])\n",
    "\n",
    "ax.set_xlabel('')\n",
    "ax.set_xticks([0,1,2])\n",
    "ax.set_xlim(-0.5,2.5)\n",
    "ax.set_xticklabels( ['Broken','Timeout','Accessible'], \n",
    "                       rotation=-25, fontsize=9)\n",
    "\n",
    "ax.text(1.3, 18, '*', fontsize=12)\n",
    "ax.plot([2,2,0.5,0.5], [16,18,18,16], color='k', lw=1.5)\n",
    "ax.plot([1,0], [16,16], color='k', lw=1.5)\n",
    "\n",
    "simpleaxis(ax)\n",
    "\n",
    "pl.savefig('Figure_1_panels/Altmetric Score vs status - barplot.pdf')"
   ]
  },
  {
   "cell_type": "code",
   "execution_count": 66,
   "metadata": {},
   "outputs": [
    {
     "name": "stdout",
     "output_type": "stream",
     "text": [
      "KruskalResult(statistic=121.71348392841217, pvalue=3.2990385452748936e-26)\n",
      "Multiple Comparison of Means - Tukey HSD,FWER=0.05\n",
      "============================================\n",
      "group1 group2 meandiff  lower  upper  reject\n",
      "--------------------------------------------\n",
      "  -1     1     2.4789   0.7074 4.2504  True \n",
      "  -1     4    -2.0665  -4.7723 0.6393 False \n",
      "  1      4    -4.5454  -6.8068 -2.284  True \n",
      "--------------------------------------------\n",
      "[-1  1  4]\n"
     ]
    }
   ],
   "source": [
    "from scipy.stats.mstats import kruskalwallis\n",
    "print(kruskalwallis(scores[-1],scores[4],scores[1],scores[3]))\n",
    "\n",
    "lists = scores[-1]+scores[4]+scores[1]+scores[3]\n",
    "categories = len(scores[-1])*[-1]+len(scores[4])*[4]+len(scores[1]+scores[3])*[1]\n",
    "\n",
    "mc = MultiComparison(lists, categories)\n",
    "result = mc.tukeyhsd()\n",
    "print(result)\n",
    "print(mc.groupsunique)"
   ]
  },
  {
   "cell_type": "markdown",
   "metadata": {},
   "source": [
    "## Altmetric number of readers"
   ]
  },
  {
   "cell_type": "code",
   "execution_count": 67,
   "metadata": {},
   "outputs": [],
   "source": [
    "scores = {}\n",
    "for status in  [1,3,-1,4]:\n",
    "    scores[status] = []\n",
    "\n",
    "for index, row in uniqueLinks.iterrows():\n",
    "    if row.id in dictAltmetric.keys():\n",
    "        numYears = (year - 2003)\n",
    "        scores[ row.status ].append( dictAltmetric[row.id]['numReaders'] / numYears )"
   ]
  },
  {
   "cell_type": "code",
   "execution_count": 68,
   "metadata": {},
   "outputs": [
    {
     "data": {
      "image/png": "[encoded data removed]",
      "text/plain": [
       "<Figure size 252x129.6 with 1 Axes>"
      ]
     },
     "metadata": {},
     "output_type": "display_data"
    }
   ],
   "source": [
    "f, ax = pl.subplots( 1, 1, figsize=(3.5, 1.8) )\n",
    "\n",
    "# let's make sure the order is maintained:\n",
    "data = [scores[4], scores[-1], scores[1], scores[3]]\n",
    "\n",
    "parts = ax.violinplot( data, [0,1,2,3], showmeans=False, showmedians=False, \n",
    "                              showextrema=False, widths=0.7, points=500 )\n",
    "\n",
    "colors=[(1.0,0.2,0.1),(1.0,0.6,0.2),(0.3,0.9,0.3),(0.3,0.7,1.0)]\n",
    "\n",
    "j = 0\n",
    "for pc in parts['bodies']:\n",
    "    pc.set_facecolor(colors[j])\n",
    "    pc.set_edgecolor( (0.2,0.2,0.2) )\n",
    "    pc.set_edgecolors( (0.2,0.2,0.2) )\n",
    "    pc.set_alpha(1)\n",
    "    j += 1\n",
    "    \n",
    "\n",
    "def buttpos(x): return [x-0.05,x+0.05]\n",
    "for j in range(4):\n",
    "    pl.plot(buttpos(j), [np.mean(data[j])]*2, color=\"k\", \n",
    "                linewidth=6, solid_capstyle=\"butt\", zorder=4)\n",
    "\n",
    "# for j in range(4):\n",
    "#     ax.text( j-0.4, -2, 'n='+str(len(data[j])), fontsize=7 )\n",
    "\n",
    "ax.set_ylim(0,20)\n",
    "ax.set_ylabel('Altmetric readership')\n",
    "\n",
    "ax.set_xlabel('')\n",
    "ax.set_xticks([0,1,2,3])\n",
    "ax.set_xticklabels( ['Broken','Timeout','Accessible','Redirected'], rotation=-25 )\n",
    "\n",
    "simpleaxis(ax)\n",
    "\n",
    "pl.savefig('Figure_1_panels/Altmetric numReaders vs status.pdf')"
   ]
  },
  {
   "cell_type": "code",
   "execution_count": 70,
   "metadata": {},
   "outputs": [
    {
     "data": {
      "image/png": "[encoded data removed]",
      "text/plain": [
       "<Figure size 129.6x100.8 with 1 Axes>"
      ]
     },
     "metadata": {},
     "output_type": "display_data"
    }
   ],
   "source": [
    "f, ax = pl.subplots( 1, 1, figsize=(1.8, 1.4) )\n",
    "\n",
    "# let's make sure the order is maintained:\n",
    "data = [ np.mean(scores[4]), np.mean(scores[-1]), np.mean(scores[1] + scores[3]) ]\n",
    "vardata = [ np.std(scores[4])/np.sqrt(len(scores[4])), \n",
    "           np.std(scores[-1])/np.sqrt(len(scores[-1])), \n",
    "           np.std(scores[1] + scores[3])/np.sqrt(len(scores[1] + scores[3])) ]\n",
    "\n",
    "colors=[(1.0,0.2,0.1),(1.0,0.6,0.2),(0.5,1.0,0.5)]\n",
    "pl.bar( [0,1,2], data, 0.7, yerr=vardata, color=colors, \n",
    "           edgecolor=[(0.2,0.2,0.2)]*3, lw=1.3, capsize=8 )\n",
    "\n",
    "pl.bar( [2], data[2:], 0.7, yerr=vardata[2:], color=colors[2:], hatch=\"//\",\n",
    "           edgecolor=[(0.1,0.4,1.0)]*3, lw=1.5, capsize=8 )\n",
    "pl.bar( [2], data[2:], 0.7, yerr=vardata[2:], color='none',\n",
    "           edgecolor=[(0.0,0.0,0.0)]*3, lw=1.5, capsize=8 )\n",
    "\n",
    "\n",
    "ax.set_ylim(0,10)\n",
    "ax.set_ylabel('Altmetric \\n readership')\n",
    "\n",
    "ax.set_xlabel('')\n",
    "ax.set_xlim(-0.5,2.5)\n",
    "ax.set_xticks([0,1,2])\n",
    "ax.set_xticklabels( ['Broken','Timeout','Accessible'], \n",
    "                       rotation=-25, fontsize=9)\n",
    "\n",
    "simpleaxis(ax)\n",
    "\n",
    "pl.savefig('Figure_1_panels/Altmetric numReaders vs status - barplot.pdf')"
   ]
  },
  {
   "cell_type": "code",
   "execution_count": 71,
   "metadata": {},
   "outputs": [
    {
     "name": "stdout",
     "output_type": "stream",
     "text": [
      "Multiple Comparison of Means - Tukey HSD,FWER=0.05\n",
      "============================================\n",
      "group1 group2 meandiff  lower  upper  reject\n",
      "--------------------------------------------\n",
      "  -1     1    -0.3351  -0.9904 0.3202 False \n",
      "  -1     4     0.3794  -0.6216 1.3803 False \n",
      "  1      4     0.7145  -0.1221 1.551  False \n",
      "--------------------------------------------\n",
      "[-1  1  4]\n"
     ]
    }
   ],
   "source": [
    "lists = scores[-1]+scores[4]+scores[1]+scores[3]\n",
    "categories = len(scores[-1])*[-1]+len(scores[4])*[4]+len(scores[1]+scores[3])*[1]\n",
    "\n",
    "mc = MultiComparison(lists, categories)\n",
    "result = mc.tukeyhsd()\n",
    "print(result)\n",
    "print(mc.groupsunique)"
   ]
  },
  {
   "cell_type": "markdown",
   "metadata": {},
   "source": [
    "## Altmetric citation"
   ]
  },
  {
   "cell_type": "code",
   "execution_count": 72,
   "metadata": {},
   "outputs": [],
   "source": [
    "scores = {}\n",
    "for status in  [1,3,-1,4]:\n",
    "    scores[status] = []\n",
    "\n",
    "for index, row in uniqueLinks.iterrows():\n",
    "    if row.id in dictAltmetric.keys():\n",
    "        numYears = (year - 2003)\n",
    "        scores[ row.status ].append( dictAltmetric[row.id]['cited'] / numYears )"
   ]
  },
  {
   "cell_type": "code",
   "execution_count": 73,
   "metadata": {},
   "outputs": [
    {
     "data": {
      "image/png": "[encoded data removed]",
      "text/plain": [
       "<Figure size 252x108 with 1 Axes>"
      ]
     },
     "metadata": {},
     "output_type": "display_data"
    }
   ],
   "source": [
    "f, ax = pl.subplots( 1, 1, figsize=(3.5, 1.5) )\n",
    "\n",
    "# let's make sure the order is maintained:\n",
    "data = [scores[4], scores[-1], scores[1], scores[3]]\n",
    "\n",
    "parts = ax.violinplot( data, [0,1,2,3], showmeans=False, showmedians=False, \n",
    "                              showextrema=False, widths=0.7, points=500 )\n",
    "\n",
    "colors=[(1.0,0.2,0.1),(1.0,0.6,0.2),(0.3,0.9,0.3),(0.3,0.7,1.0)]\n",
    "\n",
    "j = 0\n",
    "for pc in parts['bodies']:\n",
    "    pc.set_facecolor(colors[j])\n",
    "    pc.set_edgecolor( (0.2,0.2,0.2) )\n",
    "    pc.set_edgecolors( (0.2,0.2,0.2) )\n",
    "    pc.set_alpha(1)\n",
    "    j += 1\n",
    "    \n",
    "\n",
    "def buttpos(x): return [x-0.05,x+0.05]\n",
    "for j in range(4):\n",
    "    pl.plot(buttpos(j), [np.mean(data[j])]*2, color=\"k\", \n",
    "                linewidth=6, solid_capstyle=\"butt\", zorder=4)\n",
    "\n",
    "# for j in range(4):\n",
    "#     ax.text( j-0.4, -2, 'n='+str(len(data[j])), fontsize=7 )\n",
    "\n",
    "ax.set_ylim(0,9)\n",
    "ax.set_ylabel('Social media \\n citations per year')\n",
    "ax.set_yticks([0,2,4,6,8])\n",
    "\n",
    "ax.set_xlabel('')\n",
    "ax.set_xticks([0,1,2,3])\n",
    "ax.set_xticklabels( ['Broken','Timeout','Accessible','Redirected'], \n",
    "                       rotation=-25, fontsize=8 )\n",
    "\n",
    "simpleaxis(ax)\n",
    "\n",
    "pl.savefig('Figure_1_panels/Altmetric Cited vs status.pdf')"
   ]
  },
  {
   "cell_type": "code",
   "execution_count": 74,
   "metadata": {},
   "outputs": [
    {
     "data": {
      "image/png": "[encoded data removed]",
      "text/plain": [
       "<Figure size 129.6x100.8 with 1 Axes>"
      ]
     },
     "metadata": {},
     "output_type": "display_data"
    }
   ],
   "source": [
    "f, ax = pl.subplots( 1, 1, figsize=(1.8, 1.4) )\n",
    "\n",
    "# let's make sure the order is maintained:\n",
    "data = [ np.mean(scores[4]), np.mean(scores[-1]), np.mean(scores[1] + scores[3]) ]\n",
    "vardata = [ np.std(scores[4])/np.sqrt(len(scores[4])), \n",
    "           np.std(scores[-1])/np.sqrt(len(scores[-1])), \n",
    "           np.std(scores[1] + scores[3])/np.sqrt(len(scores[1] + scores[3])) ]\n",
    "\n",
    "colors=[(1.0,0.2,0.1),(1.0,0.6,0.2),(0.5,1.0,0.5)]\n",
    "pl.bar( [0,1,2], data, 0.7, yerr=vardata, color=colors, \n",
    "           edgecolor=[(0.2,0.2,0.2)]*3, lw=1.3, capsize=8 )\n",
    "\n",
    "pl.bar( [2], data[2:], 0.7, yerr=vardata[2:], color=colors[2:], hatch=\"//\",\n",
    "           edgecolor=[(0.1,0.4,1.0)]*3, lw=1.5, capsize=8 )\n",
    "pl.bar( [2], data[2:], 0.7, yerr=vardata[2:], color='none',\n",
    "           edgecolor=[(0.0,0.0,0.0)]*3, lw=1.5, capsize=8 )\n",
    "\n",
    "\n",
    "ax.set_ylim(0,5)\n",
    "ax.set_ylabel('Social media \\n citations per year')\n",
    "\n",
    "ax.set_xlabel('')\n",
    "ax.set_xlim(-0.5,2.5)\n",
    "ax.set_xticks([0,1,2])\n",
    "ax.set_xticklabels( ['Broken','Timeout','Accessible'], \n",
    "                       rotation=-25, fontsize=9)\n",
    "\n",
    "ax.text(1.3, 4.7, '*', fontsize=12)\n",
    "ax.plot([2,2,0.5,0.5], [4,4.7,4.7,4], color='k', lw=1.5)\n",
    "ax.plot([0,1], [4,4], color='k', lw=1.5)\n",
    "\n",
    "simpleaxis(ax)\n",
    "\n",
    "pl.savefig('Figure_1_panels/Altmetric Cited vs status - barplot.pdf')"
   ]
  },
  {
   "cell_type": "code",
   "execution_count": 75,
   "metadata": {},
   "outputs": [
    {
     "name": "stdout",
     "output_type": "stream",
     "text": [
      "KruskalResult(statistic=399.6966037767709, pvalue=2.5755683194906825e-86)\n",
      "Multiple Comparison of Means - Tukey HSD,FWER=0.05\n",
      "=============================================\n",
      "group1 group2 meandiff  lower   upper  reject\n",
      "---------------------------------------------\n",
      "  -1     1     0.9307   0.3997  1.4617  True \n",
      "  -1     4    -0.4639   -1.275  0.3472 False \n",
      "  1      4    -1.3946  -2.0725 -0.7168  True \n",
      "---------------------------------------------\n",
      "[-1  1  4]\n"
     ]
    }
   ],
   "source": [
    "lists = scores[-1]+scores[4]+scores[1]+scores[3]\n",
    "categories = len(scores[-1])*[-1]+len(scores[4])*[4]+len(scores[1]+scores[3])*[1]\n",
    "\n",
    "from scipy.stats.mstats import kruskalwallis\n",
    "print(kruskalwallis(scores[-1],scores[4],scores[1],scores[3]))\n",
    "\n",
    "mc = MultiComparison(lists, categories)\n",
    "result = mc.tukeyhsd()\n",
    "print(result)\n",
    "print(mc.groupsunique)"
   ]
  },
  {
   "cell_type": "markdown",
   "metadata": {},
   "source": [
    " "
   ]
  }
 ],
 "metadata": {
  "kernelspec": {
   "display_name": "Python 2",
   "language": "python",
   "name": "python2"
  },
  "language_info": {
   "codemirror_mode": {
    "name": "ipython",
    "version": 2
   },
   "file_extension": ".py",
   "mimetype": "text/x-python",
   "name": "python",
   "nbconvert_exporter": "python",
   "pygments_lexer": "ipython2",
   "version": "2.7.15"
  }
 },
 "nbformat": 4,
 "nbformat_minor": 2
}
