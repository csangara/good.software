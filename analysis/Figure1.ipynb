{
 "cells": [
  {
   "cell_type": "markdown",
   "metadata": {},
   "source": [
    "# Good Software - analysis notebook\n",
    "## Reproducing all panels from Figure 1\n",
    "\n",
    "<br />\n",
    "This notebook contains all Python code necessary to reproduce all panels from the Figure 1 of [our paper](./), starting from the raw dataset. If you are interested in reproducing our results, you can use Binder to get started immediately (no requirements). For more information, visit [our wiki page](./).\n",
    "\n",
    "**Github:** https://github.com/smangul1/good.software/wiki\n",
    "\n",
    "**Manuscript:** https://www.biorxiv.org/content/early/2018/10/25/452532\n",
    "\n",
    "**Twitter thread:** https://twitter.com/serghei_mangul/status/1055561147431043072"
   ]
  },
  {
   "cell_type": "markdown",
   "metadata": {},
   "source": [
    "### Importing libraries"
   ]
  },
  {
   "cell_type": "code",
   "execution_count": 1,
   "metadata": {},
   "outputs": [],
   "source": [
    "import pylab as pl\n",
    "import numpy as np\n",
    "import pandas as pd\n",
    "import scikit_posthocs as sph"
   ]
  },
  {
   "cell_type": "markdown",
   "metadata": {},
   "source": [
    "### Some definitions"
   ]
  },
  {
   "cell_type": "code",
   "execution_count": 2,
   "metadata": {},
   "outputs": [],
   "source": [
    "# Legend for link statuses\n",
    "legendStatus = { -1 : 'Time out', 1 : 'Accessible', 3 : 'Redirected', 4 : 'Broken' }\n",
    "\n",
    "# Colors for each status\n",
    "colors = { -1 : (0.96,0.65,0.51), 1 : (0.57,0.77,0.87), 3 : (0.02,0.44,0.69), 4 : (0.8,0.,0.13) }\n",
    "\n",
    "# Scheme 2:\n",
    "colors2 = { 'bg_unreach' : (1.0,0.8,0.6), \n",
    "            'fg_unreach' : (0.8,0.,0.), \n",
    "            'bg_accessb' : (0.7,1.0,0.7), \n",
    "            'fg_accessb' : (0.0,0.0,0.8)\n",
    "         }\n",
    "\n",
    "# Will only consider these years\n",
    "initialYear = 2005"
   ]
  },
  {
   "cell_type": "markdown",
   "metadata": {},
   "source": [
    "### Util functions"
   ]
  },
  {
   "cell_type": "code",
   "execution_count": 3,
   "metadata": {},
   "outputs": [],
   "source": [
    "def simpleaxis(ax):\n",
    "    ax.spines['top'].set_visible(False)\n",
    "    ax.spines['right'].set_visible(False)\n",
    "    ax.get_xaxis().tick_bottom()\n",
    "    ax.get_yaxis().tick_left()"
   ]
  },
  {
   "cell_type": "markdown",
   "metadata": {},
   "source": [
    "# Importing and parsing data"
   ]
  },
  {
   "cell_type": "code",
   "execution_count": 4,
   "metadata": {},
   "outputs": [
    {
     "data": {
      "text/html": [
       "<div>\n",
       "<style scoped>\n",
       "    .dataframe tbody tr th:only-of-type {\n",
       "        vertical-align: middle;\n",
       "    }\n",
       "\n",
       "    .dataframe tbody tr th {\n",
       "        vertical-align: top;\n",
       "    }\n",
       "\n",
       "    .dataframe thead th {\n",
       "        text-align: right;\n",
       "    }\n",
       "</style>\n",
       "<table border=\"1\" class=\"dataframe\">\n",
       "  <thead>\n",
       "    <tr style=\"text-align: right;\">\n",
       "      <th></th>\n",
       "      <th>type</th>\n",
       "      <th>journal</th>\n",
       "      <th>id</th>\n",
       "      <th>year</th>\n",
       "      <th>link</th>\n",
       "      <th>code</th>\n",
       "      <th>flag.uniqueness</th>\n",
       "      <th>newtest</th>\n",
       "      <th>oldcode</th>\n",
       "    </tr>\n",
       "  </thead>\n",
       "  <tbody>\n",
       "    <tr>\n",
       "      <th>0</th>\n",
       "      <td>body</td>\n",
       "      <td>BMC_Bioinformatics</td>\n",
       "      <td>15268767.0</td>\n",
       "      <td>2004</td>\n",
       "      <td>(http://discover.nci.nih.gov)</td>\n",
       "      <td>-1</td>\n",
       "      <td>0</td>\n",
       "      <td>http</td>\n",
       "      <td>-1.0</td>\n",
       "    </tr>\n",
       "    <tr>\n",
       "      <th>1</th>\n",
       "      <td>body</td>\n",
       "      <td>BMC_Bioinformatics</td>\n",
       "      <td>15268767.0</td>\n",
       "      <td>2004</td>\n",
       "      <td>(http://dtp.nci.nih.gov)</td>\n",
       "      <td>-1</td>\n",
       "      <td>0</td>\n",
       "      <td>http</td>\n",
       "      <td>-1.0</td>\n",
       "    </tr>\n",
       "    <tr>\n",
       "      <th>2</th>\n",
       "      <td>body</td>\n",
       "      <td>Nucleic_Acids_Res</td>\n",
       "      <td>21398627.0</td>\n",
       "      <td>2011</td>\n",
       "      <td>(http://globin.cse.psu.edu/html/docs/sim4.html</td>\n",
       "      <td>-1</td>\n",
       "      <td>0</td>\n",
       "      <td>http</td>\n",
       "      <td>-1.0</td>\n",
       "    </tr>\n",
       "    <tr>\n",
       "      <th>3</th>\n",
       "      <td>body</td>\n",
       "      <td>BMC_Genomics</td>\n",
       "      <td>11472633.0</td>\n",
       "      <td>2001</td>\n",
       "      <td>(http://rgd.mcw.edu/RHMAPSERVER/)</td>\n",
       "      <td>-1</td>\n",
       "      <td>0</td>\n",
       "      <td>http</td>\n",
       "      <td>-1.0</td>\n",
       "    </tr>\n",
       "    <tr>\n",
       "      <th>4</th>\n",
       "      <td>body</td>\n",
       "      <td>BMC_Bioinformatics</td>\n",
       "      <td>19426459.0</td>\n",
       "      <td>2009</td>\n",
       "      <td>(http://www.eumodic.org/documents/EMPReSSslim%...</td>\n",
       "      <td>-1</td>\n",
       "      <td>0</td>\n",
       "      <td>http</td>\n",
       "      <td>-1.0</td>\n",
       "    </tr>\n",
       "  </tbody>\n",
       "</table>\n",
       "</div>"
      ],
      "text/plain": [
       "   type             journal          id  year  \\\n",
       "0  body  BMC_Bioinformatics  15268767.0  2004   \n",
       "1  body  BMC_Bioinformatics  15268767.0  2004   \n",
       "2  body   Nucleic_Acids_Res  21398627.0  2011   \n",
       "3  body        BMC_Genomics  11472633.0  2001   \n",
       "4  body  BMC_Bioinformatics  19426459.0  2009   \n",
       "\n",
       "                                                link  code  flag.uniqueness  \\\n",
       "0                      (http://discover.nci.nih.gov)    -1                0   \n",
       "1                           (http://dtp.nci.nih.gov)    -1                0   \n",
       "2     (http://globin.cse.psu.edu/html/docs/sim4.html    -1                0   \n",
       "3                  (http://rgd.mcw.edu/RHMAPSERVER/)    -1                0   \n",
       "4  (http://www.eumodic.org/documents/EMPReSSslim%...    -1                0   \n",
       "\n",
       "  newtest  oldcode  \n",
       "0    http     -1.0  \n",
       "1    http     -1.0  \n",
       "2    http     -1.0  \n",
       "3    http     -1.0  \n",
       "4    http     -1.0  "
      ]
     },
     "execution_count": 4,
     "metadata": {},
     "output_type": "execute_result"
    }
   ],
   "source": [
    "links = pd.read_csv('links.bulk.csv')\n",
    "links.head()"
   ]
  },
  {
   "cell_type": "code",
   "execution_count": 5,
   "metadata": {},
   "outputs": [
    {
     "name": "stdout",
     "output_type": "stream",
     "text": [
      "<class 'pandas.core.frame.DataFrame'>\n",
      "RangeIndex: 48392 entries, 0 to 48391\n",
      "Data columns (total 9 columns):\n",
      "type               48392 non-null object\n",
      "journal            48392 non-null object\n",
      "id                 48093 non-null float64\n",
      "year               48392 non-null int64\n",
      "link               48392 non-null object\n",
      "code               48392 non-null int64\n",
      "flag.uniqueness    48392 non-null int64\n",
      "newtest            30019 non-null object\n",
      "oldcode            30019 non-null float64\n",
      "dtypes: float64(2), int64(3), object(4)\n",
      "memory usage: 3.3+ MB\n"
     ]
    }
   ],
   "source": [
    "links.info()"
   ]
  },
  {
   "cell_type": "markdown",
   "metadata": {},
   "source": [
    "Parsing from code into human-readable status:\n",
    "\n",
    "* -1 : time out\n",
    "* 0..299 : good\n",
    "* 300..399 : redirected\n",
    "* \\>= 400 : not found\n",
    "\n",
    "To make it easier, let's map these codes to -1 for time out, 1 for accessible, 3 for redirected, and 4 for not found."
   ]
  },
  {
   "cell_type": "code",
   "execution_count": 6,
   "metadata": {},
   "outputs": [],
   "source": [
    "links = links[ links.year >= initialYear ]\n",
    "links['status'] = ( links['code'] // 100 )\n",
    "links.loc[ links['status'] > 4, 'status' ] = 4\n",
    "links.loc[ (links['status'] >= 0) & (links['status'] < 3), 'status' ] = 1"
   ]
  },
  {
   "cell_type": "markdown",
   "metadata": {},
   "source": [
    "Let's look at the histogram of statuses"
   ]
  },
  {
   "cell_type": "code",
   "execution_count": 7,
   "metadata": {},
   "outputs": [
    {
     "data": {
      "image/png": "[encoded data removed]",
      "text/plain": [
       "<Figure size 432x288 with 1 Axes>"
      ]
     },
     "metadata": {
      "needs_background": "light"
     },
     "output_type": "display_data"
    }
   ],
   "source": [
    "statuses = np.array( links.status )\n",
    "\n",
    "\n",
    "f, ax = pl.subplots(1, 1)\n",
    "ax.hist( statuses, np.arange(-1.5,6,1), edgecolor=(0.2,0.2,0.2), lw=3, \n",
    "            color=(0.2,0.6,1.0) )\n",
    "\n",
    "\n",
    "ax.set_ylabel('Count')\n",
    "ax.set_xticks([-1, 1, 3, 4])\n",
    "ax.set_xticklabels( ['Time out', 'Accessible', 'Redirected', 'Not found'], rotation=-45 )\n",
    "\n",
    "pl.show()"
   ]
  },
  {
   "cell_type": "code",
   "execution_count": 8,
   "metadata": {},
   "outputs": [
    {
     "name": "stdout",
     "output_type": "stream",
     "text": [
      "[ 5259 15628 19431  6957] [-1.2 -0.8  1.8  3.8  4.8]\n",
      "0.11124272871496563\n",
      "0.3305764145954521\n",
      "0.4110206240084611\n",
      "0.1471602326811211\n"
     ]
    }
   ],
   "source": [
    "count, bin_values = np.histogram(statuses, bins = [-1.2,-0.8,1.8,3.8,4.8])\n",
    "\n",
    "print(count, bin_values)\n",
    "total = float(count.sum())\n",
    "\n",
    "for j in range(4):\n",
    "    print(count[j]/total)"
   ]
  },
  {
   "cell_type": "markdown",
   "metadata": {},
   "source": [
    "### Filtering out repeated links"
   ]
  },
  {
   "cell_type": "markdown",
   "metadata": {},
   "source": [
    "To avoid using repeated links, let's create another dataframe."
   ]
  },
  {
   "cell_type": "code",
   "execution_count": 9,
   "metadata": {},
   "outputs": [
    {
     "name": "stdout",
     "output_type": "stream",
     "text": [
      "(36702, 10)\n"
     ]
    },
    {
     "data": {
      "text/html": [
       "<div>\n",
       "<style scoped>\n",
       "    .dataframe tbody tr th:only-of-type {\n",
       "        vertical-align: middle;\n",
       "    }\n",
       "\n",
       "    .dataframe tbody tr th {\n",
       "        vertical-align: top;\n",
       "    }\n",
       "\n",
       "    .dataframe thead th {\n",
       "        text-align: right;\n",
       "    }\n",
       "</style>\n",
       "<table border=\"1\" class=\"dataframe\">\n",
       "  <thead>\n",
       "    <tr style=\"text-align: right;\">\n",
       "      <th></th>\n",
       "      <th>type</th>\n",
       "      <th>journal</th>\n",
       "      <th>id</th>\n",
       "      <th>year</th>\n",
       "      <th>link</th>\n",
       "      <th>code</th>\n",
       "      <th>newtest</th>\n",
       "      <th>oldcode</th>\n",
       "      <th>status</th>\n",
       "    </tr>\n",
       "  </thead>\n",
       "  <tbody>\n",
       "    <tr>\n",
       "      <th>2</th>\n",
       "      <td>body</td>\n",
       "      <td>Nucleic_Acids_Res</td>\n",
       "      <td>21398627.0</td>\n",
       "      <td>2011</td>\n",
       "      <td>(http://globin.cse.psu.edu/html/docs/sim4.html</td>\n",
       "      <td>-1</td>\n",
       "      <td>http</td>\n",
       "      <td>-1.0</td>\n",
       "      <td>-1</td>\n",
       "    </tr>\n",
       "    <tr>\n",
       "      <th>4</th>\n",
       "      <td>body</td>\n",
       "      <td>BMC_Bioinformatics</td>\n",
       "      <td>19426459.0</td>\n",
       "      <td>2009</td>\n",
       "      <td>(http://www.eumodic.org/documents/EMPReSSslim%...</td>\n",
       "      <td>-1</td>\n",
       "      <td>http</td>\n",
       "      <td>-1.0</td>\n",
       "      <td>-1</td>\n",
       "    </tr>\n",
       "    <tr>\n",
       "      <th>5</th>\n",
       "      <td>body</td>\n",
       "      <td>BMC_Bioinformatics</td>\n",
       "      <td>16026597.0</td>\n",
       "      <td>2005</td>\n",
       "      <td>(http://www.fda.gov/cder/genomics/</td>\n",
       "      <td>-1</td>\n",
       "      <td>http</td>\n",
       "      <td>-1.0</td>\n",
       "      <td>-1</td>\n",
       "    </tr>\n",
       "    <tr>\n",
       "      <th>6</th>\n",
       "      <td>body</td>\n",
       "      <td>BMC_Bioinformatics</td>\n",
       "      <td>16026597.0</td>\n",
       "      <td>2005</td>\n",
       "      <td>(http://www.fda.gov/oc/initiatives/criticalpath/</td>\n",
       "      <td>-1</td>\n",
       "      <td>http</td>\n",
       "      <td>-1.0</td>\n",
       "      <td>-1</td>\n",
       "    </tr>\n",
       "    <tr>\n",
       "      <th>7</th>\n",
       "      <td>body</td>\n",
       "      <td>PLoS_Comput_Biol</td>\n",
       "      <td>22022247.0</td>\n",
       "      <td>2011</td>\n",
       "      <td>(http://www.ks.uiuc.edu/Development/MDTools/io...</td>\n",
       "      <td>-1</td>\n",
       "      <td>http</td>\n",
       "      <td>-1.0</td>\n",
       "      <td>-1</td>\n",
       "    </tr>\n",
       "  </tbody>\n",
       "</table>\n",
       "</div>"
      ],
      "text/plain": [
       "   type             journal          id  year  \\\n",
       "2  body   Nucleic_Acids_Res  21398627.0  2011   \n",
       "4  body  BMC_Bioinformatics  19426459.0  2009   \n",
       "5  body  BMC_Bioinformatics  16026597.0  2005   \n",
       "6  body  BMC_Bioinformatics  16026597.0  2005   \n",
       "7  body    PLoS_Comput_Biol  22022247.0  2011   \n",
       "\n",
       "                                                link  code newtest  oldcode  \\\n",
       "2     (http://globin.cse.psu.edu/html/docs/sim4.html    -1    http     -1.0   \n",
       "4  (http://www.eumodic.org/documents/EMPReSSslim%...    -1    http     -1.0   \n",
       "5                 (http://www.fda.gov/cder/genomics/    -1    http     -1.0   \n",
       "6   (http://www.fda.gov/oc/initiatives/criticalpath/    -1    http     -1.0   \n",
       "7  (http://www.ks.uiuc.edu/Development/MDTools/io...    -1    http     -1.0   \n",
       "\n",
       "   status  \n",
       "2      -1  \n",
       "4      -1  \n",
       "5      -1  \n",
       "6      -1  \n",
       "7      -1  "
      ]
     },
     "execution_count": 9,
     "metadata": {},
     "output_type": "execute_result"
    }
   ],
   "source": [
    "uniqueLinks = links[ links['flag.uniqueness'] == 0 ]\n",
    "print(uniqueLinks.shape)\n",
    "uniqueLinks = uniqueLinks.drop(columns=['flag.uniqueness'])\n",
    "uniqueLinks.head()"
   ]
  },
  {
   "cell_type": "code",
   "execution_count": 10,
   "metadata": {},
   "outputs": [
    {
     "data": {
      "text/html": [
       "<div>\n",
       "<style scoped>\n",
       "    .dataframe tbody tr th:only-of-type {\n",
       "        vertical-align: middle;\n",
       "    }\n",
       "\n",
       "    .dataframe tbody tr th {\n",
       "        vertical-align: top;\n",
       "    }\n",
       "\n",
       "    .dataframe thead th {\n",
       "        text-align: right;\n",
       "    }\n",
       "</style>\n",
       "<table border=\"1\" class=\"dataframe\">\n",
       "  <thead>\n",
       "    <tr style=\"text-align: right;\">\n",
       "      <th></th>\n",
       "      <th>type</th>\n",
       "      <th>journal</th>\n",
       "      <th>id</th>\n",
       "      <th>year</th>\n",
       "      <th>link</th>\n",
       "      <th>code</th>\n",
       "      <th>newtest</th>\n",
       "      <th>oldcode</th>\n",
       "      <th>status</th>\n",
       "    </tr>\n",
       "  </thead>\n",
       "  <tbody>\n",
       "    <tr>\n",
       "      <th>6387</th>\n",
       "      <td>body</td>\n",
       "      <td>Nucleic_Acids_Res</td>\n",
       "      <td>15608157.0</td>\n",
       "      <td>2005</td>\n",
       "      <td>www.human-siRNA-database.net</td>\n",
       "      <td>301</td>\n",
       "      <td>http</td>\n",
       "      <td>-1.0</td>\n",
       "      <td>3</td>\n",
       "    </tr>\n",
       "    <tr>\n",
       "      <th>22888</th>\n",
       "      <td>abstract</td>\n",
       "      <td>Nucleic_Acids_Res</td>\n",
       "      <td>15608157.0</td>\n",
       "      <td>2005</td>\n",
       "      <td>http://www.human-siRNA-database.net</td>\n",
       "      <td>404</td>\n",
       "      <td>http</td>\n",
       "      <td>301.0</td>\n",
       "      <td>4</td>\n",
       "    </tr>\n",
       "    <tr>\n",
       "      <th>1890</th>\n",
       "      <td>body</td>\n",
       "      <td>Nucleic_Acids_Res</td>\n",
       "      <td>15608160.0</td>\n",
       "      <td>2005</td>\n",
       "      <td>http://infernal.wustl.edu/</td>\n",
       "      <td>-1</td>\n",
       "      <td>http</td>\n",
       "      <td>-1.0</td>\n",
       "      <td>-1</td>\n",
       "    </tr>\n",
       "    <tr>\n",
       "      <th>2814</th>\n",
       "      <td>abstract</td>\n",
       "      <td>Nucleic_Acids_Res</td>\n",
       "      <td>15608160.0</td>\n",
       "      <td>2005</td>\n",
       "      <td>http://rfam.wustl.edu/</td>\n",
       "      <td>-1</td>\n",
       "      <td>http</td>\n",
       "      <td>-1.0</td>\n",
       "      <td>-1</td>\n",
       "    </tr>\n",
       "    <tr>\n",
       "      <th>17798</th>\n",
       "      <td>abstract</td>\n",
       "      <td>Nucleic_Acids_Res</td>\n",
       "      <td>15608160.0</td>\n",
       "      <td>2005</td>\n",
       "      <td>http://www.sanger.ac.uk/Software/Rfam/</td>\n",
       "      <td>301</td>\n",
       "      <td>http</td>\n",
       "      <td>301.0</td>\n",
       "      <td>3</td>\n",
       "    </tr>\n",
       "    <tr>\n",
       "      <th>341</th>\n",
       "      <td>body</td>\n",
       "      <td>Nucleic_Acids_Res</td>\n",
       "      <td>15608162.0</td>\n",
       "      <td>2005</td>\n",
       "      <td>http://aosearch.cgb.ki.se</td>\n",
       "      <td>-1</td>\n",
       "      <td>http</td>\n",
       "      <td>-1.0</td>\n",
       "      <td>-1</td>\n",
       "    </tr>\n",
       "    <tr>\n",
       "      <th>23661</th>\n",
       "      <td>abstract</td>\n",
       "      <td>Nucleic_Acids_Res</td>\n",
       "      <td>15608162.0</td>\n",
       "      <td>2005</td>\n",
       "      <td>http://siRNA.cgb.ki.se</td>\n",
       "      <td>503</td>\n",
       "      <td>http</td>\n",
       "      <td>301.0</td>\n",
       "      <td>4</td>\n",
       "    </tr>\n",
       "    <tr>\n",
       "      <th>307</th>\n",
       "      <td>abstract</td>\n",
       "      <td>Nucleic_Acids_Res</td>\n",
       "      <td>15608164.0</td>\n",
       "      <td>2005</td>\n",
       "      <td>http://alpha.protres.ru/trnadbase</td>\n",
       "      <td>-1</td>\n",
       "      <td>http</td>\n",
       "      <td>-1.0</td>\n",
       "      <td>-1</td>\n",
       "    </tr>\n",
       "    <tr>\n",
       "      <th>43622</th>\n",
       "      <td>abstract</td>\n",
       "      <td>Nucleic_Acids_Res</td>\n",
       "      <td>15608164.0</td>\n",
       "      <td>2005</td>\n",
       "      <td>http://www.tRNA.uni-bayreuth.de</td>\n",
       "      <td>200</td>\n",
       "      <td>NaN</td>\n",
       "      <td>NaN</td>\n",
       "      <td>1</td>\n",
       "    </tr>\n",
       "    <tr>\n",
       "      <th>12125</th>\n",
       "      <td>body</td>\n",
       "      <td>Nucleic_Acids_Res</td>\n",
       "      <td>15608166.0</td>\n",
       "      <td>2005</td>\n",
       "      <td>http://redpoll.pharmacy.ualberta.ca/CCDB</td>\n",
       "      <td>301</td>\n",
       "      <td>http</td>\n",
       "      <td>301.0</td>\n",
       "      <td>3</td>\n",
       "    </tr>\n",
       "    <tr>\n",
       "      <th>14188</th>\n",
       "      <td>body</td>\n",
       "      <td>Nucleic_Acids_Res</td>\n",
       "      <td>15608166.0</td>\n",
       "      <td>2005</td>\n",
       "      <td>http://www.cs.ualberta.ca/~bioinfo/PA/</td>\n",
       "      <td>301</td>\n",
       "      <td>http</td>\n",
       "      <td>301.0</td>\n",
       "      <td>3</td>\n",
       "    </tr>\n",
       "    <tr>\n",
       "      <th>14189</th>\n",
       "      <td>abstract</td>\n",
       "      <td>Nucleic_Acids_Res</td>\n",
       "      <td>15608166.0</td>\n",
       "      <td>2005</td>\n",
       "      <td>http://www.cs.ualberta.ca/~bioinfo/PA/GOSUB</td>\n",
       "      <td>301</td>\n",
       "      <td>http</td>\n",
       "      <td>301.0</td>\n",
       "      <td>3</td>\n",
       "    </tr>\n",
       "    <tr>\n",
       "      <th>36369</th>\n",
       "      <td>abstract</td>\n",
       "      <td>Nucleic_Acids_Res</td>\n",
       "      <td>15608172.0</td>\n",
       "      <td>2005</td>\n",
       "      <td>http://otl.stanford.edu/</td>\n",
       "      <td>200</td>\n",
       "      <td>NaN</td>\n",
       "      <td>NaN</td>\n",
       "      <td>1</td>\n",
       "    </tr>\n",
       "    <tr>\n",
       "      <th>46290</th>\n",
       "      <td>abstract</td>\n",
       "      <td>Nucleic_Acids_Res</td>\n",
       "      <td>15608172.0</td>\n",
       "      <td>2005</td>\n",
       "      <td>http://motif.stanford.edu/eblocks/</td>\n",
       "      <td>404</td>\n",
       "      <td>NaN</td>\n",
       "      <td>NaN</td>\n",
       "      <td>4</td>\n",
       "    </tr>\n",
       "    <tr>\n",
       "      <th>1326</th>\n",
       "      <td>body</td>\n",
       "      <td>Nucleic_Acids_Res</td>\n",
       "      <td>15608174.0</td>\n",
       "      <td>2005</td>\n",
       "      <td>http://ekhidna.biocenter.helsinki.fi:8080/down...</td>\n",
       "      <td>-1</td>\n",
       "      <td>http</td>\n",
       "      <td>-1.0</td>\n",
       "      <td>-1</td>\n",
       "    </tr>\n",
       "  </tbody>\n",
       "</table>\n",
       "</div>"
      ],
      "text/plain": [
       "           type            journal          id  year  \\\n",
       "6387       body  Nucleic_Acids_Res  15608157.0  2005   \n",
       "22888  abstract  Nucleic_Acids_Res  15608157.0  2005   \n",
       "1890       body  Nucleic_Acids_Res  15608160.0  2005   \n",
       "2814   abstract  Nucleic_Acids_Res  15608160.0  2005   \n",
       "17798  abstract  Nucleic_Acids_Res  15608160.0  2005   \n",
       "341        body  Nucleic_Acids_Res  15608162.0  2005   \n",
       "23661  abstract  Nucleic_Acids_Res  15608162.0  2005   \n",
       "307    abstract  Nucleic_Acids_Res  15608164.0  2005   \n",
       "43622  abstract  Nucleic_Acids_Res  15608164.0  2005   \n",
       "12125      body  Nucleic_Acids_Res  15608166.0  2005   \n",
       "14188      body  Nucleic_Acids_Res  15608166.0  2005   \n",
       "14189  abstract  Nucleic_Acids_Res  15608166.0  2005   \n",
       "36369  abstract  Nucleic_Acids_Res  15608172.0  2005   \n",
       "46290  abstract  Nucleic_Acids_Res  15608172.0  2005   \n",
       "1326       body  Nucleic_Acids_Res  15608174.0  2005   \n",
       "\n",
       "                                                    link  code newtest  \\\n",
       "6387                        www.human-siRNA-database.net   301    http   \n",
       "22888                http://www.human-siRNA-database.net   404    http   \n",
       "1890                          http://infernal.wustl.edu/    -1    http   \n",
       "2814                              http://rfam.wustl.edu/    -1    http   \n",
       "17798             http://www.sanger.ac.uk/Software/Rfam/   301    http   \n",
       "341                            http://aosearch.cgb.ki.se    -1    http   \n",
       "23661                             http://siRNA.cgb.ki.se   503    http   \n",
       "307                    http://alpha.protres.ru/trnadbase    -1    http   \n",
       "43622                    http://www.tRNA.uni-bayreuth.de   200     NaN   \n",
       "12125           http://redpoll.pharmacy.ualberta.ca/CCDB   301    http   \n",
       "14188             http://www.cs.ualberta.ca/~bioinfo/PA/   301    http   \n",
       "14189        http://www.cs.ualberta.ca/~bioinfo/PA/GOSUB   301    http   \n",
       "36369                           http://otl.stanford.edu/   200     NaN   \n",
       "46290                 http://motif.stanford.edu/eblocks/   404     NaN   \n",
       "1326   http://ekhidna.biocenter.helsinki.fi:8080/down...    -1    http   \n",
       "\n",
       "       oldcode  status  \n",
       "6387      -1.0       3  \n",
       "22888    301.0       4  \n",
       "1890      -1.0      -1  \n",
       "2814      -1.0      -1  \n",
       "17798    301.0       3  \n",
       "341       -1.0      -1  \n",
       "23661    301.0       4  \n",
       "307       -1.0      -1  \n",
       "43622      NaN       1  \n",
       "12125    301.0       3  \n",
       "14188    301.0       3  \n",
       "14189    301.0       3  \n",
       "36369      NaN       1  \n",
       "46290      NaN       4  \n",
       "1326      -1.0      -1  "
      ]
     },
     "execution_count": 10,
     "metadata": {},
     "output_type": "execute_result"
    }
   ],
   "source": [
    "repeated_data = pd.concat(g for _, g in uniqueLinks.groupby(\"id\") if len(g) > 1)\n",
    "repeated_data.head(15)"
   ]
  },
  {
   "cell_type": "code",
   "execution_count": 11,
   "metadata": {},
   "outputs": [
    {
     "name": "stdout",
     "output_type": "stream",
     "text": [
      "<class 'pandas.core.frame.DataFrame'>\n",
      "Int64Index: 36702 entries, 2 to 48391\n",
      "Data columns (total 9 columns):\n",
      "type       36702 non-null object\n",
      "journal    36702 non-null object\n",
      "id         36536 non-null float64\n",
      "year       36702 non-null int64\n",
      "link       36702 non-null object\n",
      "code       36702 non-null int64\n",
      "newtest    22872 non-null object\n",
      "oldcode    22872 non-null float64\n",
      "status     36702 non-null int64\n",
      "dtypes: float64(2), int64(3), object(4)\n",
      "memory usage: 2.8+ MB\n"
     ]
    }
   ],
   "source": [
    "uniqueLinks.info()"
   ]
  },
  {
   "cell_type": "code",
   "execution_count": 12,
   "metadata": {},
   "outputs": [
    {
     "data": {
      "text/html": [
       "<div>\n",
       "<style scoped>\n",
       "    .dataframe tbody tr th:only-of-type {\n",
       "        vertical-align: middle;\n",
       "    }\n",
       "\n",
       "    .dataframe tbody tr th {\n",
       "        vertical-align: top;\n",
       "    }\n",
       "\n",
       "    .dataframe thead th {\n",
       "        text-align: right;\n",
       "    }\n",
       "</style>\n",
       "<table border=\"1\" class=\"dataframe\">\n",
       "  <thead>\n",
       "    <tr style=\"text-align: right;\">\n",
       "      <th></th>\n",
       "      <th>id</th>\n",
       "      <th>year</th>\n",
       "      <th>code</th>\n",
       "      <th>oldcode</th>\n",
       "      <th>status</th>\n",
       "    </tr>\n",
       "  </thead>\n",
       "  <tbody>\n",
       "    <tr>\n",
       "      <th>count</th>\n",
       "      <td>3.653600e+04</td>\n",
       "      <td>36702.000000</td>\n",
       "      <td>36702.000000</td>\n",
       "      <td>22872.000000</td>\n",
       "      <td>36702.000000</td>\n",
       "    </tr>\n",
       "    <tr>\n",
       "      <th>mean</th>\n",
       "      <td>2.282358e+07</td>\n",
       "      <td>2012.014332</td>\n",
       "      <td>250.927633</td>\n",
       "      <td>222.919902</td>\n",
       "      <td>2.047927</td>\n",
       "    </tr>\n",
       "    <tr>\n",
       "      <th>std</th>\n",
       "      <td>3.722272e+06</td>\n",
       "      <td>3.483438</td>\n",
       "      <td>116.913500</td>\n",
       "      <td>134.608017</td>\n",
       "      <td>1.557213</td>\n",
       "    </tr>\n",
       "    <tr>\n",
       "      <th>min</th>\n",
       "      <td>1.560816e+07</td>\n",
       "      <td>2005.000000</td>\n",
       "      <td>-1.000000</td>\n",
       "      <td>-1.000000</td>\n",
       "      <td>-1.000000</td>\n",
       "    </tr>\n",
       "    <tr>\n",
       "      <th>25%</th>\n",
       "      <td>1.978383e+07</td>\n",
       "      <td>2009.000000</td>\n",
       "      <td>200.000000</td>\n",
       "      <td>-1.000000</td>\n",
       "      <td>1.000000</td>\n",
       "    </tr>\n",
       "    <tr>\n",
       "      <th>50%</th>\n",
       "      <td>2.318078e+07</td>\n",
       "      <td>2012.000000</td>\n",
       "      <td>301.000000</td>\n",
       "      <td>301.000000</td>\n",
       "      <td>3.000000</td>\n",
       "    </tr>\n",
       "    <tr>\n",
       "      <th>75%</th>\n",
       "      <td>2.595065e+07</td>\n",
       "      <td>2015.000000</td>\n",
       "      <td>302.000000</td>\n",
       "      <td>301.000000</td>\n",
       "      <td>3.000000</td>\n",
       "    </tr>\n",
       "    <tr>\n",
       "      <th>max</th>\n",
       "      <td>2.916934e+07</td>\n",
       "      <td>2017.000000</td>\n",
       "      <td>999.000000</td>\n",
       "      <td>405.000000</td>\n",
       "      <td>4.000000</td>\n",
       "    </tr>\n",
       "  </tbody>\n",
       "</table>\n",
       "</div>"
      ],
      "text/plain": [
       "                 id          year          code       oldcode        status\n",
       "count  3.653600e+04  36702.000000  36702.000000  22872.000000  36702.000000\n",
       "mean   2.282358e+07   2012.014332    250.927633    222.919902      2.047927\n",
       "std    3.722272e+06      3.483438    116.913500    134.608017      1.557213\n",
       "min    1.560816e+07   2005.000000     -1.000000     -1.000000     -1.000000\n",
       "25%    1.978383e+07   2009.000000    200.000000     -1.000000      1.000000\n",
       "50%    2.318078e+07   2012.000000    301.000000    301.000000      3.000000\n",
       "75%    2.595065e+07   2015.000000    302.000000    301.000000      3.000000\n",
       "max    2.916934e+07   2017.000000    999.000000    405.000000      4.000000"
      ]
     },
     "execution_count": 12,
     "metadata": {},
     "output_type": "execute_result"
    }
   ],
   "source": [
    "uniqueLinks.describe()"
   ]
  },
  {
   "cell_type": "code",
   "execution_count": 13,
   "metadata": {},
   "outputs": [
    {
     "name": "stdout",
     "output_type": "stream",
     "text": [
      "Percent of repeated links: 22.4%\n"
     ]
    }
   ],
   "source": [
    "print( 'Percent of repeated links: %.1f%%' % ( (1 - len(uniqueLinks)/len(links))*100. ) )"
   ]
  },
  {
   "cell_type": "code",
   "execution_count": 14,
   "metadata": {},
   "outputs": [
    {
     "data": {
      "image/png": "[encoded data removed]",
      "text/plain": [
       "<Figure size 432x288 with 1 Axes>"
      ]
     },
     "metadata": {
      "needs_background": "light"
     },
     "output_type": "display_data"
    }
   ],
   "source": [
    "statuses = np.array( uniqueLinks.status )\n",
    "\n",
    "f, ax = pl.subplots(1, 1)\n",
    "ax.hist( statuses, np.arange(-1.5,6,1), edgecolor=(0.2,0.2,0.2), lw=3, \n",
    "            color=(0.2,0.6,1.0) )\n",
    "\n",
    "\n",
    "ax.set_ylabel('Count')\n",
    "ax.set_xticks([-1, 1, 3, 4])\n",
    "ax.set_xticklabels( ['Time out', 'Accessible', 'Redirected', 'Not found'], rotation=-45 )\n",
    "\n",
    "pl.show()"
   ]
  },
  {
   "cell_type": "code",
   "execution_count": 15,
   "metadata": {},
   "outputs": [
    {
     "data": {
      "text/plain": [
       "(19209,)"
      ]
     },
     "execution_count": 15,
     "metadata": {},
     "output_type": "execute_result"
    }
   ],
   "source": [
    "np.unique(uniqueLinks.id).shape"
   ]
  },
  {
   "cell_type": "markdown",
   "metadata": {},
   "source": [
    "## Fixing http -> https redirection\n",
    "\n",
    "Due to increased security awareness in the past few years, a number of links marked as redirections are in fact just changing the http protocol to https. We will not consider them as redirection, if the rest of the URL is the same."
   ]
  },
  {
   "cell_type": "code",
   "execution_count": 16,
   "metadata": {},
   "outputs": [
    {
     "data": {
      "text/html": [
       "<div>\n",
       "<style scoped>\n",
       "    .dataframe tbody tr th:only-of-type {\n",
       "        vertical-align: middle;\n",
       "    }\n",
       "\n",
       "    .dataframe tbody tr th {\n",
       "        vertical-align: top;\n",
       "    }\n",
       "\n",
       "    .dataframe thead th {\n",
       "        text-align: right;\n",
       "    }\n",
       "</style>\n",
       "<table border=\"1\" class=\"dataframe\">\n",
       "  <thead>\n",
       "    <tr style=\"text-align: right;\">\n",
       "      <th></th>\n",
       "      <th>pubmed_id</th>\n",
       "      <th>url</th>\n",
       "      <th>status</th>\n",
       "      <th>https_redirect</th>\n",
       "    </tr>\n",
       "  </thead>\n",
       "  <tbody>\n",
       "    <tr>\n",
       "      <th>0</th>\n",
       "      <td>25897114.0</td>\n",
       "      <td>ftp://ftp.sanger.ac.uk/pub/cancer/AlexandrovEtAl</td>\n",
       "      <td>301</td>\n",
       "      <td>-1</td>\n",
       "    </tr>\n",
       "    <tr>\n",
       "      <th>1</th>\n",
       "      <td>24194605.0</td>\n",
       "      <td>ftp://ftp.wormbase.org</td>\n",
       "      <td>301</td>\n",
       "      <td>False</td>\n",
       "    </tr>\n",
       "    <tr>\n",
       "      <th>2</th>\n",
       "      <td>21453524.0</td>\n",
       "      <td>ftp://ftp.wormbase.org/pub/wormbase/genomes/el...</td>\n",
       "      <td>301</td>\n",
       "      <td>-1</td>\n",
       "    </tr>\n",
       "    <tr>\n",
       "      <th>3</th>\n",
       "      <td>24507667.0</td>\n",
       "      <td>ftp://ftp.wormbase.org/pub/wormbase/releases:W...</td>\n",
       "      <td>301</td>\n",
       "      <td>-1</td>\n",
       "    </tr>\n",
       "    <tr>\n",
       "      <th>4</th>\n",
       "      <td>24699297.0</td>\n",
       "      <td>ftp.ebi.ac.uk/pub/databases/chembl/Allosterism</td>\n",
       "      <td>301</td>\n",
       "      <td>False</td>\n",
       "    </tr>\n",
       "    <tr>\n",
       "      <th>5</th>\n",
       "      <td>16157864.0</td>\n",
       "      <td>ftp.ncbi.nih.gov/genomes/Bacteria/</td>\n",
       "      <td>301</td>\n",
       "      <td>-1</td>\n",
       "    </tr>\n",
       "    <tr>\n",
       "      <th>6</th>\n",
       "      <td>20439257.0</td>\n",
       "      <td>ftp.ncbi.nih.gov/pub/wolf/COGs/COGsoft/</td>\n",
       "      <td>301</td>\n",
       "      <td>True</td>\n",
       "    </tr>\n",
       "    <tr>\n",
       "      <th>7</th>\n",
       "      <td>28715501.0</td>\n",
       "      <td>ftp.ncbi.nlm.nih.gov/genomes/ASSEMBLY_BACTERIA</td>\n",
       "      <td>301</td>\n",
       "      <td>-1</td>\n",
       "    </tr>\n",
       "    <tr>\n",
       "      <th>8</th>\n",
       "      <td>22096235.0</td>\n",
       "      <td>ftp.ncbi.nlm.nih.gov/pub/pmc/articles</td>\n",
       "      <td>301</td>\n",
       "      <td>-1</td>\n",
       "    </tr>\n",
       "    <tr>\n",
       "      <th>9</th>\n",
       "      <td>21908398.0</td>\n",
       "      <td>ftp.wormbase.org/</td>\n",
       "      <td>301</td>\n",
       "      <td>False</td>\n",
       "    </tr>\n",
       "  </tbody>\n",
       "</table>\n",
       "</div>"
      ],
      "text/plain": [
       "    pubmed_id                                                url  status  \\\n",
       "0  25897114.0   ftp://ftp.sanger.ac.uk/pub/cancer/AlexandrovEtAl     301   \n",
       "1  24194605.0                             ftp://ftp.wormbase.org     301   \n",
       "2  21453524.0  ftp://ftp.wormbase.org/pub/wormbase/genomes/el...     301   \n",
       "3  24507667.0  ftp://ftp.wormbase.org/pub/wormbase/releases:W...     301   \n",
       "4  24699297.0     ftp.ebi.ac.uk/pub/databases/chembl/Allosterism     301   \n",
       "5  16157864.0                 ftp.ncbi.nih.gov/genomes/Bacteria/     301   \n",
       "6  20439257.0            ftp.ncbi.nih.gov/pub/wolf/COGs/COGsoft/     301   \n",
       "7  28715501.0     ftp.ncbi.nlm.nih.gov/genomes/ASSEMBLY_BACTERIA     301   \n",
       "8  22096235.0              ftp.ncbi.nlm.nih.gov/pub/pmc/articles     301   \n",
       "9  21908398.0                                  ftp.wormbase.org/     301   \n",
       "\n",
       "  https_redirect  \n",
       "0             -1  \n",
       "1          False  \n",
       "2             -1  \n",
       "3             -1  \n",
       "4          False  \n",
       "5             -1  \n",
       "6           True  \n",
       "7             -1  \n",
       "8             -1  \n",
       "9          False  "
      ]
     },
     "execution_count": 16,
     "metadata": {},
     "output_type": "execute_result"
    }
   ],
   "source": [
    "redirection_checking = pd.read_csv('http2https.redirected.csv', \n",
    "                                    header=None, names=['pubmed_id', 'url', 'status', 'https_redirect']\n",
    "                                  )\n",
    "redirection_checking.head(10)"
   ]
  },
  {
   "cell_type": "code",
   "execution_count": 17,
   "metadata": {},
   "outputs": [],
   "source": [
    "for index, row in redirection_checking.iterrows():\n",
    "    if row['https_redirect'] == 'True' and uniqueLinks[ uniqueLinks.link == row['url']].shape[0] > 0:\n",
    "        idx = np.where(uniqueLinks.link == row['url'])[0][0]\n",
    "        uniqueLinks.iloc[idx,6] = 1"
   ]
  },
  {
   "cell_type": "code",
   "execution_count": 18,
   "metadata": {},
   "outputs": [
    {
     "data": {
      "text/html": [
       "<div>\n",
       "<style scoped>\n",
       "    .dataframe tbody tr th:only-of-type {\n",
       "        vertical-align: middle;\n",
       "    }\n",
       "\n",
       "    .dataframe tbody tr th {\n",
       "        vertical-align: top;\n",
       "    }\n",
       "\n",
       "    .dataframe thead th {\n",
       "        text-align: right;\n",
       "    }\n",
       "</style>\n",
       "<table border=\"1\" class=\"dataframe\">\n",
       "  <thead>\n",
       "    <tr style=\"text-align: right;\">\n",
       "      <th></th>\n",
       "      <th>type</th>\n",
       "      <th>journal</th>\n",
       "      <th>id</th>\n",
       "      <th>year</th>\n",
       "      <th>link</th>\n",
       "      <th>code</th>\n",
       "      <th>newtest</th>\n",
       "      <th>oldcode</th>\n",
       "      <th>status</th>\n",
       "    </tr>\n",
       "  </thead>\n",
       "  <tbody>\n",
       "    <tr>\n",
       "      <th>2</th>\n",
       "      <td>body</td>\n",
       "      <td>Nucleic_Acids_Res</td>\n",
       "      <td>21398627.0</td>\n",
       "      <td>2011</td>\n",
       "      <td>(http://globin.cse.psu.edu/html/docs/sim4.html</td>\n",
       "      <td>-1</td>\n",
       "      <td>http</td>\n",
       "      <td>-1.0</td>\n",
       "      <td>-1</td>\n",
       "    </tr>\n",
       "    <tr>\n",
       "      <th>4</th>\n",
       "      <td>body</td>\n",
       "      <td>BMC_Bioinformatics</td>\n",
       "      <td>19426459.0</td>\n",
       "      <td>2009</td>\n",
       "      <td>(http://www.eumodic.org/documents/EMPReSSslim%...</td>\n",
       "      <td>-1</td>\n",
       "      <td>http</td>\n",
       "      <td>-1.0</td>\n",
       "      <td>-1</td>\n",
       "    </tr>\n",
       "    <tr>\n",
       "      <th>5</th>\n",
       "      <td>body</td>\n",
       "      <td>BMC_Bioinformatics</td>\n",
       "      <td>16026597.0</td>\n",
       "      <td>2005</td>\n",
       "      <td>(http://www.fda.gov/cder/genomics/</td>\n",
       "      <td>-1</td>\n",
       "      <td>http</td>\n",
       "      <td>-1.0</td>\n",
       "      <td>-1</td>\n",
       "    </tr>\n",
       "    <tr>\n",
       "      <th>6</th>\n",
       "      <td>body</td>\n",
       "      <td>BMC_Bioinformatics</td>\n",
       "      <td>16026597.0</td>\n",
       "      <td>2005</td>\n",
       "      <td>(http://www.fda.gov/oc/initiatives/criticalpath/</td>\n",
       "      <td>-1</td>\n",
       "      <td>http</td>\n",
       "      <td>-1.0</td>\n",
       "      <td>-1</td>\n",
       "    </tr>\n",
       "    <tr>\n",
       "      <th>7</th>\n",
       "      <td>body</td>\n",
       "      <td>PLoS_Comput_Biol</td>\n",
       "      <td>22022247.0</td>\n",
       "      <td>2011</td>\n",
       "      <td>(http://www.ks.uiuc.edu/Development/MDTools/io...</td>\n",
       "      <td>-1</td>\n",
       "      <td>http</td>\n",
       "      <td>-1.0</td>\n",
       "      <td>-1</td>\n",
       "    </tr>\n",
       "  </tbody>\n",
       "</table>\n",
       "</div>"
      ],
      "text/plain": [
       "   type             journal          id  year  \\\n",
       "2  body   Nucleic_Acids_Res  21398627.0  2011   \n",
       "4  body  BMC_Bioinformatics  19426459.0  2009   \n",
       "5  body  BMC_Bioinformatics  16026597.0  2005   \n",
       "6  body  BMC_Bioinformatics  16026597.0  2005   \n",
       "7  body    PLoS_Comput_Biol  22022247.0  2011   \n",
       "\n",
       "                                                link  code newtest  oldcode  \\\n",
       "2     (http://globin.cse.psu.edu/html/docs/sim4.html    -1    http     -1.0   \n",
       "4  (http://www.eumodic.org/documents/EMPReSSslim%...    -1    http     -1.0   \n",
       "5                 (http://www.fda.gov/cder/genomics/    -1    http     -1.0   \n",
       "6   (http://www.fda.gov/oc/initiatives/criticalpath/    -1    http     -1.0   \n",
       "7  (http://www.ks.uiuc.edu/Development/MDTools/io...    -1    http     -1.0   \n",
       "\n",
       "   status  \n",
       "2      -1  \n",
       "4      -1  \n",
       "5      -1  \n",
       "6      -1  \n",
       "7      -1  "
      ]
     },
     "execution_count": 18,
     "metadata": {},
     "output_type": "execute_result"
    }
   ],
   "source": [
    "uniqueLinks.head()"
   ]
  },
  {
   "cell_type": "code",
   "execution_count": 19,
   "metadata": {},
   "outputs": [
    {
     "name": "stdout",
     "output_type": "stream",
     "text": [
      "[ 4360 11668 14841  5833] [-1.2 -0.8  1.8  3.8  4.8]\n",
      "0.11879461609721541\n",
      "0.3179118304179609\n",
      "0.4043648847474252\n",
      "0.1589286687373985\n"
     ]
    }
   ],
   "source": [
    "statuses = uniqueLinks.status\n",
    "count, bin_values = np.histogram(statuses, bins = [-1.2,-0.8,1.8,3.8,4.8])\n",
    "\n",
    "print(count, bin_values)\n",
    "total = float(count.sum())\n",
    "\n",
    "for j in range(4):\n",
    "    print(count[j]/total)"
   ]
  },
  {
   "cell_type": "code",
   "execution_count": 20,
   "metadata": {},
   "outputs": [
    {
     "data": {
      "text/plain": [
       "0.2777232848346139"
      ]
     },
     "execution_count": 20,
     "metadata": {},
     "output_type": "execute_result"
    }
   ],
   "source": [
    "(count[0]+count[-1])/total"
   ]
  },
  {
   "cell_type": "markdown",
   "metadata": {},
   "source": [
    "## Constructing a dataframe with only abstracts"
   ]
  },
  {
   "cell_type": "code",
   "execution_count": 21,
   "metadata": {},
   "outputs": [
    {
     "name": "stdout",
     "output_type": "stream",
     "text": [
      "<class 'pandas.core.frame.DataFrame'>\n",
      "Int64Index: 7183 entries, 22 to 48382\n",
      "Data columns (total 9 columns):\n",
      "type       7183 non-null object\n",
      "journal    7183 non-null object\n",
      "id         7182 non-null float64\n",
      "year       7183 non-null int64\n",
      "link       7183 non-null object\n",
      "code       7183 non-null int64\n",
      "newtest    4185 non-null object\n",
      "oldcode    4185 non-null float64\n",
      "status     7183 non-null int64\n",
      "dtypes: float64(2), int64(3), object(4)\n",
      "memory usage: 561.2+ KB\n"
     ]
    }
   ],
   "source": [
    "uniqueLinks_abs = uniqueLinks[ uniqueLinks.type == 'abstract' ]\n",
    "uniqueLinks_abs.info()"
   ]
  },
  {
   "cell_type": "markdown",
   "metadata": {},
   "source": [
    "## Number of entries per journal"
   ]
  },
  {
   "cell_type": "markdown",
   "metadata": {},
   "source": [
    "Next, let's evaluate the number of entries detected per journal."
   ]
  },
  {
   "cell_type": "code",
   "execution_count": 22,
   "metadata": {},
   "outputs": [
    {
     "data": {
      "image/png": "[encoded data removed]",
      "text/plain": [
       "<Figure size 432x288 with 1 Axes>"
      ]
     },
     "metadata": {
      "needs_background": "light"
     },
     "output_type": "display_data"
    },
    {
     "name": "stdout",
     "output_type": "stream",
     "text": [
      "Journal name \t\t Count\n",
      "Nat_Biotechnol\t\t 180\n",
      "Genome_Med\t\t 352\n",
      "Nat_Methods\t\t 403\n",
      "Genome_Biol\t\t 904\n",
      "BMC_Syst_Biol\t\t 912\n",
      "Bioinformatics\t\t 3131\n",
      "PLoS_Comput_Bio\t\t 3226\n",
      "BMC_Bioinformat\t\t 6840\n",
      "BMC_Genomics\t\t 7651\n",
      "Nucleic_Acids_R\t\t 13103\n"
     ]
    }
   ],
   "source": [
    "journals = np.array( uniqueLinks.journal )\n",
    "journalTitles = np.unique(journals)\n",
    "\n",
    "jhash = {}\n",
    "for jid,journal in enumerate(journalTitles):\n",
    "    jhash[journal] = jid\n",
    "listxs = np.arange(0,11,1)\n",
    "\n",
    "journals_num = [ jhash[journal] for journal in journals ]\n",
    "\n",
    "counts, bins = np.histogram( journals_num, bins=listxs )\n",
    "\n",
    "newIDX = np.argsort(counts)\n",
    "\n",
    "f, ax = pl.subplots(1, 1)\n",
    "ax.barh( bins[0:-1], counts[newIDX], 0.8, edgecolor=(0.2,0.2,0.2), lw=2, \n",
    "            color=(0.2,0.6,1.0) )\n",
    "\n",
    "ax.spines['bottom'].set_visible(False)\n",
    "ax.spines['right'].set_visible(False)\n",
    "ax.get_xaxis().tick_top()\n",
    "ax.get_yaxis().tick_left()\n",
    "\n",
    "ax.text( 5000, 11.3, 'Entries count', fontsize=12 )\n",
    "\n",
    "ax.set_yticks( listxs )\n",
    "ax.set_yticklabels( journalTitles[newIDX], rotation=0, fontsize=12 )\n",
    "\n",
    "pl.show()\n",
    "\n",
    "print('Journal name \\t\\t Count')\n",
    "for jid,journal in enumerate(journalTitles[newIDX]):\n",
    "    print('%s\\t\\t %d' %(journal[:15],counts[newIDX][jid]) )"
   ]
  },
  {
   "cell_type": "markdown",
   "metadata": {},
   "source": [
    "Let's also detect how many of them were usable (i.e. accessible or redirected)."
   ]
  },
  {
   "cell_type": "code",
   "execution_count": 23,
   "metadata": {},
   "outputs": [
    {
     "data": {
      "image/png": "[encoded data removed]",
      "text/plain": [
       "<Figure size 432x288 with 1 Axes>"
      ]
     },
     "metadata": {
      "needs_background": "light"
     },
     "output_type": "display_data"
    },
    {
     "name": "stdout",
     "output_type": "stream",
     "text": [
      "Journal name \t\t Count\n",
      "Nat_Biotechnol\t\t 149\n",
      "Genome_Med\t\t 312\n",
      "Nat_Methods\t\t 326\n",
      "BMC_Syst_Biol\t\t 638\n",
      "Genome_Biol\t\t 746\n",
      "Bioinformatics\t\t 2448\n",
      "PLoS_Comput_Bio\t\t 2529\n",
      "BMC_Bioinformat\t\t 4651\n",
      "BMC_Genomics\t\t 5699\n",
      "Nucleic_Acids_R\t\t 9011\n"
     ]
    }
   ],
   "source": [
    "usable_links = uniqueLinks[(uniqueLinks.status == 1) | (uniqueLinks.status == 3)]\n",
    "journals = np.array( usable_links.journal )\n",
    "journalTitles = np.unique(journals)\n",
    "\n",
    "jhash = {}\n",
    "for jid,journal in enumerate(journalTitles):\n",
    "    jhash[journal] = jid\n",
    "listxs = np.arange(0,11,1)\n",
    "\n",
    "journals_num = [ jhash[journal] for journal in journals ]\n",
    "\n",
    "counts, bins = np.histogram( journals_num, bins=listxs )\n",
    "\n",
    "newIDX = np.argsort(counts)\n",
    "\n",
    "f, ax = pl.subplots(1, 1)\n",
    "ax.barh( bins[0:-1], counts[newIDX], 0.8, edgecolor=(0.2,0.2,0.2), lw=2, \n",
    "            color=(0.2,0.6,1.0) )\n",
    "\n",
    "ax.spines['bottom'].set_visible(False)\n",
    "ax.spines['right'].set_visible(False)\n",
    "ax.get_xaxis().tick_top()\n",
    "ax.get_yaxis().tick_left()\n",
    "\n",
    "ax.text( 5000, 11.3, 'Entries count', fontsize=12 )\n",
    "\n",
    "ax.set_yticks( listxs )\n",
    "ax.set_yticklabels( journalTitles[newIDX], rotation=0, fontsize=12 )\n",
    "\n",
    "pl.show()\n",
    "\n",
    "print('Journal name \\t\\t Count')\n",
    "for jid,journal in enumerate(journalTitles[newIDX]):\n",
    "    print('%s\\t\\t %d' %(journal[:15],counts[newIDX][jid]) )"
   ]
  },
  {
   "cell_type": "markdown",
   "metadata": {},
   "source": [
    "## Number of entries per abstract"
   ]
  },
  {
   "cell_type": "markdown",
   "metadata": {},
   "source": [
    "Same for the number of abstracts"
   ]
  },
  {
   "cell_type": "code",
   "execution_count": 24,
   "metadata": {},
   "outputs": [
    {
     "data": {
      "image/png": "[encoded data removed]",
      "text/plain": [
       "<Figure size 432x288 with 1 Axes>"
      ]
     },
     "metadata": {
      "needs_background": "light"
     },
     "output_type": "display_data"
    },
    {
     "name": "stdout",
     "output_type": "stream",
     "text": [
      "Journal name \t\t Count\n",
      "Nat_Biotechnol\t\t 1\n",
      "Genome_Med\t\t 18\n",
      "Nat_Methods\t\t 20\n",
      "Genome_Biol\t\t 60\n",
      "BMC_Syst_Biol\t\t 104\n",
      "PLoS_Comput_Bio\t\t 259\n",
      "BMC_Genomics\t\t 386\n",
      "BMC_Bioinformat\t\t 1161\n",
      "Bioinformatics\t\t 1866\n",
      "Nucleic_Acids_R\t\t 3308\n"
     ]
    }
   ],
   "source": [
    "journals = np.array( uniqueLinks_abs.journal )\n",
    "journalTitles = np.unique(journals)\n",
    "\n",
    "jhash = {}\n",
    "for jid,journal in enumerate(journalTitles):\n",
    "    jhash[journal] = jid\n",
    "listxs = np.arange(0,11,1)\n",
    "\n",
    "journals_num = [ jhash[journal] for journal in journals ]\n",
    "\n",
    "counts, bins = np.histogram( journals_num, bins=listxs )\n",
    "\n",
    "newIDX = np.argsort(counts)\n",
    "\n",
    "f, ax = pl.subplots(1, 1)\n",
    "ax.barh( bins[0:-1], counts[newIDX], 0.8, edgecolor=(0.2,0.2,0.2), lw=2, \n",
    "            color=(0.2,0.6,1.0) )\n",
    "\n",
    "ax.spines['bottom'].set_visible(False)\n",
    "ax.spines['right'].set_visible(False)\n",
    "ax.get_xaxis().tick_top()\n",
    "ax.get_yaxis().tick_left()\n",
    "\n",
    "ax.text( 1200, 11.3, 'Entries count', fontsize=12 )\n",
    "\n",
    "ax.set_yticks( listxs )\n",
    "ax.set_yticklabels( journalTitles[newIDX], rotation=0, fontsize=12 )\n",
    "\n",
    "pl.show()\n",
    "\n",
    "print('Journal name \\t\\t Count')\n",
    "for jid,journal in enumerate(journalTitles[newIDX]):\n",
    "    print('%s\\t\\t %d' %(journal[:15],counts[newIDX][jid]) )"
   ]
  },
  {
   "cell_type": "markdown",
   "metadata": {},
   "source": [
    "## Number of of links per year"
   ]
  },
  {
   "cell_type": "code",
   "execution_count": 25,
   "metadata": {},
   "outputs": [],
   "source": [
    "uLinks_year = uniqueLinks.groupby(['year', 'status']).agg('count')"
   ]
  },
  {
   "cell_type": "code",
   "execution_count": 26,
   "metadata": {},
   "outputs": [
    {
     "data": {
      "text/html": [
       "<div>\n",
       "<style scoped>\n",
       "    .dataframe tbody tr th:only-of-type {\n",
       "        vertical-align: middle;\n",
       "    }\n",
       "\n",
       "    .dataframe tbody tr th {\n",
       "        vertical-align: top;\n",
       "    }\n",
       "\n",
       "    .dataframe thead th {\n",
       "        text-align: right;\n",
       "    }\n",
       "</style>\n",
       "<table border=\"1\" class=\"dataframe\">\n",
       "  <thead>\n",
       "    <tr style=\"text-align: right;\">\n",
       "      <th></th>\n",
       "      <th></th>\n",
       "      <th>type</th>\n",
       "      <th>journal</th>\n",
       "      <th>id</th>\n",
       "      <th>link</th>\n",
       "      <th>code</th>\n",
       "      <th>newtest</th>\n",
       "      <th>oldcode</th>\n",
       "    </tr>\n",
       "    <tr>\n",
       "      <th>year</th>\n",
       "      <th>status</th>\n",
       "      <th></th>\n",
       "      <th></th>\n",
       "      <th></th>\n",
       "      <th></th>\n",
       "      <th></th>\n",
       "      <th></th>\n",
       "      <th></th>\n",
       "    </tr>\n",
       "  </thead>\n",
       "  <tbody>\n",
       "    <tr>\n",
       "      <th rowspan=\"4\" valign=\"top\">2005</th>\n",
       "      <th>-1</th>\n",
       "      <td>421</td>\n",
       "      <td>421</td>\n",
       "      <td>419</td>\n",
       "      <td>421</td>\n",
       "      <td>421</td>\n",
       "      <td>421</td>\n",
       "      <td>421</td>\n",
       "    </tr>\n",
       "    <tr>\n",
       "      <th>1</th>\n",
       "      <td>349</td>\n",
       "      <td>349</td>\n",
       "      <td>348</td>\n",
       "      <td>349</td>\n",
       "      <td>349</td>\n",
       "      <td>31</td>\n",
       "      <td>31</td>\n",
       "    </tr>\n",
       "    <tr>\n",
       "      <th>3</th>\n",
       "      <td>367</td>\n",
       "      <td>367</td>\n",
       "      <td>366</td>\n",
       "      <td>367</td>\n",
       "      <td>367</td>\n",
       "      <td>367</td>\n",
       "      <td>367</td>\n",
       "    </tr>\n",
       "    <tr>\n",
       "      <th>4</th>\n",
       "      <td>428</td>\n",
       "      <td>428</td>\n",
       "      <td>414</td>\n",
       "      <td>428</td>\n",
       "      <td>428</td>\n",
       "      <td>194</td>\n",
       "      <td>194</td>\n",
       "    </tr>\n",
       "    <tr>\n",
       "      <th rowspan=\"4\" valign=\"top\">2006</th>\n",
       "      <th>-1</th>\n",
       "      <td>375</td>\n",
       "      <td>375</td>\n",
       "      <td>366</td>\n",
       "      <td>375</td>\n",
       "      <td>375</td>\n",
       "      <td>375</td>\n",
       "      <td>375</td>\n",
       "    </tr>\n",
       "    <tr>\n",
       "      <th>1</th>\n",
       "      <td>364</td>\n",
       "      <td>364</td>\n",
       "      <td>364</td>\n",
       "      <td>364</td>\n",
       "      <td>364</td>\n",
       "      <td>34</td>\n",
       "      <td>34</td>\n",
       "    </tr>\n",
       "    <tr>\n",
       "      <th>3</th>\n",
       "      <td>459</td>\n",
       "      <td>459</td>\n",
       "      <td>458</td>\n",
       "      <td>459</td>\n",
       "      <td>459</td>\n",
       "      <td>459</td>\n",
       "      <td>459</td>\n",
       "    </tr>\n",
       "    <tr>\n",
       "      <th>4</th>\n",
       "      <td>384</td>\n",
       "      <td>384</td>\n",
       "      <td>377</td>\n",
       "      <td>384</td>\n",
       "      <td>384</td>\n",
       "      <td>169</td>\n",
       "      <td>169</td>\n",
       "    </tr>\n",
       "    <tr>\n",
       "      <th rowspan=\"4\" valign=\"top\">2007</th>\n",
       "      <th>-1</th>\n",
       "      <td>360</td>\n",
       "      <td>360</td>\n",
       "      <td>358</td>\n",
       "      <td>360</td>\n",
       "      <td>360</td>\n",
       "      <td>360</td>\n",
       "      <td>360</td>\n",
       "    </tr>\n",
       "    <tr>\n",
       "      <th>1</th>\n",
       "      <td>387</td>\n",
       "      <td>387</td>\n",
       "      <td>382</td>\n",
       "      <td>387</td>\n",
       "      <td>387</td>\n",
       "      <td>49</td>\n",
       "      <td>49</td>\n",
       "    </tr>\n",
       "    <tr>\n",
       "      <th>3</th>\n",
       "      <td>489</td>\n",
       "      <td>489</td>\n",
       "      <td>475</td>\n",
       "      <td>489</td>\n",
       "      <td>489</td>\n",
       "      <td>489</td>\n",
       "      <td>489</td>\n",
       "    </tr>\n",
       "    <tr>\n",
       "      <th>4</th>\n",
       "      <td>405</td>\n",
       "      <td>405</td>\n",
       "      <td>404</td>\n",
       "      <td>405</td>\n",
       "      <td>405</td>\n",
       "      <td>177</td>\n",
       "      <td>177</td>\n",
       "    </tr>\n",
       "  </tbody>\n",
       "</table>\n",
       "</div>"
      ],
      "text/plain": [
       "             type  journal   id  link  code  newtest  oldcode\n",
       "year status                                                  \n",
       "2005 -1       421      421  419   421   421      421      421\n",
       "      1       349      349  348   349   349       31       31\n",
       "      3       367      367  366   367   367      367      367\n",
       "      4       428      428  414   428   428      194      194\n",
       "2006 -1       375      375  366   375   375      375      375\n",
       "      1       364      364  364   364   364       34       34\n",
       "      3       459      459  458   459   459      459      459\n",
       "      4       384      384  377   384   384      169      169\n",
       "2007 -1       360      360  358   360   360      360      360\n",
       "      1       387      387  382   387   387       49       49\n",
       "      3       489      489  475   489   489      489      489\n",
       "      4       405      405  404   405   405      177      177"
      ]
     },
     "execution_count": 26,
     "metadata": {},
     "output_type": "execute_result"
    }
   ],
   "source": [
    "uLinks_year.head(12)"
   ]
  },
  {
   "cell_type": "markdown",
   "metadata": {},
   "source": [
    "Grouping by status and retrieving the percent for each status per year."
   ]
  },
  {
   "cell_type": "code",
   "execution_count": 27,
   "metadata": {},
   "outputs": [],
   "source": [
    "tseries = {}\n",
    "for j,status in enumerate([-1, 1, 3, 4]):\n",
    "    tseries[status] = np.array( uLinks_year.iloc[j::4].link )"
   ]
  },
  {
   "cell_type": "markdown",
   "metadata": {},
   "source": [
    "Plotting"
   ]
  },
  {
   "cell_type": "code",
   "execution_count": 28,
   "metadata": {},
   "outputs": [
    {
     "data": {
      "image/png": "[encoded data removed]",
      "text/plain": [
       "<Figure size 288x158.4 with 1 Axes>"
      ]
     },
     "metadata": {
      "needs_background": "light"
     },
     "output_type": "display_data"
    }
   ],
   "source": [
    "barsize=0.75\n",
    "\n",
    "f, ax = pl.subplots(1, 1, figsize=(4,2.2) )\n",
    "\n",
    "b = np.zeros( tseries[status].shape[0] )\n",
    "years = np.arange(2005,2018,1)\n",
    "\n",
    "for zlabel,status in enumerate([4,-1,1,3]):\n",
    "    ax.bar( years, tseries[status] + b, barsize, label=legendStatus[status], \n",
    "               color=colors[status], zorder=-1-zlabel )\n",
    "    b += tseries[status]\n",
    "\n",
    "simpleaxis(ax)\n",
    "\n",
    "ax.set_ylabel(\"Number of links\")\n",
    "ax.set_yticks( np.arange(0,4001,1000) )\n",
    "ax.set_yticklabels( np.array( np.arange(0,4001,1000), dtype=int ), fontsize=8 )\n",
    "\n",
    "ax.set_xlabel(\"Year\")\n",
    "ax.set_xticks( np.arange( 2005,2020,3 ) )\n",
    "ax.set_xticklabels( np.arange( 2005,2020,3 ), fontsize=8 )\n",
    "\n",
    "pl.legend(bbox_to_anchor=(1,1.4), frameon=False, ncol=4, \n",
    "          handletextpad=0.2, columnspacing=0.8, handlelength=1)\n",
    "\n",
    "pl.tight_layout()\n",
    "pl.savefig('NumLinks per year - all.pdf')"
   ]
  },
  {
   "cell_type": "markdown",
   "metadata": {},
   "source": [
    "## Percent of links per year"
   ]
  },
  {
   "cell_type": "markdown",
   "metadata": {},
   "source": [
    "Normalizing the number of links for each year."
   ]
  },
  {
   "cell_type": "code",
   "execution_count": 29,
   "metadata": {},
   "outputs": [],
   "source": [
    "tseries_norm = np.zeros( tseries[-1].shape )\n",
    "for status in [-1, 1, 3, 4]:\n",
    "    tseries_norm += tseries[status]"
   ]
  },
  {
   "cell_type": "code",
   "execution_count": 30,
   "metadata": {},
   "outputs": [
    {
     "data": {
      "image/png": "[encoded data removed]",
      "text/plain": [
       "<Figure size 273.6x194.4 with 1 Axes>"
      ]
     },
     "metadata": {
      "needs_background": "light"
     },
     "output_type": "display_data"
    }
   ],
   "source": [
    "barsize=0.75\n",
    "\n",
    "f, ax = pl.subplots(1, 1, figsize=(3.8,2.7) )\n",
    "\n",
    "b = np.zeros( tseries[status].shape[0] )\n",
    "years = np.arange(2005,2018,1)\n",
    "\n",
    "for zlabel,status in enumerate([4,-1,1,3]):\n",
    "    ax.bar( years, ( tseries[status]/tseries_norm + b )*100., \n",
    "               barsize, label=legendStatus[status], \n",
    "               color=colors[status], zorder=-1-zlabel )\n",
    "    b += tseries[status]/tseries_norm\n",
    "\n",
    "simpleaxis(ax)\n",
    "\n",
    "ax.set_ylabel(\"Percent of links (%)\")\n",
    "ax.set_yticks( np.arange(0,101,25) )\n",
    "ax.set_yticklabels( np.array( np.arange(0,101,25), dtype=int ), fontsize=8 )\n",
    "\n",
    "ax.set_xlabel(\"Year\")\n",
    "ax.set_xlim(2004.3, 2017.7)\n",
    "ax.set_xticks( np.arange( 2005,2018,3 ) )\n",
    "ax.set_xticklabels( np.arange( 2005,2020,3 ), fontsize=8 )\n",
    "\n",
    "pl.legend(bbox_to_anchor=(1,1.4), frameon=False, ncol=4, \n",
    "          handletextpad=0.2, columnspacing=0.6, handlelength=1)\n",
    "\n",
    "pl.tight_layout()\n",
    "pl.savefig('1a.pdf',bbox_inches = \"tight\")"
   ]
  },
  {
   "cell_type": "markdown",
   "metadata": {},
   "source": [
    "## Number of links as function of time"
   ]
  },
  {
   "cell_type": "markdown",
   "metadata": {},
   "source": [
    "Counting total number per year"
   ]
  },
  {
   "cell_type": "markdown",
   "metadata": {},
   "source": [
    "Plotting:"
   ]
  },
  {
   "cell_type": "code",
   "execution_count": 31,
   "metadata": {},
   "outputs": [
    {
     "data": {
      "image/png": "[encoded data removed]",
      "text/plain": [
       "<Figure size 244.8x144 with 1 Axes>"
      ]
     },
     "metadata": {
      "needs_background": "light"
     },
     "output_type": "display_data"
    }
   ],
   "source": [
    "f, ax = pl.subplots( 1, 1, figsize=(3.4, 2.) )\n",
    "\n",
    "pl.plot( years, tseries[1] + tseries[3], 'o-', \n",
    "            markersize=7, label='Accessible + Redirected', color=colors2['fg_accessb'],\n",
    "            markeredgecolor=colors2['fg_accessb'], markerfacecolor=colors2['bg_accessb'] )\n",
    "pl.plot( years, tseries[-1] + tseries[4], 's-', \n",
    "            markersize=6, label='Broken + Time out', color=colors2['fg_unreach'],\n",
    "            markeredgecolor=colors2['fg_unreach'], markerfacecolor=colors2['bg_unreach'] )\n",
    "\n",
    "simpleaxis(ax)\n",
    "\n",
    "pl.ylabel('Number of links')\n",
    "pl.ylim(0,4050)\n",
    "\n",
    "pl.xlabel('Time (years)')\n",
    "pl.xlim(2004.5,2017.5)\n",
    "pl.xticks([2005,2010,2015])\n",
    "\n",
    "pl.legend(bbox_to_anchor=(0.9,1.5), frameon=False, handlelength=1.3)\n",
    "\n",
    "pl.savefig('1b.pdf',bbox_inches = \"tight\")"
   ]
  },
  {
   "cell_type": "markdown",
   "metadata": {},
   "source": [
    "Ratio between accessible links in 2017 in reference to that in 2005"
   ]
  },
  {
   "cell_type": "code",
   "execution_count": 32,
   "metadata": {},
   "outputs": [
    {
     "name": "stdout",
     "output_type": "stream",
     "text": [
      "Ratio: 4.07\n",
      "Average growth ratio: 25.6%\n"
     ]
    }
   ],
   "source": [
    "numAccessible = tseries[1] + tseries[3]\n",
    "\n",
    "ratio = numAccessible[-1] / numAccessible[0]\n",
    "print('Ratio: %.2f' % ratio)\n",
    "\n",
    "avgGrowthRatio = (numAccessible[-1] - numAccessible[0]) / (2017-2005) / numAccessible[0]\n",
    "print( 'Average growth ratio: %.1f%%' % (avgGrowthRatio*100) )"
   ]
  },
  {
   "cell_type": "markdown",
   "metadata": {},
   "source": [
    "Ratio between unreachable links in 2017 in reference to that in 2005"
   ]
  },
  {
   "cell_type": "code",
   "execution_count": 33,
   "metadata": {},
   "outputs": [
    {
     "name": "stdout",
     "output_type": "stream",
     "text": [
      "Ratio: 0.39\n",
      "Average growth ratio: -5.1%\n"
     ]
    }
   ],
   "source": [
    "numUnreachable = tseries[-1] + tseries[4]\n",
    "\n",
    "ratio = numUnreachable[-1] / numUnreachable[0]\n",
    "print('Ratio: %.2f' % ratio)\n",
    "\n",
    "\n",
    "avgGrowthRatio = (numUnreachable[-1] - numUnreachable[0]) / (2017-2005) / numUnreachable[0]\n",
    "print( 'Average growth ratio: %.1f%%' % (avgGrowthRatio*100) )"
   ]
  },
  {
   "cell_type": "markdown",
   "metadata": {},
   "source": [
    "# Parsing Github and SourceForge"
   ]
  },
  {
   "cell_type": "code",
   "execution_count": 34,
   "metadata": {},
   "outputs": [],
   "source": [
    "def count_status(statuses):\n",
    "    count, bin_values = np.histogram(statuses, bins = [-1.2,-0.8,1.8,3.8,4.8])\n",
    "\n",
    "    print(count, bin_values)\n",
    "    total = float(count.sum())\n",
    "\n",
    "    for j in range(4):\n",
    "        print(count[j]/total)"
   ]
  },
  {
   "cell_type": "code",
   "execution_count": 35,
   "metadata": {},
   "outputs": [
    {
     "name": "stdout",
     "output_type": "stream",
     "text": [
      "[   0    4 1737   43] [-1.2 -0.8  1.8  3.8  4.8]\n",
      "0.0\n",
      "0.002242152466367713\n",
      "0.9736547085201793\n",
      "0.024103139013452915\n",
      "[  5 318 605  64] [-1.2 -0.8  1.8  3.8  4.8]\n",
      "0.005040322580645161\n",
      "0.32056451612903225\n",
      "0.6098790322580645\n",
      "0.06451612903225806\n",
      "[ 4355 11346 12499  5726] [-1.2 -0.8  1.8  3.8  4.8]\n",
      "0.12836762365147675\n",
      "0.3344337676118611\n",
      "0.3684195012674645\n",
      "0.16877910746919766\n"
     ]
    }
   ],
   "source": [
    "find_github = lambda x: 'github.com' in x.link\n",
    "find_sourceforge = lambda x: ('sourceforge.net' in x.link) or ('.sf.net' in x.link)\n",
    "find_others = lambda x: ('github.com' not in x.link) and ('sourceforge.net' not in x.link) and ('.sf.net' not in x.link)\n",
    "\n",
    "# uniqLabs_github = uniqueLinks_abs[ uniqueLinks_abs.apply(find_github, axis=1) ]\n",
    "# uniqLabs_sourceforge = uniqueLinks_abs[ uniqueLinks_abs.apply(find_sourceforge, axis=1) ]\n",
    "# uniqLabs_others = uniqueLinks_abs[ uniqueLinks_abs.apply(find_others, axis=1) ]\n",
    "uniqLabs_github = uniqueLinks[ uniqueLinks.apply(find_github, axis=1) ]\n",
    "uniqLabs_sourceforge = uniqueLinks[ uniqueLinks.apply(find_sourceforge, axis=1) ]\n",
    "uniqLabs_others = uniqueLinks[ uniqueLinks.apply(find_others, axis=1) ]\n",
    "\n",
    "count_status(uniqLabs_github.status)\n",
    "count_status(uniqLabs_sourceforge.status)\n",
    "count_status(uniqLabs_others.status)"
   ]
  },
  {
   "cell_type": "code",
   "execution_count": 36,
   "metadata": {},
   "outputs": [
    {
     "name": "stdout",
     "output_type": "stream",
     "text": [
      "0.5475833911663602\n"
     ]
    }
   ],
   "source": [
    "import scipy.stats as statsrich\n",
    "oddsratio, pvalue = statsrich.fisher_exact([[(3+86),(138)], [(1050+2521), (2135+897)]])\n",
    "print(oddsratio)"
   ]
  },
  {
   "cell_type": "code",
   "execution_count": 37,
   "metadata": {},
   "outputs": [
    {
     "data": {
      "image/png": "[encoded data removed]",
      "text/plain": [
       "<Figure size 108x100.8 with 1 Axes>"
      ]
     },
     "metadata": {
      "needs_background": "light"
     },
     "output_type": "display_data"
    }
   ],
   "source": [
    "f, ax = pl.subplots( 1, 1, figsize=(1.5, 1.4) )\n",
    "\n",
    "# let's make sure the order is maintained:\n",
    "# DATA USING ONLY ABSTRACTS:\n",
    "# data_broken = np.array([0.13584734211721944, 0.02643171806167401, 0.024103139013452915])\n",
    "# data_timeout = np.array([0.15901862789641072, 0.013215859030837005, 0])\n",
    "# data_accessible = np.array([0.381796153263668, 0.3788546255506608, 0.0113314447592068])\n",
    "# data_redirected = np.array([0.3233378767227018, 0.5814977973568282, 0.9886685552407932])\n",
    "\n",
    "# all unique links:\n",
    "data_broken = np.array([0.16877910746919766, 0.06451612903225806, 0])\n",
    "data_timeout = np.array([0.12836762365147675, 0.005040322580645161, 0])\n",
    "data_accessible = np.array([0.3344337676118611, 0.32056451612903225, 0.002242152466367713])\n",
    "data_redirected = np.array([0.3684195012674645, 0.6098790322580645, 0.9736547085201793])\n",
    "\n",
    "pl.bar( [0,1,2], data_broken+data_timeout+data_accessible+data_redirected, 0.7, color=colors[3], lw=1.3, capsize=8 )\n",
    "pl.bar( [0,1,2], data_broken+data_timeout+data_accessible, 0.7, color=colors[1], lw=1.3, capsize=8 )\n",
    "pl.bar( [0,1,2], data_broken+data_timeout, 0.7, color=colors[-1], lw=1.3, capsize=8 )\n",
    "pl.bar( [0,1,2], data_broken, 0.7, color=colors[4], lw=1.3, capsize=8 )\n",
    "\n",
    "ax.set_ylim(0,1)\n",
    "ax.set_ylabel('Percent of Links')\n",
    "\n",
    "ax.set_xlabel('')\n",
    "ax.set_xlim(-0.5,2.5)\n",
    "ax.set_xticks([0,1,2])\n",
    "ax.set_xticklabels( ['Others','Source\\nForge','GitHub'], \n",
    "                       rotation=-25, fontsize=9)\n",
    "\n",
    "simpleaxis(ax)\n",
    "\n",
    "pl.savefig('Percent - github sourceforge.pdf')"
   ]
  },
  {
   "cell_type": "code",
   "execution_count": 38,
   "metadata": {},
   "outputs": [
    {
     "data": {
      "image/png": "[encoded data removed]",
      "text/plain": [
       "<Figure size 144x115.2 with 1 Axes>"
      ]
     },
     "metadata": {
      "needs_background": "light"
     },
     "output_type": "display_data"
    }
   ],
   "source": [
    "f, ax = pl.subplots(1, 1, figsize=(2.,1.6))\n",
    "\n",
    "data_broken = np.array([0.13584734211721944, 0.013215859030837005,0])*100\n",
    "data_timeout = np.array([0.17623941958887546, 0.004672897196261682, 0.0084985835694051])*100\n",
    "\n",
    "data_unreachable = data_broken + data_timeout\n",
    "\n",
    "ax.barh( [0,1,2], data_unreachable, 0.6, edgecolor=(1.0,0.0,0.0), lw=0.1, color=(1.0,0.0,0.0) )\n",
    "\n",
    "ax.spines['top'].set_visible(False)\n",
    "ax.spines['right'].set_visible(False)\n",
    "ax.get_xaxis().tick_bottom()\n",
    "ax.get_yaxis().tick_left()\n",
    "\n",
    "ax.text( -0.05, -1.5, 'Unreachable links (%)', fontsize=12 )\n",
    "\n",
    "ax.set_xticks( [0, 10, 20, 30] )\n",
    "ax.set_yticks( [0, 1, 2] )\n",
    "ax.set_yticklabels( ['Others', 'Source\\nForge', 'GitHub'], rotation=0, fontsize=11 )\n",
    "\n",
    "pl.savefig('1h.pdf',bbox_inches = \"tight\")"
   ]
  },
  {
   "cell_type": "code",
   "execution_count": 39,
   "metadata": {},
   "outputs": [
    {
     "name": "stdout",
     "output_type": "stream",
     "text": [
      "norm\n",
      "year\n",
      "2005    1565\n",
      "2006    1582\n",
      "2007    1641\n",
      "2008    2079\n",
      "2009    2835\n",
      "2010    2954\n",
      "2011    2783\n",
      "2012    2962\n",
      "2013    3232\n",
      "2014    4108\n",
      "2015    3844\n",
      "2016    3875\n",
      "2017    3242\n",
      "Name: type, dtype: int64\n",
      "github\n",
      "year\n",
      "2009     0.070547\n",
      "2010     0.507786\n",
      "2011     0.682716\n",
      "2012     1.553005\n",
      "2013     2.753713\n",
      "2014     5.209348\n",
      "2015     9.469303\n",
      "2016    13.006452\n",
      "Name: type, dtype: float64\n",
      "sf\n",
      "year\n",
      "2005    1.022364\n",
      "2006    2.085967\n",
      "2007    2.071907\n",
      "2008    2.308802\n",
      "2009    2.574956\n",
      "2010    3.588355\n",
      "2011    3.377650\n",
      "2012    4.287643\n",
      "2013    2.629950\n",
      "2014    3.042843\n",
      "2015    2.523413\n",
      "2016    2.606452\n",
      "2017    1.634793\n",
      "Name: type, dtype: float64\n"
     ]
    },
    {
     "data": {
      "image/png": "[encoded data removed]",
      "text/plain": [
       "<Figure size 172.8x144 with 1 Axes>"
      ]
     },
     "metadata": {
      "needs_background": "light"
     },
     "output_type": "display_data"
    }
   ],
   "source": [
    "tseries_norm = uniqueLinks.groupby(['year']).agg('count').type\n",
    "tseries_GH = uniqLabs_github.groupby(['year']).agg('count').type[:-1]/tseries_norm[4:-1]*100\n",
    "years_gh = range(2009,2017)\n",
    "tseries_SF = uniqLabs_sourceforge.groupby(['year']).agg('count').type/tseries_norm[:]*100\n",
    "years_sf = range(2005,2018)\n",
    "\n",
    "print(\"norm\")\n",
    "print(tseries_norm)\n",
    "print(\"github\")\n",
    "print(tseries_GH)\n",
    "print(\"sf\")\n",
    "print(tseries_SF)\n",
    "\n",
    "f, ax = pl.subplots( 1, 1, figsize=(2.4, 2.) )\n",
    "\n",
    "\n",
    "gh_color=(0.0,0.0,0.5)\n",
    "gh_incolor=(0.3,0.8,1.0)\n",
    "pl.plot( years_gh, tseries_GH, 's-', zorder=2,\n",
    "            markersize=5, label='GitHub', color=gh_color,\n",
    "            markeredgecolor=gh_color, markerfacecolor=gh_incolor )\n",
    "\n",
    "sf_color=(0.8,0.0,0.0)\n",
    "sf_incolor=(1.0,0.8,0.8)\n",
    "pl.plot( years_sf, tseries_SF, 'o-', zorder=1,\n",
    "            markersize=5, label='SourceForge', color=sf_color,\n",
    "            markeredgecolor=sf_color, markerfacecolor=sf_incolor )\n",
    "\n",
    "simpleaxis(ax)\n",
    "\n",
    "pl.ylabel('Percent of links')\n",
    "pl.ylim(0,22)\n",
    "ax.set_xticks([2005, 2010, 2015])\n",
    "\n",
    "pl.xlabel('Year')\n",
    "pl.xlim(2004.5,2016.5)\n",
    "\n",
    "pl.legend(bbox_to_anchor=(0.85,1.), frameon=False, handlelength=1.3, fontsize=10)\n",
    "\n",
    "pl.savefig('1g.pdf',bbox_inches = \"tight\")"
   ]
  },
  {
   "cell_type": "markdown",
   "metadata": {},
   "source": [
    "## Number of links per year - abstract only"
   ]
  },
  {
   "cell_type": "code",
   "execution_count": 40,
   "metadata": {},
   "outputs": [],
   "source": [
    "uLinks_ya = uniqueLinks_abs.groupby(['year', 'status']).agg('count')\n",
    "\n",
    "tseries_abs = {}\n",
    "for j,status in enumerate([-1, 1, 3, 4]):\n",
    "    tseries_abs[status] = np.array( uLinks_ya.iloc[j::4].link )"
   ]
  },
  {
   "cell_type": "code",
   "execution_count": 41,
   "metadata": {},
   "outputs": [
    {
     "data": {
      "image/png": "[encoded data removed]",
      "text/plain": [
       "<Figure size 288x158.4 with 1 Axes>"
      ]
     },
     "metadata": {
      "needs_background": "light"
     },
     "output_type": "display_data"
    }
   ],
   "source": [
    "barsize=0.75\n",
    "\n",
    "f, ax = pl.subplots(1, 1, figsize=(4,2.2) )\n",
    "\n",
    "b = np.zeros( tseries_abs[status].shape[0] )\n",
    "years = np.arange(2005,2018,1)\n",
    "\n",
    "for zlabel,status in enumerate([4,-1,1,3]):\n",
    "    ax.bar( years, tseries_abs[status] + b, barsize, label=legendStatus[status], \n",
    "               color=colors[status], zorder=-1-zlabel )\n",
    "    b += tseries_abs[status]\n",
    "\n",
    "simpleaxis(ax)\n",
    "\n",
    "ax.set_ylabel(\"Number of links\")\n",
    "#ax.set_yticks( np.arange(0,2001,500) )\n",
    "#ax.set_yticklabels( np.array( np.arange(0,2001,500), dtype=int ), fontsize=8 )\n",
    "\n",
    "ax.set_xlabel(\"Year\")\n",
    "ax.set_xticks( np.arange( 2005,2020,3 ) )\n",
    "ax.set_xticklabels( np.arange( 2005,2020,3 ), fontsize=8 )\n",
    "\n",
    "pl.legend(bbox_to_anchor=(1,1.4), frameon=False, ncol=4, \n",
    "          handletextpad=0.2, columnspacing=0.8, handlelength=1)\n",
    "\n",
    "pl.tight_layout()\n",
    "pl.savefig('NumLinks per year - Abstract.pdf')"
   ]
  },
  {
   "cell_type": "code",
   "execution_count": 42,
   "metadata": {},
   "outputs": [],
   "source": [
    "tseries_norm = np.zeros( tseries_abs[-1].shape )\n",
    "for status in [-1, 1, 3, 4]:\n",
    "    tseries_norm += tseries_abs[status]"
   ]
  },
  {
   "cell_type": "code",
   "execution_count": 43,
   "metadata": {},
   "outputs": [
    {
     "data": {
      "image/png": "[encoded data removed]",
      "text/plain": [
       "<Figure size 288x158.4 with 1 Axes>"
      ]
     },
     "metadata": {
      "needs_background": "light"
     },
     "output_type": "display_data"
    }
   ],
   "source": [
    "barsize=0.75\n",
    "\n",
    "f, ax = pl.subplots(1, 1, figsize=(4,2.2) )\n",
    "\n",
    "b = np.zeros( tseries_abs[status].shape[0] )\n",
    "years = np.arange(2005,2018,1)\n",
    "\n",
    "for zlabel,status in enumerate([4,-1,1,3]):\n",
    "    ax.bar( years, 100*(tseries_abs[status] + b)/tseries_norm, barsize, \n",
    "               label=legendStatus[status], \n",
    "               color=colors[status], zorder=-1-zlabel )\n",
    "    b += tseries_abs[status]\n",
    "\n",
    "simpleaxis(ax)\n",
    "\n",
    "ax.set_ylabel(\"Percent of links (%)\")\n",
    "ax.set_yticks( np.arange(0,101,25) )\n",
    "ax.set_yticklabels( np.array( np.arange(0,101,25), dtype=int ), fontsize=8 )\n",
    "\n",
    "ax.set_xlabel(\"Year\")\n",
    "ax.set_xticks( np.arange( 2005,2020,3 ) )\n",
    "ax.set_xticklabels( np.arange( 2005,2020,3 ), fontsize=8 )\n",
    "\n",
    "pl.legend(bbox_to_anchor=(1,1.4), frameon=False, ncol=4, \n",
    "          handletextpad=0.2, columnspacing=0.8, handlelength=1)\n",
    "\n",
    "pl.tight_layout()\n",
    "pl.savefig('Percent per year - Abstract.pdf')"
   ]
  },
  {
   "cell_type": "markdown",
   "metadata": {},
   "source": [
    "## Status vs IF of current journal "
   ]
  },
  {
   "cell_type": "markdown",
   "metadata": {},
   "source": [
    "List of journals considered in this study:"
   ]
  },
  {
   "cell_type": "code",
   "execution_count": 44,
   "metadata": {},
   "outputs": [
    {
     "name": "stdout",
     "output_type": "stream",
     "text": [
      "['Nucleic_Acids_Res' 'BMC_Bioinformatics' 'PLoS_Comput_Biol'\n",
      " 'BMC_Genomics' 'Bioinformatics' 'Nat_Methods' 'Genome_Biol'\n",
      " 'BMC_Syst_Biol' 'Nat_Biotechnol' 'Genome_Med']\n"
     ]
    }
   ],
   "source": [
    "journals = uniqueLinks.journal.unique()\n",
    "print( journals )"
   ]
  },
  {
   "cell_type": "markdown",
   "metadata": {},
   "source": [
    "Impact factors were retrieved from this address: http://admin-apps.webofknowledge.com/JCR/JCR?RQ=HOME"
   ]
  },
  {
   "cell_type": "code",
   "execution_count": 45,
   "metadata": {},
   "outputs": [
    {
     "data": {
      "text/html": [
       "<div>\n",
       "<style scoped>\n",
       "    .dataframe tbody tr th:only-of-type {\n",
       "        vertical-align: middle;\n",
       "    }\n",
       "\n",
       "    .dataframe tbody tr th {\n",
       "        vertical-align: top;\n",
       "    }\n",
       "\n",
       "    .dataframe thead th {\n",
       "        text-align: right;\n",
       "    }\n",
       "</style>\n",
       "<table border=\"1\" class=\"dataframe\">\n",
       "  <thead>\n",
       "    <tr style=\"text-align: right;\">\n",
       "      <th></th>\n",
       "      <th>year</th>\n",
       "      <th>BMC_Genomics</th>\n",
       "      <th>Nucleic_Acids_Res</th>\n",
       "      <th>Bioinformatics</th>\n",
       "      <th>BMC_Bioinformatics</th>\n",
       "      <th>PLoS_Comput_Biol</th>\n",
       "      <th>Genome_Biol</th>\n",
       "      <th>BMC_Syst_Biol</th>\n",
       "      <th>Nat_Biotechnol</th>\n",
       "      <th>Nat_Methods</th>\n",
       "      <th>Genome_Med</th>\n",
       "    </tr>\n",
       "  </thead>\n",
       "  <tbody>\n",
       "    <tr>\n",
       "      <th>0</th>\n",
       "      <td>2016</td>\n",
       "      <td>3.729</td>\n",
       "      <td>10.162</td>\n",
       "      <td>7.307</td>\n",
       "      <td>2.448</td>\n",
       "      <td>4.542</td>\n",
       "      <td>11.908</td>\n",
       "      <td>2.303</td>\n",
       "      <td>41.667</td>\n",
       "      <td>25.062</td>\n",
       "      <td>7.071</td>\n",
       "    </tr>\n",
       "    <tr>\n",
       "      <th>1</th>\n",
       "      <td>2015</td>\n",
       "      <td>3.867</td>\n",
       "      <td>9.202</td>\n",
       "      <td>5.766</td>\n",
       "      <td>2.435</td>\n",
       "      <td>4.587</td>\n",
       "      <td>11.313</td>\n",
       "      <td>2.208</td>\n",
       "      <td>43.113</td>\n",
       "      <td>25.328</td>\n",
       "      <td>5.846</td>\n",
       "    </tr>\n",
       "    <tr>\n",
       "      <th>2</th>\n",
       "      <td>2014</td>\n",
       "      <td>3.986</td>\n",
       "      <td>9.112</td>\n",
       "      <td>4.981</td>\n",
       "      <td>2.576</td>\n",
       "      <td>4.620</td>\n",
       "      <td>10.810</td>\n",
       "      <td>2.435</td>\n",
       "      <td>41.514</td>\n",
       "      <td>32.072</td>\n",
       "      <td>5.809</td>\n",
       "    </tr>\n",
       "    <tr>\n",
       "      <th>3</th>\n",
       "      <td>2013</td>\n",
       "      <td>4.041</td>\n",
       "      <td>8.808</td>\n",
       "      <td>4.621</td>\n",
       "      <td>2.672</td>\n",
       "      <td>4.829</td>\n",
       "      <td>10.465</td>\n",
       "      <td>2.853</td>\n",
       "      <td>39.080</td>\n",
       "      <td>25.953</td>\n",
       "      <td>4.942</td>\n",
       "    </tr>\n",
       "    <tr>\n",
       "      <th>4</th>\n",
       "      <td>2012</td>\n",
       "      <td>4.397</td>\n",
       "      <td>8.278</td>\n",
       "      <td>5.323</td>\n",
       "      <td>3.024</td>\n",
       "      <td>4.867</td>\n",
       "      <td>10.288</td>\n",
       "      <td>2.982</td>\n",
       "      <td>32.438</td>\n",
       "      <td>23.565</td>\n",
       "      <td>3.906</td>\n",
       "    </tr>\n",
       "    <tr>\n",
       "      <th>5</th>\n",
       "      <td>2011</td>\n",
       "      <td>4.073</td>\n",
       "      <td>8.026</td>\n",
       "      <td>5.468</td>\n",
       "      <td>2.751</td>\n",
       "      <td>5.215</td>\n",
       "      <td>9.036</td>\n",
       "      <td>3.148</td>\n",
       "      <td>23.268</td>\n",
       "      <td>19.276</td>\n",
       "      <td>0.000</td>\n",
       "    </tr>\n",
       "    <tr>\n",
       "      <th>6</th>\n",
       "      <td>2010</td>\n",
       "      <td>4.206</td>\n",
       "      <td>7.836</td>\n",
       "      <td>4.877</td>\n",
       "      <td>3.029</td>\n",
       "      <td>5.515</td>\n",
       "      <td>6.885</td>\n",
       "      <td>3.565</td>\n",
       "      <td>31.090</td>\n",
       "      <td>20.721</td>\n",
       "      <td>0.000</td>\n",
       "    </tr>\n",
       "    <tr>\n",
       "      <th>7</th>\n",
       "      <td>2009</td>\n",
       "      <td>3.759</td>\n",
       "      <td>7.479</td>\n",
       "      <td>4.926</td>\n",
       "      <td>3.428</td>\n",
       "      <td>5.759</td>\n",
       "      <td>6.626</td>\n",
       "      <td>4.064</td>\n",
       "      <td>29.495</td>\n",
       "      <td>16.874</td>\n",
       "      <td>0.000</td>\n",
       "    </tr>\n",
       "    <tr>\n",
       "      <th>8</th>\n",
       "      <td>2008</td>\n",
       "      <td>3.926</td>\n",
       "      <td>6.878</td>\n",
       "      <td>4.328</td>\n",
       "      <td>3.781</td>\n",
       "      <td>5.895</td>\n",
       "      <td>6.153</td>\n",
       "      <td>3.706</td>\n",
       "      <td>22.297</td>\n",
       "      <td>13.651</td>\n",
       "      <td>0.000</td>\n",
       "    </tr>\n",
       "    <tr>\n",
       "      <th>9</th>\n",
       "      <td>2007</td>\n",
       "      <td>4.180</td>\n",
       "      <td>6.954</td>\n",
       "      <td>5.039</td>\n",
       "      <td>3.493</td>\n",
       "      <td>6.236</td>\n",
       "      <td>6.589</td>\n",
       "      <td>0.000</td>\n",
       "      <td>22.848</td>\n",
       "      <td>15.478</td>\n",
       "      <td>0.000</td>\n",
       "    </tr>\n",
       "    <tr>\n",
       "      <th>10</th>\n",
       "      <td>2006</td>\n",
       "      <td>4.029</td>\n",
       "      <td>6.317</td>\n",
       "      <td>4.894</td>\n",
       "      <td>3.617</td>\n",
       "      <td>4.914</td>\n",
       "      <td>7.172</td>\n",
       "      <td>0.000</td>\n",
       "      <td>22.672</td>\n",
       "      <td>14.959</td>\n",
       "      <td>0.000</td>\n",
       "    </tr>\n",
       "    <tr>\n",
       "      <th>11</th>\n",
       "      <td>2005</td>\n",
       "      <td>4.092</td>\n",
       "      <td>7.552</td>\n",
       "      <td>6.019</td>\n",
       "      <td>4.958</td>\n",
       "      <td>0.000</td>\n",
       "      <td>9.712</td>\n",
       "      <td>0.000</td>\n",
       "      <td>22.738</td>\n",
       "      <td>6.741</td>\n",
       "      <td>0.000</td>\n",
       "    </tr>\n",
       "    <tr>\n",
       "      <th>12</th>\n",
       "      <td>2004</td>\n",
       "      <td>3.250</td>\n",
       "      <td>7.260</td>\n",
       "      <td>5.742</td>\n",
       "      <td>5.423</td>\n",
       "      <td>0.000</td>\n",
       "      <td>0.000</td>\n",
       "      <td>0.000</td>\n",
       "      <td>22.355</td>\n",
       "      <td>0.000</td>\n",
       "      <td>0.000</td>\n",
       "    </tr>\n",
       "    <tr>\n",
       "      <th>13</th>\n",
       "      <td>2003</td>\n",
       "      <td>0.000</td>\n",
       "      <td>6.575</td>\n",
       "      <td>6.701</td>\n",
       "      <td>0.000</td>\n",
       "      <td>0.000</td>\n",
       "      <td>0.000</td>\n",
       "      <td>0.000</td>\n",
       "      <td>17.721</td>\n",
       "      <td>0.000</td>\n",
       "      <td>0.000</td>\n",
       "    </tr>\n",
       "  </tbody>\n",
       "</table>\n",
       "</div>"
      ],
      "text/plain": [
       "    year  BMC_Genomics  Nucleic_Acids_Res  Bioinformatics  BMC_Bioinformatics  \\\n",
       "0   2016         3.729             10.162           7.307               2.448   \n",
       "1   2015         3.867              9.202           5.766               2.435   \n",
       "2   2014         3.986              9.112           4.981               2.576   \n",
       "3   2013         4.041              8.808           4.621               2.672   \n",
       "4   2012         4.397              8.278           5.323               3.024   \n",
       "5   2011         4.073              8.026           5.468               2.751   \n",
       "6   2010         4.206              7.836           4.877               3.029   \n",
       "7   2009         3.759              7.479           4.926               3.428   \n",
       "8   2008         3.926              6.878           4.328               3.781   \n",
       "9   2007         4.180              6.954           5.039               3.493   \n",
       "10  2006         4.029              6.317           4.894               3.617   \n",
       "11  2005         4.092              7.552           6.019               4.958   \n",
       "12  2004         3.250              7.260           5.742               5.423   \n",
       "13  2003         0.000              6.575           6.701               0.000   \n",
       "\n",
       "    PLoS_Comput_Biol  Genome_Biol  BMC_Syst_Biol  Nat_Biotechnol  Nat_Methods  \\\n",
       "0              4.542       11.908          2.303          41.667       25.062   \n",
       "1              4.587       11.313          2.208          43.113       25.328   \n",
       "2              4.620       10.810          2.435          41.514       32.072   \n",
       "3              4.829       10.465          2.853          39.080       25.953   \n",
       "4              4.867       10.288          2.982          32.438       23.565   \n",
       "5              5.215        9.036          3.148          23.268       19.276   \n",
       "6              5.515        6.885          3.565          31.090       20.721   \n",
       "7              5.759        6.626          4.064          29.495       16.874   \n",
       "8              5.895        6.153          3.706          22.297       13.651   \n",
       "9              6.236        6.589          0.000          22.848       15.478   \n",
       "10             4.914        7.172          0.000          22.672       14.959   \n",
       "11             0.000        9.712          0.000          22.738        6.741   \n",
       "12             0.000        0.000          0.000          22.355        0.000   \n",
       "13             0.000        0.000          0.000          17.721        0.000   \n",
       "\n",
       "    Genome_Med  \n",
       "0        7.071  \n",
       "1        5.846  \n",
       "2        5.809  \n",
       "3        4.942  \n",
       "4        3.906  \n",
       "5        0.000  \n",
       "6        0.000  \n",
       "7        0.000  \n",
       "8        0.000  \n",
       "9        0.000  \n",
       "10       0.000  \n",
       "11       0.000  \n",
       "12       0.000  \n",
       "13       0.000  "
      ]
     },
     "execution_count": 45,
     "metadata": {},
     "output_type": "execute_result"
    }
   ],
   "source": [
    "IFdata = pd.read_csv('impact_factors_timeseries.csv')\n",
    "IFdata = IFdata.fillna(0)\n",
    "IFdata"
   ]
  },
  {
   "cell_type": "code",
   "execution_count": 46,
   "metadata": {},
   "outputs": [],
   "source": [
    "count = {}\n",
    "Z = np.zeros( (10) )\n",
    "for status in [1,3,-1,4]:\n",
    "    count[status] = np.zeros( (10) )\n",
    "\n",
    "def journalID(journalName): \n",
    "    if journalName in journals:\n",
    "        return np.argwhere(journals == journalName)[0][0]\n",
    "    else: return -1\n",
    "\n",
    "for index, row in uniqueLinks.iterrows():\n",
    "    jid = journalID(row.journal)\n",
    "    if jid != -1:\n",
    "        count[row['status']][ jid ] += 1\n",
    "        Z[ jid ] += 1\n",
    "    \n",
    "\n",
    "# Normalizing\n",
    "for status in [1,3,-1,4]:\n",
    "    count[status] /= Z"
   ]
  },
  {
   "cell_type": "code",
   "execution_count": 47,
   "metadata": {},
   "outputs": [],
   "source": [
    "IFs = np.array( IFdata.iloc[0] )[1:]\n",
    "newIDX = np.argsort( IFs )\n",
    "IFs = IFs[newIDX]"
   ]
  },
  {
   "cell_type": "code",
   "execution_count": 48,
   "metadata": {},
   "outputs": [
    {
     "data": {
      "image/png": "[encoded data removed]",
      "text/plain": [
       "<Figure size 259.2x144 with 1 Axes>"
      ]
     },
     "metadata": {
      "needs_background": "light"
     },
     "output_type": "display_data"
    }
   ],
   "source": [
    "barsize=0.7\n",
    "\n",
    "f, ax = pl.subplots(1, 1, figsize=(3.6,2.0) )\n",
    "\n",
    "IFs_x = np.arange(10)\n",
    "\n",
    "ax.bar( IFs_x, count[4][newIDX], barsize, label='Broken', \n",
    "           color=colors[4], zorder=-1 )\n",
    "b = np.copy( count[4][newIDX] )\n",
    "\n",
    "ax.bar( IFs_x, b+count[-1][newIDX], barsize, label='Time out', \n",
    "           color=colors[-1], zorder=-2 )\n",
    "b += count[-1][newIDX]\n",
    "\n",
    "ax.bar( IFs_x, b+count[1][newIDX], barsize, label='Good', \n",
    "           color=colors[1], zorder=-3 )\n",
    "b += count[1][newIDX]\n",
    "\n",
    "ax.bar( IFs_x, b+count[3][newIDX], barsize, label='Redirect',\n",
    "           color=colors[3], zorder=-4 )\n",
    "\n",
    "simpleaxis(ax)\n",
    "\n",
    "ax.set_ylabel(\"Percent  (%)\")\n",
    "ax.set_yticks( np.arange(0,1.1,0.25) )\n",
    "ax.set_yticklabels( np.array( np.arange(0,1.1,0.25)*100, dtype=int ), fontsize=8 )\n",
    "\n",
    "ax.set_xlabel(\"Current Impact Factor\")\n",
    "ax.set_xticks( IFs_x )\n",
    "ax.set_xticklabels( ['2.3','2.5','3.7','4.5','7.1','7.3','10','12','25','41'], \n",
    "                       fontsize=8,  )\n",
    "\n",
    "pl.tight_layout()\n",
    "pl.savefig('Percent per IF.pdf')"
   ]
  },
  {
   "cell_type": "markdown",
   "metadata": {},
   "source": [
    "## Status vs IF - abstracts only"
   ]
  },
  {
   "cell_type": "markdown",
   "metadata": {},
   "source": [
    "List of journals considered in this study:"
   ]
  },
  {
   "cell_type": "code",
   "execution_count": 49,
   "metadata": {},
   "outputs": [
    {
     "name": "stdout",
     "output_type": "stream",
     "text": [
      "['Bioinformatics' 'BMC_Bioinformatics' 'Nucleic_Acids_Res' 'BMC_Genomics'\n",
      " 'BMC_Syst_Biol' 'PLoS_Comput_Biol' 'Genome_Med' 'Genome_Biol'\n",
      " 'Nat_Methods' 'Nat_Biotechnol']\n"
     ]
    }
   ],
   "source": [
    "journals = uniqueLinks_abs.journal.unique()\n",
    "print( journals )"
   ]
  },
  {
   "cell_type": "markdown",
   "metadata": {},
   "source": [
    "Impact factors were retrieved from this address: http://admin-apps.webofknowledge.com/JCR/JCR?RQ=HOME"
   ]
  },
  {
   "cell_type": "code",
   "execution_count": 50,
   "metadata": {},
   "outputs": [],
   "source": [
    "count = {}\n",
    "Z = np.zeros( (10) )\n",
    "for status in [1,3,-1,4]:\n",
    "    count[status] = np.zeros( (10) )\n",
    "\n",
    "def journalID(journalName): \n",
    "    if journalName in journals:\n",
    "        return np.argwhere(journals == journalName)[0][0]\n",
    "    else: return -1\n",
    "\n",
    "for index, row in uniqueLinks_abs.iterrows():\n",
    "    jid = journalID(row.journal)\n",
    "    if jid != -1:\n",
    "        count[row['status']][ jid ] += 1\n",
    "        Z[ jid ] += 1\n",
    "    \n",
    "\n",
    "# Normalizing\n",
    "for status in [1,3,-1,4]:\n",
    "    count[status] /= Z"
   ]
  },
  {
   "cell_type": "code",
   "execution_count": 51,
   "metadata": {},
   "outputs": [],
   "source": [
    "IFs = np.array( IFdata.iloc[0] )[1:]\n",
    "newIDX = np.argsort( IFs )\n",
    "IFs = IFs[newIDX]"
   ]
  },
  {
   "cell_type": "code",
   "execution_count": 52,
   "metadata": {},
   "outputs": [
    {
     "data": {
      "image/png": "[encoded data removed]",
      "text/plain": [
       "<Figure size 252x158.4 with 1 Axes>"
      ]
     },
     "metadata": {
      "needs_background": "light"
     },
     "output_type": "display_data"
    }
   ],
   "source": [
    "barsize=0.7\n",
    "\n",
    "f, ax = pl.subplots(1, 1, figsize=(3.5,2.2) )\n",
    "\n",
    "IFs_x = np.arange(10)\n",
    "\n",
    "ax.bar( IFs_x, count[4][newIDX], barsize, label='Broken', \n",
    "           color=colors[4], zorder=-1 )\n",
    "b = np.copy( count[4][newIDX] )\n",
    "\n",
    "ax.bar( IFs_x, b+count[-1][newIDX], barsize, label='Time out', \n",
    "           color=colors[-1], zorder=-2 )\n",
    "b += count[-1][newIDX]\n",
    "\n",
    "ax.bar( IFs_x, b+count[1][newIDX], barsize, label='Good', \n",
    "           color=colors[1], zorder=-3 )\n",
    "b += count[1][newIDX]\n",
    "\n",
    "ax.bar( IFs_x, b+count[3][newIDX], barsize, label='Redirect',\n",
    "           color=colors[3], zorder=-4 )\n",
    "\n",
    "simpleaxis(ax)\n",
    "\n",
    "ax.set_ylabel(\"Percent  (%)\")\n",
    "ax.set_yticks( np.arange(0,1.1,0.25) )\n",
    "ax.set_yticklabels( np.array( np.arange(0,1.1,0.25)*100, dtype=int ), fontsize=8 )\n",
    "\n",
    "ax.set_xlabel(\"Current Impact Factor\")\n",
    "ax.set_xticks( IFs_x )\n",
    "ax.set_xticklabels( ['2.3','2.5','3.7','4.5','7.1','7.3','10','12','25','41'], \n",
    "                       fontsize=8,  )\n",
    "\n",
    "pl.tight_layout()\n",
    "pl.savefig('Percent per IF - abstracts.pdf')\n"
   ]
  },
  {
   "cell_type": "markdown",
   "metadata": {},
   "source": [
    "## Status vs IF at the time of publication"
   ]
  },
  {
   "cell_type": "code",
   "execution_count": 53,
   "metadata": {},
   "outputs": [],
   "source": [
    "IFpub = {}\n",
    "for status in  [1,3,-1,4]:\n",
    "    IFpub[status] = []\n",
    "\n",
    "for index, row in uniqueLinks.iterrows():\n",
    "    year = row.year\n",
    "    if ( year >= 2003 ) and ( year <= 2017 ) :\n",
    "        \n",
    "        # there's no IF for 2017 yet\n",
    "        if year == 2017: year = 2016\n",
    "            \n",
    "        yearIDX = -(year - 2003) + 13\n",
    "        IF_at_time = IFdata[row.journal].iloc[ yearIDX ]\n",
    "        IFpub[row.status].append( IF_at_time )"
   ]
  },
  {
   "cell_type": "code",
   "execution_count": 54,
   "metadata": {},
   "outputs": [
    {
     "data": {
      "image/png": "[encoded data removed]",
      "text/plain": [
       "<Figure size 201.6x144 with 1 Axes>"
      ]
     },
     "metadata": {
      "needs_background": "light"
     },
     "output_type": "display_data"
    }
   ],
   "source": [
    "f, ax = pl.subplots( 1, 1, figsize=(2.8, 2.0) )\n",
    "\n",
    "# let's make sure the order is maintained:\n",
    "data = [IFpub[4], IFpub[-1], IFpub[1], IFpub[3]]\n",
    "\n",
    "parts = ax.violinplot( data, [0,1,2,3], showmeans=False, showmedians=False, \n",
    "                              showextrema=False, widths=0.7, points=200 )\n",
    "                          \n",
    "colors_list = [colors[j] for j in [4, -1, 1, 3]]\n",
    "\n",
    "j = 0\n",
    "for pc in parts['bodies']:\n",
    "    pc.set_facecolor(colors_list[j])\n",
    "    pc.set_edgecolor( (0.2,0.2,0.2) )\n",
    "    pc.set_edgecolors( (0.2,0.2,0.2) )\n",
    "    pc.set_alpha(1)\n",
    "    j += 1\n",
    "    \n",
    "\n",
    "def buttpos(x): return [x-0.05,x+0.05]\n",
    "for j in range(4):\n",
    "    pl.plot(buttpos(j), [np.mean(data[j])]*2, color=\"k\", \n",
    "                linewidth=6, solid_capstyle=\"butt\", zorder=4)\n",
    "\n",
    "for j in range(4):\n",
    "    ax.text( j-0.4, -2, 'n='+str(len(data[j])), fontsize=7 )\n",
    "\n",
    "ax.set_ylim(-3,14)\n",
    "ax.set_ylabel('Impact factor')\n",
    "\n",
    "ax.set_xlabel('')\n",
    "ax.set_xticks([0,1,2,3])\n",
    "ax.set_xticklabels( ['Broken','Timeout','Accessible','Redirected'], \n",
    "                       rotation=-25, fontsize=8 )\n",
    "pl.tight_layout()\n",
    "simpleaxis(ax)\n",
    "\n",
    "pl.savefig('1c.pdf',bbox_inches = \"tight\")"
   ]
  },
  {
   "cell_type": "code",
   "execution_count": 55,
   "metadata": {},
   "outputs": [
    {
     "name": "stdout",
     "output_type": "stream",
     "text": [
      "24.359809847248638 9.68328383694048e-16\n",
      "      type  journal   id  link  code  newtest  oldcode  status\n",
      "year                                                          \n",
      "2005   390      390  390   390   390      245      245     390\n",
      "2006   464      464  464   464   464      283      283     464\n",
      "2007   428      428  428   428   428      268      268     428\n",
      "2008   536      536  536   536   536      315      315     536\n",
      "2009   729      729  729   729   729      424      424     729\n",
      "2010   691      691  691   691   691      391      391     691\n",
      "2011   592      592  592   592   592      324      324     592\n",
      "2012   657      657  656   657   657      356      356     657\n",
      "2013   668      668  668   668   668      372      372     668\n",
      "2014   577      577  577   577   577      307      307     577\n",
      "2015   524      524  524   524   524      310      310     524\n",
      "2016   579      579  579   579   579      378      378     579\n",
      "2017   348      348  348   348   348      212      212     348\n"
     ]
    }
   ],
   "source": [
    "from scipy import stats\n",
    "f_value, p_value = stats.f_oneway(data[0], data[1], data[3], data[2])\n",
    "print(f_value, p_value)\n",
    "\n",
    "print(uniqueLinks_abs.groupby(['year']).agg('count'))"
   ]
  },
  {
   "cell_type": "markdown",
   "metadata": {},
   "source": [
    "## Evolution of IF of each category over the years"
   ]
  },
  {
   "cell_type": "code",
   "execution_count": 56,
   "metadata": {},
   "outputs": [],
   "source": [
    "IFpub = {}\n",
    "Z = {}\n",
    "for status in  [1,3,-1,4]:\n",
    "    IFpub[status] = np.zeros(12)\n",
    "    Z[status] = np.zeros(12)\n",
    "\n",
    "for index, row in uniqueLinks.iterrows():\n",
    "    year = row.year\n",
    "    if ( year >= 2003 ) and ( year <= 2017 ) :\n",
    "        \n",
    "        # there's no IF for 2017 yet\n",
    "        if year == 2017: year = 2016\n",
    "            \n",
    "        yearIDX = year - 2005\n",
    "        IF_at_time = IFdata[row.journal].iloc[ yearIDX ]\n",
    "        IFpub[row.status][yearIDX] += IF_at_time\n",
    "        Z[row.status][yearIDX] += 1"
   ]
  },
  {
   "cell_type": "code",
   "execution_count": 57,
   "metadata": {},
   "outputs": [
    {
     "data": {
      "image/png": "[encoded data removed]",
      "text/plain": [
       "<Figure size 432x288 with 1 Axes>"
      ]
     },
     "metadata": {
      "needs_background": "light"
     },
     "output_type": "display_data"
    }
   ],
   "source": [
    "for s in [4,-1,1,3]:\n",
    "    pl.plot( IFpub[s]/Z[s], color=colors[s] )"
   ]
  },
  {
   "cell_type": "markdown",
   "metadata": {},
   "source": [
    "## Retrieving altmetric data"
   ]
  },
  {
   "cell_type": "code",
   "execution_count": 58,
   "metadata": {},
   "outputs": [],
   "source": [
    "def parseAltmetricData(filename):\n",
    "\n",
    "    parsedData = {}\n",
    "\n",
    "    inputfile = open( filename, 'r' )\n",
    "\n",
    "    # skipping first row\n",
    "    inputfile.readline()\n",
    "\n",
    "    for line in inputfile:\n",
    "\n",
    "        lineSplit = line.split('\\n')[0].split('[')\n",
    "\n",
    "        ls_comma  = lineSplit[0].split(',')\n",
    "        pmid      = int( ls_comma[0] )\n",
    "        parsedData[pmid] = {}\n",
    "\n",
    "        score     = float( ls_comma[1] )\n",
    "        parsedData[pmid]['score'] = score\n",
    "\n",
    "        numReaders = int( ls_comma[2] )\n",
    "        parsedData[pmid]['numReaders'] = numReaders\n",
    "\n",
    "        cited     = int( ls_comma[3] )\n",
    "        parsedData[pmid]['cited'] = cited\n",
    "\n",
    "        scopus = lineSplit[1][:-1]\n",
    "        parsedData[pmid]['scopus'] = scopus\n",
    "\n",
    "    return parsedData\n",
    "\n",
    "dictAltmetric = parseAltmetricData('./links.bulk.altmetric.csv')"
   ]
  },
  {
   "cell_type": "code",
   "execution_count": 59,
   "metadata": {},
   "outputs": [
    {
     "name": "stdout",
     "output_type": "stream",
     "text": [
      "Number of Altmetric records: 13889 \n"
     ]
    }
   ],
   "source": [
    "print( 'Number of Altmetric records: %d ' % (len(dictAltmetric.keys())) )"
   ]
  },
  {
   "cell_type": "code",
   "execution_count": 60,
   "metadata": {},
   "outputs": [],
   "source": [
    "import matplotlib as mpl\n",
    "mpl.rcParams['hatch.linewidth'] = 3  # previous pdf hatch linewidth"
   ]
  },
  {
   "cell_type": "markdown",
   "metadata": {},
   "source": [
    "## Altmetric score"
   ]
  },
  {
   "cell_type": "code",
   "execution_count": 61,
   "metadata": {},
   "outputs": [],
   "source": [
    "scores = {}\n",
    "for status in  [1,3,-1,4]:\n",
    "    scores[status] = []\n",
    "\n",
    "for index, row in uniqueLinks.iterrows():\n",
    "    if row.id in dictAltmetric.keys():\n",
    "        numYears = (year - 2003)\n",
    "        scores[ row.status ].append( dictAltmetric[row.id]['score'] )"
   ]
  },
  {
   "cell_type": "code",
   "execution_count": 62,
   "metadata": {},
   "outputs": [
    {
     "data": {
      "image/png": "[encoded data removed]",
      "text/plain": [
       "<Figure size 252x108 with 1 Axes>"
      ]
     },
     "metadata": {
      "needs_background": "light"
     },
     "output_type": "display_data"
    }
   ],
   "source": [
    "f, ax = pl.subplots( 1, 1, figsize=(3.5, 1.5) )\n",
    "\n",
    "# let's make sure the order is maintained:\n",
    "data = [scores[4], scores[-1], scores[1], scores[3]]\n",
    "\n",
    "parts = ax.violinplot( data, [0,1,2,3], showmeans=False, showmedians=False, \n",
    "                              showextrema=False, widths=0.7, points=500 )\n",
    "\n",
    "j = 0\n",
    "for pc in parts['bodies']:\n",
    "    pc.set_facecolor(colors_list[j])\n",
    "    pc.set_edgecolor( (0.2,0.2,0.2) )\n",
    "    pc.set_edgecolors( (0.2,0.2,0.2) )\n",
    "    pc.set_alpha(1)\n",
    "    j += 1\n",
    "    \n",
    "\n",
    "def buttpos(x): return [x-0.05,x+0.05]\n",
    "for j in range(4):\n",
    "    pl.plot(buttpos(j), [np.mean(data[j])]*2, color=\"k\", \n",
    "                linewidth=6, solid_capstyle=\"butt\", zorder=4)\n",
    "\n",
    "for j in range(4):\n",
    "    ax.text( j-0.3, -2.5, 'n='+str(len(data[j])), fontsize=7 )\n",
    "\n",
    "ax.set_ylim(-4,30)\n",
    "ax.set_ylabel('Altmetric score')\n",
    "\n",
    "ax.set_xlabel('')\n",
    "ax.set_xticks([0,1,2,3])\n",
    "ax.set_xticklabels( ['Broken','Timeout','Accessible','Redirected'], \n",
    "                       rotation=-25, fontsize=8)\n",
    "\n",
    "simpleaxis(ax)\n",
    "\n",
    "pl.savefig('Altmetric Score vs status.pdf')"
   ]
  },
  {
   "cell_type": "code",
   "execution_count": 63,
   "metadata": {},
   "outputs": [
    {
     "data": {
      "image/png": "[encoded data removed]",
      "text/plain": [
       "<Figure size 129.6x100.8 with 1 Axes>"
      ]
     },
     "metadata": {
      "needs_background": "light"
     },
     "output_type": "display_data"
    }
   ],
   "source": [
    "f, ax = pl.subplots( 1, 1, figsize=(1.8, 1.4) )\n",
    "\n",
    "# let's make sure the order is maintained:\n",
    "data = [ np.mean(scores[4]), np.mean(scores[-1]), np.mean(scores[1] + scores[3]) ]\n",
    "vardata = [ np.std(scores[4])/np.sqrt(len(scores[4])), \n",
    "           np.std(scores[-1])/np.sqrt(len(scores[-1])), \n",
    "           np.std(scores[1] + scores[3])/np.sqrt(len(scores[1] + scores[3])) ]\n",
    "\n",
    "pl.bar( [0,1,2], data, 0.7, yerr=vardata, color=colors_list, \n",
    "           edgecolor=[(0.2,0.2,0.2)]*3, lw=1.3, capsize=8 )\n",
    "\n",
    "pl.bar( [2], data[2:], 0.7, yerr=vardata[2:], color=colors_list[2:], hatch=\"//\",\n",
    "           edgecolor=[(0.1,0.4,1.0)]*3, lw=1.5, capsize=8 )\n",
    "pl.bar( [2], data[2:], 0.7, yerr=vardata[2:], color='none',\n",
    "           edgecolor=[(0.0,0.0,0.0)]*3, lw=1.5, capsize=8 )\n",
    "\n",
    "ax.set_ylabel('Altmetric score')\n",
    "ax.set_ylim(0,18)\n",
    "ax.set_yticks([0,5,10,15])\n",
    "\n",
    "ax.set_xlabel('')\n",
    "ax.set_xticks([0,1,2])\n",
    "ax.set_xlim(-0.5,2.5)\n",
    "ax.set_xticklabels( ['Broken','Timeout','Accessible'], \n",
    "                       rotation=-25, fontsize=9)\n",
    "\n",
    "ax.text(1.3, 18, '*', fontsize=12)\n",
    "ax.plot([2,2,0.5,0.5], [16,18,18,16], color='k', lw=1.5)\n",
    "ax.plot([1,0], [16,16], color='k', lw=1.5)\n",
    "\n",
    "simpleaxis(ax)\n",
    "\n",
    "pl.savefig('1f.pdf',bbox_inches = \"tight\")"
   ]
  },
  {
   "cell_type": "code",
   "execution_count": 64,
   "metadata": {},
   "outputs": [
    {
     "name": "stdout",
     "output_type": "stream",
     "text": [
      "KruskalResult(statistic=209.05549756953258, pvalue=4.659175431286011e-45)\n",
      "[[-1.00000000e+00  5.16142689e-02  2.47344772e-17]\n",
      " [ 5.16142689e-02 -1.00000000e+00  4.15518624e-14]\n",
      " [ 2.47344772e-17  4.15518624e-14 -1.00000000e+00]]\n"
     ]
    }
   ],
   "source": [
    "from scipy.stats.mstats import kruskalwallis\n",
    "print(kruskalwallis(scores[-1],scores[4],scores[1],scores[3]))\n",
    "\n",
    "lists = scores[-1]+scores[4]+scores[1]+scores[3]\n",
    "categories = len(scores[-1])*[-1]+len(scores[4])*[4]+len(scores[1]+scores[3])*[1]\n",
    "\n",
    "print(sph.posthoc_dunn([scores[-1],scores[4],(scores[1]+scores[3])], p_adjust='fdr_bh'))"
   ]
  },
  {
   "cell_type": "markdown",
   "metadata": {},
   "source": [
    "## Altmetric number of readers"
   ]
  },
  {
   "cell_type": "code",
   "execution_count": 65,
   "metadata": {},
   "outputs": [],
   "source": [
    "scores = {}\n",
    "for status in  [1,3,-1,4]:\n",
    "    scores[status] = []\n",
    "\n",
    "for index, row in uniqueLinks.iterrows():\n",
    "    if row.id in dictAltmetric.keys():\n",
    "        numYears = (year - 2003)\n",
    "        scores[ row.status ].append( dictAltmetric[row.id]['numReaders'] / numYears )"
   ]
  },
  {
   "cell_type": "code",
   "execution_count": 66,
   "metadata": {},
   "outputs": [
    {
     "data": {
      "image/png": "[encoded data removed]",
      "text/plain": [
       "<Figure size 252x129.6 with 1 Axes>"
      ]
     },
     "metadata": {
      "needs_background": "light"
     },
     "output_type": "display_data"
    }
   ],
   "source": [
    "f, ax = pl.subplots( 1, 1, figsize=(3.5, 1.8) )\n",
    "\n",
    "# let's make sure the order is maintained:\n",
    "data = [scores[4], scores[-1], scores[1], scores[3]]\n",
    "\n",
    "parts = ax.violinplot( data, [0,1,2,3], showmeans=True, showmedians=False, \n",
    "                              showextrema=False, widths=0.7, points=500 )\n",
    "\n",
    "j = 0\n",
    "for pc in parts['bodies']:\n",
    "    pc.set_facecolor(colors_list[j])\n",
    "    pc.set_edgecolor( (0.2,0.2,0.2) )\n",
    "    pc.set_edgecolors( (0.2,0.2,0.2) )\n",
    "    pc.set_alpha(1)\n",
    "    j += 1\n",
    "    \n",
    "\n",
    "def buttpos(x): return [x-0.05,x+0.05]\n",
    "for j in range(4):\n",
    "    pl.plot(buttpos(j), [np.mean(data[j])]*2, color=\"k\", \n",
    "                linewidth=6, solid_capstyle=\"butt\", zorder=4)\n",
    "\n",
    "# for j in range(4):\n",
    "#     ax.text( j-0.4, -2, 'n='+str(len(data[j])), fontsize=7 )\n",
    "\n",
    "ax.set_ylim(0,20)\n",
    "ax.set_ylabel('Altmetric readership')\n",
    "\n",
    "ax.set_xlabel('')\n",
    "ax.set_xticks([0,1,2,3])\n",
    "ax.set_xticklabels( ['Broken','Timeout','Accessible','Redirected'], rotation=-25 )\n",
    "\n",
    "simpleaxis(ax)\n",
    "\n",
    "pl.savefig('Altmetric numReaders vs status.pdf')"
   ]
  },
  {
   "cell_type": "code",
   "execution_count": 67,
   "metadata": {},
   "outputs": [
    {
     "data": {
      "image/png": "[encoded data removed]",
      "text/plain": [
       "<Figure size 129.6x100.8 with 1 Axes>"
      ]
     },
     "metadata": {
      "needs_background": "light"
     },
     "output_type": "display_data"
    }
   ],
   "source": [
    "f, ax = pl.subplots( 1, 1, figsize=(1.8, 1.4) )\n",
    "\n",
    "# let's make sure the order is maintained:\n",
    "data = [ np.mean(scores[4]), np.mean(scores[-1]), np.mean(scores[1] + scores[3]) ]\n",
    "vardata = [ np.std(scores[4])/np.sqrt(len(scores[4])), \n",
    "           np.std(scores[-1])/np.sqrt(len(scores[-1])), \n",
    "           np.std(scores[1] + scores[3])/np.sqrt(len(scores[1] + scores[3])) ]\n",
    "\n",
    "colors=[(1.0,0.2,0.1),(1.0,0.6,0.2),(0.5,1.0,0.5)]\n",
    "pl.bar( [0,1,2], data, 0.7, yerr=vardata, color=colors_list, \n",
    "           edgecolor=[(0.2,0.2,0.2)]*3, lw=1.3, capsize=8 )\n",
    "\n",
    "pl.bar( [2], data[2:], 0.7, yerr=vardata[2:], color=colors_list[2:], hatch=\"//\",\n",
    "           edgecolor=[(0.1,0.4,1.0)]*3, lw=1.5, capsize=8 )\n",
    "pl.bar( [2], data[2:], 0.7, yerr=vardata[2:], color='none',\n",
    "           edgecolor=[(0.0,0.0,0.0)]*3, lw=1.5, capsize=8 )\n",
    "\n",
    "\n",
    "ax.set_ylim(0,12)\n",
    "ax.set_ylabel('Altmetric \\n readership')\n",
    "\n",
    "ax.set_xlabel('')\n",
    "ax.set_xlim(-0.5,2.5)\n",
    "ax.set_xticks([0,1,2])\n",
    "ax.set_xticklabels( ['Broken','Timeout','Accessible'], \n",
    "                       rotation=-25, fontsize=9)\n",
    "\n",
    "ax.text(1.1, 11, '*', fontsize=12)\n",
    "ax.plot([2,2,0.5,0.5], [10,11,11,10], color='k', lw=1.5)\n",
    "ax.plot([1,0], [10,10], color='k', lw=1.5)\n",
    "\n",
    "simpleaxis(ax)\n",
    "\n",
    "pl.savefig('1e.pdf',bbox_inches = \"tight\")"
   ]
  },
  {
   "cell_type": "code",
   "execution_count": 68,
   "metadata": {},
   "outputs": [
    {
     "name": "stdout",
     "output_type": "stream",
     "text": [
      "[[-1.00000000e+00  2.07209979e-01  1.16657681e-06]\n",
      " [ 2.07209979e-01 -1.00000000e+00  8.42073375e-15]\n",
      " [ 1.16657681e-06  8.42073375e-15 -1.00000000e+00]]\n"
     ]
    }
   ],
   "source": [
    "lists = scores[-1]+scores[4]+scores[1]+scores[3]\n",
    "categories = len(scores[-1])*[-1]+len(scores[4])*[4]+len(scores[1]+scores[3])*[1]\n",
    "\n",
    "print(sph.posthoc_dunn([scores[-1],scores[4],(scores[1]+scores[3])], p_adjust='fdr_bh'))"
   ]
  },
  {
   "cell_type": "markdown",
   "metadata": {},
   "source": [
    "## Altmetric citation"
   ]
  },
  {
   "cell_type": "code",
   "execution_count": 69,
   "metadata": {},
   "outputs": [],
   "source": [
    "scores = {}\n",
    "for status in  [1,3,-1,4]:\n",
    "    scores[status] = []\n",
    "\n",
    "for index, row in uniqueLinks.iterrows():\n",
    "    if row.id in dictAltmetric.keys():\n",
    "        numYears = (year - 2003)\n",
    "        scores[ row.status ].append( dictAltmetric[row.id]['cited'] / numYears )"
   ]
  },
  {
   "cell_type": "code",
   "execution_count": 70,
   "metadata": {},
   "outputs": [
    {
     "data": {
      "image/png": "[encoded data removed]",
      "text/plain": [
       "<Figure size 252x108 with 1 Axes>"
      ]
     },
     "metadata": {
      "needs_background": "light"
     },
     "output_type": "display_data"
    }
   ],
   "source": [
    "f, ax = pl.subplots( 1, 1, figsize=(3.5, 1.5) )\n",
    "\n",
    "# let's make sure the order is maintained:\n",
    "data = [scores[4], scores[-1], scores[1], scores[3]]\n",
    "\n",
    "parts = ax.violinplot( data, [0,1,2,3], showmeans=False, showmedians=False, \n",
    "                              showextrema=False, widths=0.7, points=500 )\n",
    "\n",
    "j = 0\n",
    "for pc in parts['bodies']:\n",
    "    pc.set_facecolor(colors_list[j])\n",
    "    pc.set_edgecolor( (0.2,0.2,0.2) )\n",
    "    pc.set_edgecolors( (0.2,0.2,0.2) )\n",
    "    pc.set_alpha(1)\n",
    "    j += 1\n",
    "    \n",
    "\n",
    "def buttpos(x): return [x-0.05,x+0.05]\n",
    "for j in range(4):\n",
    "    pl.plot(buttpos(j), [np.mean(data[j])]*2, color=\"k\", \n",
    "                linewidth=6, solid_capstyle=\"butt\", zorder=4)\n",
    "\n",
    "# for j in range(4):\n",
    "#     ax.text( j-0.4, -2, 'n='+str(len(data[j])), fontsize=7 )\n",
    "\n",
    "ax.set_ylim(0,9)\n",
    "ax.set_ylabel('Social media \\n citations per year')\n",
    "ax.set_yticks([0,2,4,6,8])\n",
    "\n",
    "ax.set_xlabel('')\n",
    "ax.set_xticks([0,1,2,3])\n",
    "ax.set_xticklabels( ['Broken','Timeout','Accessible','Redirected'], \n",
    "                       rotation=-25, fontsize=8 )\n",
    "\n",
    "simpleaxis(ax)\n",
    "\n",
    "pl.savefig('Altmetric Cited vs status.pdf')"
   ]
  },
  {
   "cell_type": "code",
   "execution_count": 71,
   "metadata": {},
   "outputs": [
    {
     "data": {
      "image/png": "[encoded data removed]",
      "text/plain": [
       "<Figure size 129.6x100.8 with 1 Axes>"
      ]
     },
     "metadata": {
      "needs_background": "light"
     },
     "output_type": "display_data"
    }
   ],
   "source": [
    "f, ax = pl.subplots( 1, 1, figsize=(1.8, 1.4) )\n",
    "\n",
    "# let's make sure the order is maintained:\n",
    "data = [ np.mean(scores[4]), np.mean(scores[-1]), np.mean(scores[1] + scores[3]) ]\n",
    "vardata = [ np.std(scores[4])/np.sqrt(len(scores[4])), \n",
    "           np.std(scores[-1])/np.sqrt(len(scores[-1])), \n",
    "           np.std(scores[1] + scores[3])/np.sqrt(len(scores[1] + scores[3])) ]\n",
    "\n",
    "colors=[(1.0,0.2,0.1),(1.0,0.6,0.2),(0.5,1.0,0.5)]\n",
    "pl.bar( [0,1,2], data, 0.7, yerr=vardata, color=colors_list, \n",
    "           edgecolor=[(0.2,0.2,0.2)]*3, lw=1.3, capsize=8 )\n",
    "\n",
    "pl.bar( [2], data[2:], 0.7, yerr=vardata[2:], color=colors_list[2:], hatch=\"//\",\n",
    "           edgecolor=[(0.1,0.4,1.0)]*3, lw=1.5, capsize=8 )\n",
    "pl.bar( [2], data[2:], 0.7, yerr=vardata[2:], color='none',\n",
    "           edgecolor=[(0.0,0.0,0.0)]*3, lw=1.5, capsize=8 )\n",
    "\n",
    "\n",
    "ax.set_ylim(0,5)\n",
    "ax.set_ylabel('Social media \\n citations per year')\n",
    "\n",
    "ax.set_xlabel('')\n",
    "ax.set_xlim(-0.5,2.5)\n",
    "ax.set_xticks([0,1,2])\n",
    "ax.set_xticklabels( ['Broken','Timeout','Accessible'], \n",
    "                       rotation=-25, fontsize=9)\n",
    "\n",
    "\n",
    "# ax.text(1.3, 4.7, '*', fontsize=12)\n",
    "# ax.plot([2,2,0.5,0.5], [4,4.7,4.7,4], color='k', lw=1.5)\n",
    "# ax.plot([0,1], [4,4], color='k', lw=1.5)\n",
    "simpleaxis(ax)\n",
    "\n",
    "pl.savefig('1d.pdf',bbox_inches = \"tight\")"
   ]
  },
  {
   "cell_type": "code",
   "execution_count": 72,
   "metadata": {},
   "outputs": [
    {
     "name": "stdout",
     "output_type": "stream",
     "text": [
      "KruskalResult(statistic=864.2781619098679, pvalue=4.956215510645483e-187)\n",
      "[[-1.00000000e+000  1.22907386e-007  9.65803244e-103]\n",
      " [ 1.22907386e-007 -1.00000000e+000  3.37058804e-076]\n",
      " [ 9.65803244e-103  3.37058804e-076 -1.00000000e+000]]\n"
     ]
    }
   ],
   "source": [
    "lists = scores[-1]+scores[4]+scores[1]+scores[3]\n",
    "categories = len(scores[-1])*[-1]+len(scores[4])*[4]+len(scores[1]+scores[3])*[1]\n",
    "\n",
    "from scipy.stats.mstats import kruskalwallis\n",
    "print(kruskalwallis(scores[-1],scores[4],scores[1],scores[3]))\n",
    "\n",
    "print(sph.posthoc_dunn([scores[-1],scores[4],(scores[1]+scores[3])], p_adjust='fdr_bh'))\n"
   ]
  },
  {
   "cell_type": "markdown",
   "metadata": {},
   "source": [
    " "
   ]
  }
 ],
 "metadata": {
  "kernelspec": {
   "display_name": "Python 3",
   "language": "python",
   "name": "python3"
  },
  "language_info": {
   "codemirror_mode": {
    "name": "ipython",
    "version": 3
   },
   "file_extension": ".py",
   "mimetype": "text/x-python",
   "name": "python",
   "nbconvert_exporter": "python",
   "pygments_lexer": "ipython3",
   "version": "3.6.7"
  }
 },
 "nbformat": 4,
 "nbformat_minor": 2
}
